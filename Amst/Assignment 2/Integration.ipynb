{
 "cells": [
  {
   "cell_type": "code",
   "execution_count": 35,
   "metadata": {},
   "outputs": [],
   "source": [
    "import numpy as np\n",
    "import pandas as pd\n",
    "from scipy.optimize import minimize\n",
    "from pandas_datareader import DataReader\n",
    "from datetime import datetime\n",
    "import matplotlib.pyplot as plt\n",
    "import yfinance as yf\n",
    "from statsmodels.tsa.stattools import adfuller, kpss\n"
   ]
  },
  {
   "cell_type": "code",
   "execution_count": 36,
   "metadata": {},
   "outputs": [
    {
     "name": "stderr",
     "output_type": "stream",
     "text": [
      "[*********************100%***********************]  1 of 1 completed\n"
     ]
    }
   ],
   "source": [
    "start_date = datetime(2023,1,1)\n",
    "end_date = datetime(2024,1,31)\n",
    "stock_symbol = 'AAPL'\n",
    "stock = yf.download(stock_symbol,start_date ,end_date)\n",
    "Y = stock['Adj Close'].values"
   ]
  },
  {
   "cell_type": "code",
   "execution_count": 37,
   "metadata": {},
   "outputs": [
    {
     "name": "stdout",
     "output_type": "stream",
     "text": [
      "ADF Statistic: -0.5934911527125231\n",
      "p-value: 0.8724459873185413\n",
      "Critical Values: {'1%': -3.4548957220044336, '5%': -2.8723451788613157, '10%': -2.572527778361272}\n"
     ]
    }
   ],
   "source": [
    "# Perform the ADF test\n",
    "adf_result = adfuller(Y)\n",
    "\n",
    "# Extract and print the results\n",
    "print(\"ADF Statistic:\", adf_result[0])\n",
    "print(\"p-value:\", adf_result[1])\n",
    "print(\"Critical Values:\", adf_result[4])"
   ]
  },
  {
   "cell_type": "code",
   "execution_count": 38,
   "metadata": {},
   "outputs": [
    {
     "name": "stdout",
     "output_type": "stream",
     "text": [
      "KPSS Statistic: 2.322791666489669\n",
      "p-value: 0.01\n",
      "Critical Values: {'10%': 0.347, '5%': 0.463, '2.5%': 0.574, '1%': 0.739}\n"
     ]
    },
    {
     "name": "stderr",
     "output_type": "stream",
     "text": [
      "C:\\Users\\56111\\AppData\\Local\\Temp\\ipykernel_30024\\1609798525.py:2: InterpolationWarning: The test statistic is outside of the range of p-values available in the\n",
      "look-up table. The actual p-value is smaller than the p-value returned.\n",
      "\n",
      "  kpss_result = kpss(Y, regression='c')\n"
     ]
    }
   ],
   "source": [
    "# Perform the KPSS test\n",
    "kpss_result = kpss(Y, regression='c')\n",
    "\n",
    "# Extract and print the results\n",
    "print(\"KPSS Statistic:\", kpss_result[0])\n",
    "print(\"p-value:\", kpss_result[1])\n",
    "print(\"Critical Values:\", kpss_result[3])"
   ]
  },
  {
   "cell_type": "markdown",
   "metadata": {},
   "source": []
  }
 ],
 "metadata": {
  "kernelspec": {
   "display_name": "Python 3",
   "language": "python",
   "name": "python3"
  },
  "language_info": {
   "codemirror_mode": {
    "name": "ipython",
    "version": 3
   },
   "file_extension": ".py",
   "mimetype": "text/x-python",
   "name": "python",
   "nbconvert_exporter": "python",
   "pygments_lexer": "ipython3",
   "version": "3.8.10"
  }
 },
 "nbformat": 4,
 "nbformat_minor": 2
}
