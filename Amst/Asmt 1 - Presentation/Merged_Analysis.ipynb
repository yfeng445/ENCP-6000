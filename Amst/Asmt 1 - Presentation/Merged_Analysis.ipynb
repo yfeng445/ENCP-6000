{
 "cells": [
  {
   "cell_type": "code",
   "execution_count": null,
   "metadata": {},
   "outputs": [],
   "source": [
    "# Global Tools\n",
    "import os\n",
    "\n",
    "import matplotlib.pyplot as plt\n",
    "import numpy as np\n",
    "import pandas as pd\n",
    "import seaborn as sns\n",
    "import scipy.stats as ss\n",
    "import yfinance as yf\n",
    "\n",
    "from datetime import datetime\n",
    "from IPython.core.interactiveshell import InteractiveShell\n",
    "from pandas_datareader import DataReader\n",
    "from scipy.stats import gaussian_kde\n",
    "from scipy.integrate import simps\n",
    "from scipy.optimize import minimize\n",
    "from tqdm import tqdm"
   ]
  },
  {
   "cell_type": "code",
   "execution_count": null,
   "metadata": {},
   "outputs": [],
   "source": [
    "# display all outputs of a cell\n",
    "InteractiveShell.ast_node_interactivity = \"all\""
   ]
  },
  {
   "cell_type": "code",
   "execution_count": null,
   "metadata": {},
   "outputs": [],
   "source": [
    "# Data initialization\n",
    "start_date = datetime(2020, 1, 1)\n",
    "end_date = datetime(2024, 8, 31)\n",
    "stock_symbols = ['NVDA', 'AMD', 'INTC', 'QCOM', 'AAPL', 'AVGO']\n",
    "stocks= yf.download(stock_symbols, start_date, end_date)['Adj Close']"
   ]
  },
  {
   "cell_type": "markdown",
   "metadata": {},
   "source": [
    "### Empirical Distribution"
   ]
  },
  {
   "cell_type": "code",
   "execution_count": null,
   "metadata": {},
   "outputs": [],
   "source": [
    "results = pd.DataFrame(columns=['Company', 'Mean', 'Variance', 'Skewness', 'Kurtosis'])\n",
    "color = ['#76B900', '#B03060', '#5A9BD5', '#002366', '#A2AAAD', '#DC143C']\n",
    "plt.style.use('dark_background')\n",
    "fig, ax = plt.subplots(figsize=(10, 6), dpi=150)\n",
    "for i in range(len(stock_symbols)): \n",
    "    X = stocks[stock_symbols[i]].dropna().values\n",
    "    mean = round(np.mean(X), 2)\n",
    "    variance = round(np.var(X), 2)\n",
    "    skewness = round(ss.skew(X, axis=0, bias=True), 2)\n",
    "    kurtosis = round(ss.kurtosis(X, axis=0, bias=True) + 3, 2) \n",
    "    \n",
    "    print(f\"{stock_symbols[i]}:\")\n",
    "    print(f\"Mean: {mean}\")\n",
    "    print(f\"Variance: {variance}\")\n",
    "    print(f\"Skewness: {skewness}\")\n",
    "    print(f\"Kurtosis: {kurtosis}\")\n",
    " \n",
    "    sns.kdeplot(data=X, linewidth=1.5, label=stock_symbols[i], color=color[i])  \n",
    "\n",
    "#ax.set_title(\"Empirical Distributions of Adjusted Close Prices (Jan 2020 - Aug 2024)\", color='white')\n",
    "ax.set_xlabel(\"Adjusted Close Price\", color='grey')  \n",
    "ax.set_ylabel(\"Density\", color='white')\n",
    "ax.legend(title=\"Company\", title_fontsize='13', fontsize='11')  "
   ]
  },
  {
   "cell_type": "code",
   "execution_count": null,
   "metadata": {},
   "outputs": [],
   "source": []
  },
  {
   "cell_type": "markdown",
   "metadata": {},
   "source": [
    "### Monte-Carlo"
   ]
  },
  {
   "cell_type": "code",
   "execution_count": 1,
   "metadata": {},
   "outputs": [],
   "source": [
    "def monte_carlo_simulation(mu_1, sigma1, \n",
    "                           mu_2, sigma2, \n",
    "                           p, T=1000):\n",
    "    r = np.zeros(T)\n",
    "    for t in range(T):\n",
    "        eps1 = np.random.normal(0,1,1)\n",
    "        eps2 = np.random.normal(0,1,1)\n",
    "        r1 = mu_1 + sigma1 * eps1\n",
    "        r2 = mu_2 + sigma2 * eps2\n",
    "        u = np.random.uniform(0,1,1)\n",
    "        r[t] = r1*(u <= p)+r2*(u > p)\n",
    "    \n",
    "    return r\n",
    "\n",
    "def simulation_image(parameters, save_path):\n",
    "    current_X, mu_1, sigma1, mu_2, sigma2, p =  parameters[0], parameters[1], parameters[2],parameters[3], parameters[4], parameters[5]\n",
    " \n",
    "    plt.figure(figsize=(10,6))\n",
    "    fig, ax = plt.subplots()\n",
    "    sns.kdeplot(data=current_X, linewidth=4)\n",
    "    initalR = monte_carlo_simulation(mu_1, sigma1, mu_2, sigma2, p, T=1000)\n",
    "    plt.hist(initalR, bins=100, density=True, alpha=0.6, color='green', label=\"Histogram\")\n",
    "    ax.legend([f'Empirical Kernal Distribution: {save_path}', 'Mixture Model Simulated Distribution'])\n",
    "    plt.title(f'Monte Carlo Simulation\\n,sigma1={sigma1},sigma2={sigma2}')\n",
    "    ## Save Image\n",
    "    imagePath = os.path.join(save_path,f\"{save_path},sigma1={sigma1},sigma2={sigma2}'.png\")\n",
    "    \n",
    "    if not os.path.exists(save_path):\n",
    "        os.makedirs(save_path)\n",
    "    plt.savefig(imagePath)\n",
    "\n",
    "def calculateOverlap(parameters):\n",
    "    \n",
    "    current_X, mu_1, sigma1, mu_2, sigma2, p =  parameters[0], parameters[1], parameters[2],parameters[3], parameters[4], parameters[5]\n",
    "    r = monte_carlo_simulation(mu_1, sigma1, \n",
    "                               mu_2, sigma2, \n",
    "                          p)\n",
    "    \n",
    "    histArea, bin_edges = np.histogram(r, bins=100, density=True)\n",
    "    bin_centers = 0.5 * (bin_edges[1:] + bin_edges[:-1])\n",
    "    \n",
    "    \n",
    "    kde = gaussian_kde(current_X)\n",
    "    kdeArea = kde(bin_centers)\n",
    "    \n",
    "    overlap = np.minimum(histArea, kdeArea)\n",
    "    return simps(overlap, bin_centers)\n",
    "\n",
    "# Loop \n",
    "\n",
    "def optimize_parameters(parameters, save_path, step=5):\n",
    "    bestArea = 0\n",
    "    bestParam = []\n",
    "    sigma1, sigma2 =  parameters[2], parameters[4]\n",
    "    \n",
    "    if sigma2>sigma1:\n",
    "        sigma1_range = [i for i in range(sigma1-step, sigma1+step)]\n",
    "        sigma2_range = [i for i in range(int(np.floor(sigma2-step*2)), sigma2+step*2)]\n",
    "    \n",
    "    else:\n",
    "        sigma2_range = [i for i in range(sigma2-step, sigma2+step)]\n",
    "        sigma1_range = [i for i in range(int(np.floor(sigma1-step*2)), sigma1+step*2)]\n",
    "    \n",
    "    for i in tqdm(sigma1_range):\n",
    "        for j in sigma2_range:\n",
    "            parameters[2] = i\n",
    "            parameters[4] = j\n",
    "            simulation_image(parameters, save_path)\n",
    "            \n",
    "            overlapArea = calculateOverlap(parameters)\n",
    "            \n",
    "            if bestArea <= overlapArea:\n",
    "                bestParam = parameters\n",
    "    return bestParam"
   ]
  },
  {
   "cell_type": "code",
   "execution_count": null,
   "metadata": {},
   "outputs": [],
   "source": []
  },
  {
   "cell_type": "markdown",
   "metadata": {},
   "source": [
    "### Monte-Carlo"
   ]
  },
  {
   "cell_type": "code",
   "execution_count": null,
   "metadata": {},
   "outputs": [],
   "source": []
  }
 ],
 "metadata": {
  "kernelspec": {
   "display_name": "Python 3",
   "language": "python",
   "name": "python3"
  },
  "language_info": {
   "codemirror_mode": {
    "name": "ipython",
    "version": 3
   },
   "file_extension": ".py",
   "mimetype": "text/x-python",
   "name": "python",
   "nbconvert_exporter": "python",
   "pygments_lexer": "ipython3",
   "version": "3.12.6"
  }
 },
 "nbformat": 4,
 "nbformat_minor": 2
}
