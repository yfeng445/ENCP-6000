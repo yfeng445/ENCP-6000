{
 "cells": [
  {
   "cell_type": "code",
   "execution_count": 1,
   "metadata": {},
   "outputs": [
    {
     "ename": "ModuleNotFoundError",
     "evalue": "No module named 'secrets'",
     "output_type": "error",
     "traceback": [
      "\u001b[1;31m---------------------------------------------------------------------------\u001b[0m",
      "\u001b[1;31mModuleNotFoundError\u001b[0m                       Traceback (most recent call last)",
      "Cell \u001b[1;32mIn[1], line 2\u001b[0m\n\u001b[0;32m      1\u001b[0m \u001b[38;5;66;03m# Global tools\u001b[39;00m\n\u001b[1;32m----> 2\u001b[0m \u001b[38;5;28;01mimport\u001b[39;00m \u001b[38;5;21;01mpandas\u001b[39;00m \u001b[38;5;28;01mas\u001b[39;00m \u001b[38;5;21;01mpd\u001b[39;00m\n\u001b[0;32m      3\u001b[0m \u001b[38;5;28;01mimport\u001b[39;00m \u001b[38;5;21;01mnumpy\u001b[39;00m \u001b[38;5;28;01mas\u001b[39;00m \u001b[38;5;21;01mnp\u001b[39;00m\n\u001b[0;32m      4\u001b[0m \u001b[38;5;28;01mimport\u001b[39;00m \u001b[38;5;21;01mxgboost\u001b[39;00m \u001b[38;5;28;01mas\u001b[39;00m \u001b[38;5;21;01mxgb\u001b[39;00m\n",
      "File \u001b[1;32mc:\\Users\\56111\\AppData\\Local\\Programs\\Python\\Python313\\Lib\\site-packages\\pandas\\__init__.py:50\u001b[0m\n\u001b[0;32m     43\u001b[0m     _module \u001b[38;5;241m=\u001b[39m _err\u001b[38;5;241m.\u001b[39mname\n\u001b[0;32m     44\u001b[0m     \u001b[38;5;28;01mraise\u001b[39;00m \u001b[38;5;167;01mImportError\u001b[39;00m(\n\u001b[0;32m     45\u001b[0m         \u001b[38;5;124mf\u001b[39m\u001b[38;5;124m\"\u001b[39m\u001b[38;5;124mC extension: \u001b[39m\u001b[38;5;132;01m{\u001b[39;00m_module\u001b[38;5;132;01m}\u001b[39;00m\u001b[38;5;124m not built. If you want to import \u001b[39m\u001b[38;5;124m\"\u001b[39m\n\u001b[0;32m     46\u001b[0m         \u001b[38;5;124m\"\u001b[39m\u001b[38;5;124mpandas from the source directory, you may need to run \u001b[39m\u001b[38;5;124m\"\u001b[39m\n\u001b[0;32m     47\u001b[0m         \u001b[38;5;124m\"\u001b[39m\u001b[38;5;124m'\u001b[39m\u001b[38;5;124mpython setup.py build_ext\u001b[39m\u001b[38;5;124m'\u001b[39m\u001b[38;5;124m to build the C extensions first.\u001b[39m\u001b[38;5;124m\"\u001b[39m\n\u001b[0;32m     48\u001b[0m     ) \u001b[38;5;28;01mfrom\u001b[39;00m \u001b[38;5;21;01m_err\u001b[39;00m\n\u001b[1;32m---> 50\u001b[0m \u001b[38;5;28;01mfrom\u001b[39;00m \u001b[38;5;21;01mpandas\u001b[39;00m\u001b[38;5;21;01m.\u001b[39;00m\u001b[38;5;21;01m_config\u001b[39;00m \u001b[38;5;28;01mimport\u001b[39;00m (\n\u001b[0;32m     51\u001b[0m     get_option,\n\u001b[0;32m     52\u001b[0m     set_option,\n\u001b[0;32m     53\u001b[0m     reset_option,\n\u001b[0;32m     54\u001b[0m     describe_option,\n\u001b[0;32m     55\u001b[0m     option_context,\n\u001b[0;32m     56\u001b[0m     options,\n\u001b[0;32m     57\u001b[0m )\n\u001b[0;32m     59\u001b[0m \u001b[38;5;66;03m# let init-time option registration happen\u001b[39;00m\n\u001b[0;32m     60\u001b[0m \u001b[38;5;28;01mimport\u001b[39;00m \u001b[38;5;21;01mpandas\u001b[39;00m\u001b[38;5;21;01m.\u001b[39;00m\u001b[38;5;21;01mcore\u001b[39;00m\u001b[38;5;21;01m.\u001b[39;00m\u001b[38;5;21;01mconfig_init\u001b[39;00m  \u001b[38;5;66;03m# pyright: ignore[reportUnusedImport] # noqa: F401\u001b[39;00m\n",
      "File \u001b[1;32mc:\\Users\\56111\\AppData\\Local\\Programs\\Python\\Python313\\Lib\\site-packages\\pandas\\_config\\__init__.py:20\u001b[0m\n\u001b[0;32m      1\u001b[0m \u001b[38;5;124;03m\"\"\"\u001b[39;00m\n\u001b[0;32m      2\u001b[0m \u001b[38;5;124;03mpandas._config is considered explicitly upstream of everything else in pandas,\u001b[39;00m\n\u001b[0;32m      3\u001b[0m \u001b[38;5;124;03mshould have no intra-pandas dependencies.\u001b[39;00m\n\u001b[1;32m   (...)\u001b[0m\n\u001b[0;32m      6\u001b[0m \u001b[38;5;124;03mare initialized.\u001b[39;00m\n\u001b[0;32m      7\u001b[0m \u001b[38;5;124;03m\"\"\"\u001b[39;00m\n\u001b[0;32m      8\u001b[0m __all__ \u001b[38;5;241m=\u001b[39m [\n\u001b[0;32m      9\u001b[0m     \u001b[38;5;124m\"\u001b[39m\u001b[38;5;124mconfig\u001b[39m\u001b[38;5;124m\"\u001b[39m,\n\u001b[0;32m     10\u001b[0m     \u001b[38;5;124m\"\u001b[39m\u001b[38;5;124mdetect_console_encoding\u001b[39m\u001b[38;5;124m\"\u001b[39m,\n\u001b[1;32m   (...)\u001b[0m\n\u001b[0;32m     18\u001b[0m     \u001b[38;5;124m\"\u001b[39m\u001b[38;5;124mwarn_copy_on_write\u001b[39m\u001b[38;5;124m\"\u001b[39m,\n\u001b[0;32m     19\u001b[0m ]\n\u001b[1;32m---> 20\u001b[0m \u001b[38;5;28;01mfrom\u001b[39;00m \u001b[38;5;21;01mpandas\u001b[39;00m\u001b[38;5;21;01m.\u001b[39;00m\u001b[38;5;21;01m_config\u001b[39;00m \u001b[38;5;28;01mimport\u001b[39;00m config\n\u001b[0;32m     21\u001b[0m \u001b[38;5;28;01mfrom\u001b[39;00m \u001b[38;5;21;01mpandas\u001b[39;00m\u001b[38;5;21;01m.\u001b[39;00m\u001b[38;5;21;01m_config\u001b[39;00m \u001b[38;5;28;01mimport\u001b[39;00m dates  \u001b[38;5;66;03m# pyright: ignore[reportUnusedImport]  # noqa: F401\u001b[39;00m\n\u001b[0;32m     22\u001b[0m \u001b[38;5;28;01mfrom\u001b[39;00m \u001b[38;5;21;01mpandas\u001b[39;00m\u001b[38;5;21;01m.\u001b[39;00m\u001b[38;5;21;01m_config\u001b[39;00m\u001b[38;5;21;01m.\u001b[39;00m\u001b[38;5;21;01mconfig\u001b[39;00m \u001b[38;5;28;01mimport\u001b[39;00m (\n\u001b[0;32m     23\u001b[0m     _global_config,\n\u001b[0;32m     24\u001b[0m     describe_option,\n\u001b[1;32m   (...)\u001b[0m\n\u001b[0;32m     29\u001b[0m     set_option,\n\u001b[0;32m     30\u001b[0m )\n",
      "File \u001b[1;32mc:\\Users\\56111\\AppData\\Local\\Programs\\Python\\Python313\\Lib\\site-packages\\pandas\\_config\\config.py:68\u001b[0m\n\u001b[0;32m     58\u001b[0m \u001b[38;5;28;01mfrom\u001b[39;00m \u001b[38;5;21;01mtyping\u001b[39;00m \u001b[38;5;28;01mimport\u001b[39;00m (\n\u001b[0;32m     59\u001b[0m     TYPE_CHECKING,\n\u001b[0;32m     60\u001b[0m     Any,\n\u001b[1;32m   (...)\u001b[0m\n\u001b[0;32m     64\u001b[0m     cast,\n\u001b[0;32m     65\u001b[0m )\n\u001b[0;32m     66\u001b[0m \u001b[38;5;28;01mimport\u001b[39;00m \u001b[38;5;21;01mwarnings\u001b[39;00m\n\u001b[1;32m---> 68\u001b[0m \u001b[38;5;28;01mfrom\u001b[39;00m \u001b[38;5;21;01mpandas\u001b[39;00m\u001b[38;5;21;01m.\u001b[39;00m\u001b[38;5;21;01m_typing\u001b[39;00m \u001b[38;5;28;01mimport\u001b[39;00m (\n\u001b[0;32m     69\u001b[0m     F,\n\u001b[0;32m     70\u001b[0m     T,\n\u001b[0;32m     71\u001b[0m )\n\u001b[0;32m     72\u001b[0m \u001b[38;5;28;01mfrom\u001b[39;00m \u001b[38;5;21;01mpandas\u001b[39;00m\u001b[38;5;21;01m.\u001b[39;00m\u001b[38;5;21;01mutil\u001b[39;00m\u001b[38;5;21;01m.\u001b[39;00m\u001b[38;5;21;01m_exceptions\u001b[39;00m \u001b[38;5;28;01mimport\u001b[39;00m find_stack_level\n\u001b[0;32m     74\u001b[0m \u001b[38;5;28;01mif\u001b[39;00m TYPE_CHECKING:\n",
      "File \u001b[1;32mc:\\Users\\56111\\AppData\\Local\\Programs\\Python\\Python313\\Lib\\site-packages\\pandas\\_typing.py:198\u001b[0m\n\u001b[0;32m    192\u001b[0m Frequency \u001b[38;5;241m=\u001b[39m Union[\u001b[38;5;28mstr\u001b[39m, \u001b[38;5;124m\"\u001b[39m\u001b[38;5;124mBaseOffset\u001b[39m\u001b[38;5;124m\"\u001b[39m]\n\u001b[0;32m    193\u001b[0m Axes \u001b[38;5;241m=\u001b[39m ListLike\n\u001b[0;32m    195\u001b[0m RandomState \u001b[38;5;241m=\u001b[39m Union[\n\u001b[0;32m    196\u001b[0m     \u001b[38;5;28mint\u001b[39m,\n\u001b[0;32m    197\u001b[0m     np\u001b[38;5;241m.\u001b[39mndarray,\n\u001b[1;32m--> 198\u001b[0m     \u001b[43mnp\u001b[49m\u001b[38;5;241;43m.\u001b[39;49m\u001b[43mrandom\u001b[49m\u001b[38;5;241m.\u001b[39mGenerator,\n\u001b[0;32m    199\u001b[0m     np\u001b[38;5;241m.\u001b[39mrandom\u001b[38;5;241m.\u001b[39mBitGenerator,\n\u001b[0;32m    200\u001b[0m     np\u001b[38;5;241m.\u001b[39mrandom\u001b[38;5;241m.\u001b[39mRandomState,\n\u001b[0;32m    201\u001b[0m ]\n\u001b[0;32m    203\u001b[0m \u001b[38;5;66;03m# dtypes\u001b[39;00m\n\u001b[0;32m    204\u001b[0m NpDtype \u001b[38;5;241m=\u001b[39m Union[\u001b[38;5;28mstr\u001b[39m, np\u001b[38;5;241m.\u001b[39mdtype, type_t[Union[\u001b[38;5;28mstr\u001b[39m, \u001b[38;5;28mcomplex\u001b[39m, \u001b[38;5;28mbool\u001b[39m, \u001b[38;5;28mobject\u001b[39m]]]\n",
      "File \u001b[1;32mc:\\Users\\56111\\AppData\\Local\\Programs\\Python\\Python313\\Lib\\site-packages\\numpy\\__init__.py:353\u001b[0m, in \u001b[0;36m__getattr__\u001b[1;34m(attr)\u001b[0m\n\u001b[0;32m    351\u001b[0m     \u001b[38;5;28;01mreturn\u001b[39;00m dtypes\n\u001b[0;32m    352\u001b[0m \u001b[38;5;28;01melif\u001b[39;00m attr \u001b[38;5;241m==\u001b[39m \u001b[38;5;124m\"\u001b[39m\u001b[38;5;124mrandom\u001b[39m\u001b[38;5;124m\"\u001b[39m:\n\u001b[1;32m--> 353\u001b[0m     \u001b[38;5;28;01mimport\u001b[39;00m \u001b[38;5;21;01mnumpy\u001b[39;00m\u001b[38;5;21;01m.\u001b[39;00m\u001b[38;5;21;01mrandom\u001b[39;00m \u001b[38;5;28;01mas\u001b[39;00m \u001b[38;5;21;01mrandom\u001b[39;00m\n\u001b[0;32m    354\u001b[0m     \u001b[38;5;28;01mreturn\u001b[39;00m random\n\u001b[0;32m    355\u001b[0m \u001b[38;5;28;01melif\u001b[39;00m attr \u001b[38;5;241m==\u001b[39m \u001b[38;5;124m\"\u001b[39m\u001b[38;5;124mpolynomial\u001b[39m\u001b[38;5;124m\"\u001b[39m:\n",
      "File \u001b[1;32mc:\\Users\\56111\\AppData\\Local\\Programs\\Python\\Python313\\Lib\\site-packages\\numpy\\random\\__init__.py:180\u001b[0m\n\u001b[0;32m    126\u001b[0m __all__ \u001b[38;5;241m=\u001b[39m [\n\u001b[0;32m    127\u001b[0m     \u001b[38;5;124m'\u001b[39m\u001b[38;5;124mbeta\u001b[39m\u001b[38;5;124m'\u001b[39m,\n\u001b[0;32m    128\u001b[0m     \u001b[38;5;124m'\u001b[39m\u001b[38;5;124mbinomial\u001b[39m\u001b[38;5;124m'\u001b[39m,\n\u001b[1;32m   (...)\u001b[0m\n\u001b[0;32m    176\u001b[0m     \u001b[38;5;124m'\u001b[39m\u001b[38;5;124mzipf\u001b[39m\u001b[38;5;124m'\u001b[39m,\n\u001b[0;32m    177\u001b[0m ]\n\u001b[0;32m    179\u001b[0m \u001b[38;5;66;03m# add these for module-freeze analysis (like PyInstaller)\u001b[39;00m\n\u001b[1;32m--> 180\u001b[0m \u001b[38;5;28;01mfrom\u001b[39;00m \u001b[38;5;21;01m.\u001b[39;00m \u001b[38;5;28;01mimport\u001b[39;00m _pickle\n\u001b[0;32m    181\u001b[0m \u001b[38;5;28;01mfrom\u001b[39;00m \u001b[38;5;21;01m.\u001b[39;00m \u001b[38;5;28;01mimport\u001b[39;00m _common\n\u001b[0;32m    182\u001b[0m \u001b[38;5;28;01mfrom\u001b[39;00m \u001b[38;5;21;01m.\u001b[39;00m \u001b[38;5;28;01mimport\u001b[39;00m _bounded_integers\n",
      "File \u001b[1;32mc:\\Users\\56111\\AppData\\Local\\Programs\\Python\\Python313\\Lib\\site-packages\\numpy\\random\\_pickle.py:1\u001b[0m\n\u001b[1;32m----> 1\u001b[0m \u001b[38;5;28;01mfrom\u001b[39;00m \u001b[38;5;21;01m.\u001b[39;00m\u001b[38;5;21;01mbit_generator\u001b[39;00m \u001b[38;5;28;01mimport\u001b[39;00m BitGenerator\n\u001b[0;32m      2\u001b[0m \u001b[38;5;28;01mfrom\u001b[39;00m \u001b[38;5;21;01m.\u001b[39;00m\u001b[38;5;21;01mmtrand\u001b[39;00m \u001b[38;5;28;01mimport\u001b[39;00m RandomState\n\u001b[0;32m      3\u001b[0m \u001b[38;5;28;01mfrom\u001b[39;00m \u001b[38;5;21;01m.\u001b[39;00m\u001b[38;5;21;01m_philox\u001b[39;00m \u001b[38;5;28;01mimport\u001b[39;00m Philox\n",
      "File \u001b[1;32mbit_generator.pyx:40\u001b[0m, in \u001b[0;36minit numpy.random.bit_generator\u001b[1;34m()\u001b[0m\n",
      "\u001b[1;31mModuleNotFoundError\u001b[0m: No module named 'secrets'"
     ]
    }
   ],
   "source": [
    "# Global tools\n",
    "import pandas as pd\n",
    "import numpy as np\n",
    "import xgboost as xgb\n",
    "from sklearn.metrics import mean_squared_error, r2_score, make_scorer\n",
    "from sklearn.model_selection import GridSearchCV, train_test_split\n",
    "import optuna\n"
   ]
  },
  {
   "cell_type": "code",
   "execution_count": 68,
   "metadata": {},
   "outputs": [
    {
     "ename": "",
     "evalue": "",
     "output_type": "error",
     "traceback": [
      "\u001b[1;31mnotebook controller is DISPOSED. \n",
      "\u001b[1;31mView Jupyter <a href='command:jupyter.viewOutput'>log</a> for further details."
     ]
    }
   ],
   "source": [
    "df = pd.read_csv('./DataSelected.csv')\n",
    "target_column = 'NVDA' \n",
    "y = df[target_column]\n",
    "X = df.drop(columns=[target_column])\n",
    "X_train, X_test, y_train, y_test = train_test_split(X, y, test_size=0.2, random_state=0)\n"
   ]
  },
  {
   "cell_type": "markdown",
   "metadata": {},
   "source": [
    "XGB without Hyperparameter Tuning"
   ]
  },
  {
   "cell_type": "code",
   "execution_count": 69,
   "metadata": {},
   "outputs": [
    {
     "name": "stdout",
     "output_type": "stream",
     "text": [
      "Best number of rounds from CV: 609\n",
      "Best RMSE from CV: 0.2189\n",
      "[0]\ttrain-rmse:0.97029\ttest-rmse:0.91045\n",
      "[10]\ttrain-rmse:0.65343\ttest-rmse:0.64451\n",
      "[20]\ttrain-rmse:0.45975\ttest-rmse:0.48019\n",
      "[30]\ttrain-rmse:0.34517\ttest-rmse:0.38729\n",
      "[40]\ttrain-rmse:0.27420\ttest-rmse:0.32829\n",
      "[50]\ttrain-rmse:0.22907\ttest-rmse:0.29544\n",
      "[60]\ttrain-rmse:0.20048\ttest-rmse:0.27604\n",
      "[70]\ttrain-rmse:0.18107\ttest-rmse:0.26415\n",
      "[80]\ttrain-rmse:0.16508\ttest-rmse:0.25454\n",
      "[90]\ttrain-rmse:0.15054\ttest-rmse:0.24596\n",
      "[100]\ttrain-rmse:0.14244\ttest-rmse:0.24177\n",
      "[110]\ttrain-rmse:0.13505\ttest-rmse:0.23761\n",
      "[120]\ttrain-rmse:0.12948\ttest-rmse:0.23568\n",
      "[130]\ttrain-rmse:0.12466\ttest-rmse:0.23256\n",
      "[140]\ttrain-rmse:0.12076\ttest-rmse:0.22982\n",
      "[150]\ttrain-rmse:0.11755\ttest-rmse:0.22827\n",
      "[160]\ttrain-rmse:0.11405\ttest-rmse:0.22667\n",
      "[170]\ttrain-rmse:0.11162\ttest-rmse:0.22559\n",
      "[180]\ttrain-rmse:0.10976\ttest-rmse:0.22377\n",
      "[190]\ttrain-rmse:0.10742\ttest-rmse:0.22219\n",
      "[200]\ttrain-rmse:0.10615\ttest-rmse:0.22198\n",
      "[210]\ttrain-rmse:0.10484\ttest-rmse:0.22146\n",
      "[220]\ttrain-rmse:0.10372\ttest-rmse:0.22050\n",
      "[230]\ttrain-rmse:0.10270\ttest-rmse:0.21986\n",
      "[240]\ttrain-rmse:0.10161\ttest-rmse:0.21950\n",
      "[250]\ttrain-rmse:0.10051\ttest-rmse:0.21913\n",
      "[260]\ttrain-rmse:0.09943\ttest-rmse:0.21874\n",
      "[270]\ttrain-rmse:0.09867\ttest-rmse:0.21837\n",
      "[280]\ttrain-rmse:0.09781\ttest-rmse:0.21798\n",
      "[290]\ttrain-rmse:0.09710\ttest-rmse:0.21750\n",
      "[300]\ttrain-rmse:0.09643\ttest-rmse:0.21748\n",
      "[305]\ttrain-rmse:0.09608\ttest-rmse:0.21753\n",
      "Train Mean Squared Error: 0.0092\n",
      "Train RMSE: 0.0959\n",
      "Test Mean Squared Error: 0.0473\n",
      "Test RMSE: 0.2176\n",
      "\n",
      "Top Features:\n",
      "       Feature  Importance\n",
      "3     CBBTCUSD       270.0\n",
      "0          AMD       260.0\n",
      "4         DJIA       259.0\n",
      "1          RSI       235.0\n",
      "5  MACD_Signal       212.0\n",
      "6    ADS_Index       198.0\n",
      "2           RF        62.0\n"
     ]
    },
    {
     "ename": "",
     "evalue": "",
     "output_type": "error",
     "traceback": [
      "\u001b[1;31mnotebook controller is DISPOSED. \n",
      "\u001b[1;31mView Jupyter <a href='command:jupyter.viewOutput'>log</a> for further details."
     ]
    }
   ],
   "source": [
    "dtrain = xgb.DMatrix(X_train, label=y_train)\n",
    "dtest = xgb.DMatrix(X_test, label=y_test)\n",
    "\n",
    "params = {\n",
    "    'objective': 'reg:squarederror',\n",
    "    'eval_metric': 'rmse',\n",
    "    'learning_rate': 0.05,  \n",
    "    'max_depth': 3,     \n",
    "    'subsample': 0.75,      \n",
    "    'colsample_bytree': 0.75, \n",
    "    'alpha': 1.0,          \n",
    "    'lambda': 2.0          \n",
    "}\n",
    "\n",
    "# Cross-validation step\n",
    "cv_results = xgb.cv(\n",
    "    params=params,\n",
    "    dtrain=dtrain,\n",
    "    num_boost_round=1000,\n",
    "    nfold=5,  \n",
    "    metrics='rmse',\n",
    "    early_stopping_rounds=20,  \n",
    "    seed=42\n",
    ")\n",
    "\n",
    "best_num_boost_round = cv_results['test-rmse-mean'].idxmin() + 1\n",
    "print(f\"Best number of rounds from CV: {best_num_boost_round}\")\n",
    "print(f\"Best RMSE from CV: {cv_results['test-rmse-mean'].min():.4f}\")\n",
    "\n",
    "evals = [(dtrain, 'train'), (dtest, 'test')]\n",
    "model = xgb.train(\n",
    "    params=params,\n",
    "    dtrain=dtrain,\n",
    "    num_boost_round=best_num_boost_round,\n",
    "    evals=evals,\n",
    "    early_stopping_rounds=10,\n",
    "    verbose_eval=10\n",
    ")\n",
    "\n",
    "y_train_pred = model.predict(dtrain)\n",
    "train_mse = mean_squared_error(y_train, y_train_pred)\n",
    "train_rmse = np.sqrt(train_mse)\n",
    "\n",
    "y_pred = model.predict(dtest)\n",
    "test_mse = mean_squared_error(y_test, y_pred)\n",
    "test_rmse = np.sqrt(test_mse)\n",
    "\n",
    "print(f\"Train Mean Squared Error: {train_mse:.4f}\")\n",
    "print(f\"Train RMSE: {train_rmse:.4f}\")\n",
    "print(f\"Test Mean Squared Error: {test_mse:.4f}\")\n",
    "print(f\"Test RMSE: {test_rmse:.4f}\")\n",
    "\n",
    "importance = model.get_score(importance_type='weight')\n",
    "importance_df = pd.DataFrame(list(importance.items()), columns=['Feature', 'Importance']).sort_values(by='Importance', ascending=False)\n",
    "\n",
    "print(\"\\nTop Features:\")\n",
    "print(importance_df)\n"
   ]
  },
  {
   "cell_type": "markdown",
   "metadata": {},
   "source": [
    "XGB with Hyperparameter Tuning"
   ]
  },
  {
   "cell_type": "code",
   "execution_count": 70,
   "metadata": {},
   "outputs": [
    {
     "ename": "",
     "evalue": "",
     "output_type": "error",
     "traceback": [
      "\u001b[1;31mnotebook controller is DISPOSED. \n",
      "\u001b[1;31mView Jupyter <a href='command:jupyter.viewOutput'>log</a> for further details."
     ]
    }
   ],
   "source": []
  },
  {
   "cell_type": "code",
   "execution_count": 71,
   "metadata": {},
   "outputs": [
    {
     "ename": "",
     "evalue": "",
     "output_type": "error",
     "traceback": [
      "\u001b[1;31mnotebook controller is DISPOSED. \n",
      "\u001b[1;31mView Jupyter <a href='command:jupyter.viewOutput'>log</a> for further details."
     ]
    }
   ],
   "source": [
    "def objective(trial):\n",
    "    params = {\n",
    "        'objective': 'reg:squarederror',\n",
    "        'eval_metric': 'rmse',\n",
    "        'learning_rate': trial.suggest_loguniform('learning_rate', 0.005, 0.05),\n",
    "        'max_depth': trial.suggest_int('max_depth', 3, 6),\n",
    "        'subsample': trial.suggest_float('subsample', 0.6, 0.9),\n",
    "        'colsample_bytree': trial.suggest_float('colsample_bytree', 0.6, 0.9),\n",
    "        'alpha': trial.suggest_float('alpha', 0.1, 2),\n",
    "        'lambda': trial.suggest_float('lambda', 1, 4),\n",
    "        'min_child_weight': trial.suggest_int('min_child_weight', 5, 15),\n",
    "        'gamma': trial.suggest_float('gamma', 0, 5),\n",
    "    }\n",
    "    cv_results = xgb.cv(\n",
    "        params=params,\n",
    "        dtrain=dtrain,\n",
    "        num_boost_round=1000,\n",
    "        nfold=5,\n",
    "        metrics='rmse',\n",
    "        early_stopping_rounds=20,\n",
    "        seed=42\n",
    "    )\n",
    "    return cv_results['test-rmse-mean'].min()"
   ]
  },
  {
   "cell_type": "code",
   "execution_count": 72,
   "metadata": {},
   "outputs": [
    {
     "name": "stderr",
     "output_type": "stream",
     "text": [
      "[I 2024-12-12 04:58:31,810] A new study created in memory with name: no-name-7f791ffc-6bc4-4b50-b168-f3d7645b39b0\n",
      "C:\\Users\\56111\\AppData\\Local\\Temp\\ipykernel_35160\\74355650.py:5: FutureWarning: suggest_loguniform has been deprecated in v3.0.0. This feature will be removed in v6.0.0. See https://github.com/optuna/optuna/releases/tag/v3.0.0. Use suggest_float(..., log=True) instead.\n",
      "  'learning_rate': trial.suggest_loguniform('learning_rate', 0.005, 0.05),\n",
      "[I 2024-12-12 04:58:32,646] Trial 0 finished with value: 0.3547032971599965 and parameters: {'learning_rate': 0.009820754637849045, 'max_depth': 3, 'subsample': 0.7990706205892896, 'colsample_bytree': 0.7155842614969763, 'alpha': 1.5115306522984433, 'lambda': 2.4748589195951727, 'min_child_weight': 5, 'gamma': 1.474869746726057}. Best is trial 0 with value: 0.3547032971599965.\n",
      "[I 2024-12-12 04:58:32,937] Trial 1 finished with value: 0.3566320197718559 and parameters: {'learning_rate': 0.03183426514801631, 'max_depth': 3, 'subsample': 0.6492953010577511, 'colsample_bytree': 0.8709844037728705, 'alpha': 0.7913624620655691, 'lambda': 3.2584677241537854, 'min_child_weight': 15, 'gamma': 1.6193424501544378}. Best is trial 0 with value: 0.3547032971599965.\n",
      "[I 2024-12-12 04:58:34,259] Trial 2 finished with value: 0.33561393816250995 and parameters: {'learning_rate': 0.00566763859456361, 'max_depth': 4, 'subsample': 0.7964388108141994, 'colsample_bytree': 0.7490621394115374, 'alpha': 1.67708520984603, 'lambda': 2.383847479462446, 'min_child_weight': 7, 'gamma': 0.9064040427611897}. Best is trial 2 with value: 0.33561393816250995.\n",
      "[I 2024-12-12 04:58:35,139] Trial 3 finished with value: 0.3712797635791863 and parameters: {'learning_rate': 0.009499070140113954, 'max_depth': 6, 'subsample': 0.8292924168324759, 'colsample_bytree': 0.7430874807210668, 'alpha': 1.257699984239446, 'lambda': 2.9634776389574617, 'min_child_weight': 11, 'gamma': 2.090755004411507}. Best is trial 2 with value: 0.33561393816250995.\n",
      "[I 2024-12-12 04:58:35,468] Trial 4 finished with value: 0.325308422962829 and parameters: {'learning_rate': 0.04614195657877244, 'max_depth': 3, 'subsample': 0.6060996392279523, 'colsample_bytree': 0.6867664155134664, 'alpha': 1.0525563180506956, 'lambda': 1.225696820425104, 'min_child_weight': 12, 'gamma': 0.7135014099884746}. Best is trial 4 with value: 0.325308422962829.\n",
      "[I 2024-12-12 04:58:36,322] Trial 5 finished with value: 0.35136310390508657 and parameters: {'learning_rate': 0.011805994877483834, 'max_depth': 6, 'subsample': 0.7174708265037254, 'colsample_bytree': 0.6873626732349235, 'alpha': 1.0796846790236512, 'lambda': 3.655427633185147, 'min_child_weight': 14, 'gamma': 1.3819101610363682}. Best is trial 4 with value: 0.325308422962829.\n",
      "[I 2024-12-12 04:58:36,513] Trial 6 finished with value: 0.3707933822590275 and parameters: {'learning_rate': 0.04822897051408997, 'max_depth': 4, 'subsample': 0.8959149193863756, 'colsample_bytree': 0.801549995404478, 'alpha': 1.1788678525033471, 'lambda': 1.8638685671944693, 'min_child_weight': 15, 'gamma': 2.3079126046996374}. Best is trial 4 with value: 0.325308422962829.\n",
      "[I 2024-12-12 04:58:37,266] Trial 7 finished with value: 0.3553480996170279 and parameters: {'learning_rate': 0.015792545081224053, 'max_depth': 6, 'subsample': 0.8212167606980132, 'colsample_bytree': 0.6800932686690966, 'alpha': 1.1113106078874526, 'lambda': 1.7083399172942026, 'min_child_weight': 5, 'gamma': 1.9158763742314433}. Best is trial 4 with value: 0.325308422962829.\n",
      "[I 2024-12-12 04:58:37,474] Trial 8 finished with value: 0.35876066264716455 and parameters: {'learning_rate': 0.0465014732566736, 'max_depth': 4, 'subsample': 0.8712641328120962, 'colsample_bytree': 0.866299178656176, 'alpha': 1.5891246154680014, 'lambda': 3.2886730778258024, 'min_child_weight': 5, 'gamma': 1.5850156475187211}. Best is trial 4 with value: 0.325308422962829.\n",
      "[I 2024-12-12 04:58:38,077] Trial 9 finished with value: 0.3623734887839828 and parameters: {'learning_rate': 0.016985655311375195, 'max_depth': 6, 'subsample': 0.8873807619147154, 'colsample_bytree': 0.6914017669509761, 'alpha': 0.9451034693793638, 'lambda': 1.9212890514627206, 'min_child_weight': 15, 'gamma': 1.9955053961061353}. Best is trial 4 with value: 0.325308422962829.\n",
      "[I 2024-12-12 04:58:39,045] Trial 10 finished with value: 0.2296392093022684 and parameters: {'learning_rate': 0.028537003561039876, 'max_depth': 5, 'subsample': 0.626946063387941, 'colsample_bytree': 0.6274786672889598, 'alpha': 0.14918742688902153, 'lambda': 1.2113747203982035, 'min_child_weight': 11, 'gamma': 0.04079842639680642}. Best is trial 10 with value: 0.2296392093022684.\n",
      "[I 2024-12-12 04:58:39,766] Trial 11 finished with value: 0.25297788881786715 and parameters: {'learning_rate': 0.02793887105730406, 'max_depth': 5, 'subsample': 0.6028308638363196, 'colsample_bytree': 0.6076875775168883, 'alpha': 0.24279324055546808, 'lambda': 1.030673704729744, 'min_child_weight': 11, 'gamma': 0.13180158140240195}. Best is trial 10 with value: 0.2296392093022684.\n",
      "[I 2024-12-12 04:58:40,068] Trial 12 finished with value: 0.38401735417635474 and parameters: {'learning_rate': 0.02617398667438152, 'max_depth': 5, 'subsample': 0.6751918279930922, 'colsample_bytree': 0.6004220883096061, 'alpha': 0.10351160811156424, 'lambda': 1.104935841801321, 'min_child_weight': 8, 'gamma': 3.5990712819384907}. Best is trial 10 with value: 0.2296392093022684.\n",
      "[I 2024-12-12 04:58:40,766] Trial 13 finished with value: 0.22545507506434115 and parameters: {'learning_rate': 0.027691358267528898, 'max_depth': 5, 'subsample': 0.6145994358584134, 'colsample_bytree': 0.6035486493276264, 'alpha': 0.11036140287043233, 'lambda': 1.4116871086661242, 'min_child_weight': 9, 'gamma': 0.049636928324008345}. Best is trial 13 with value: 0.22545507506434115.\n",
      "[I 2024-12-12 04:58:41,329] Trial 14 finished with value: 0.38765217923778916 and parameters: {'learning_rate': 0.021565937604768354, 'max_depth': 5, 'subsample': 0.663694906835723, 'colsample_bytree': 0.631257278177505, 'alpha': 0.40656475313557106, 'lambda': 1.5736176202403294, 'min_child_weight': 9, 'gamma': 3.4273375110273223}. Best is trial 13 with value: 0.22545507506434115.\n",
      "[I 2024-12-12 04:58:41,733] Trial 15 finished with value: 0.4120042746179429 and parameters: {'learning_rate': 0.02022229453532898, 'max_depth': 5, 'subsample': 0.7313439467003721, 'colsample_bytree': 0.6350599492791391, 'alpha': 0.548479734191337, 'lambda': 2.1597251615222035, 'min_child_weight': 13, 'gamma': 4.368263034752836}. Best is trial 13 with value: 0.22545507506434115.\n",
      "[I 2024-12-12 04:58:42,070] Trial 16 finished with value: 0.27200404325437644 and parameters: {'learning_rate': 0.03424760517924001, 'max_depth': 5, 'subsample': 0.6968064922386842, 'colsample_bytree': 0.6442244485815318, 'alpha': 0.5770152927372452, 'lambda': 1.4452515293925678, 'min_child_weight': 10, 'gamma': 0.24467076612155403}. Best is trial 13 with value: 0.22545507506434115.\n",
      "[I 2024-12-12 04:58:42,340] Trial 17 finished with value: 0.2880430029711142 and parameters: {'learning_rate': 0.035145639910932516, 'max_depth': 4, 'subsample': 0.6281026970012641, 'colsample_bytree': 0.7879494190985172, 'alpha': 0.10978244378459852, 'lambda': 1.3889122070446382, 'min_child_weight': 7, 'gamma': 0.7664025366713506}. Best is trial 13 with value: 0.22545507506434115.\n",
      "[I 2024-12-12 04:58:42,802] Trial 18 finished with value: 0.38349418473980523 and parameters: {'learning_rate': 0.02158396448742813, 'max_depth': 5, 'subsample': 0.7620227243431003, 'colsample_bytree': 0.6538305904804517, 'alpha': 0.3948121952090714, 'lambda': 2.8726757559570038, 'min_child_weight': 9, 'gamma': 3.1560985725644684}. Best is trial 13 with value: 0.22545507506434115.\n",
      "[I 2024-12-12 04:58:44,359] Trial 19 finished with value: 0.23307238530272484 and parameters: {'learning_rate': 0.014090671759692388, 'max_depth': 4, 'subsample': 0.6370186728380453, 'colsample_bytree': 0.8185016625951282, 'alpha': 0.7586989724171995, 'lambda': 2.0974127103591225, 'min_child_weight': 12, 'gamma': 0.003625320081380057}. Best is trial 13 with value: 0.22545507506434115.\n",
      "[I 2024-12-12 04:58:45,377] Trial 20 finished with value: 0.4039161933698687 and parameters: {'learning_rate': 0.006270086229930728, 'max_depth': 6, 'subsample': 0.7045401535870556, 'colsample_bytree': 0.6611116277778947, 'alpha': 1.983948811620969, 'lambda': 1.347491827381999, 'min_child_weight': 10, 'gamma': 2.688607223088416}. Best is trial 13 with value: 0.22545507506434115.\n",
      "[I 2024-12-12 04:58:46,856] Trial 21 finished with value: 0.24120048160747473 and parameters: {'learning_rate': 0.013316980267772255, 'max_depth': 4, 'subsample': 0.6397050197524033, 'colsample_bytree': 0.8442310711445609, 'alpha': 0.7148379056535642, 'lambda': 2.1496992489120688, 'min_child_weight': 12, 'gamma': 0.022267375657947557}. Best is trial 13 with value: 0.22545507506434115.\n",
      "[I 2024-12-12 04:58:47,583] Trial 22 finished with value: 0.29075914462181707 and parameters: {'learning_rate': 0.016651954473526055, 'max_depth': 5, 'subsample': 0.6263830696928746, 'colsample_bytree': 0.8194054782239377, 'alpha': 0.34884469357475983, 'lambda': 1.7186943427006716, 'min_child_weight': 13, 'gamma': 0.5460254275224163}. Best is trial 13 with value: 0.22545507506434115.\n",
      "[I 2024-12-12 04:58:48,019] Trial 23 finished with value: 0.3080059462976269 and parameters: {'learning_rate': 0.02594635863599409, 'max_depth': 4, 'subsample': 0.6785512870659184, 'colsample_bytree': 0.7767876124745542, 'alpha': 0.25942483381027415, 'lambda': 2.0554069910846464, 'min_child_weight': 11, 'gamma': 0.9555572442104925}. Best is trial 13 with value: 0.22545507506434115.\n",
      "[I 2024-12-12 04:58:48,583] Trial 24 finished with value: 0.2855467907181627 and parameters: {'learning_rate': 0.03939618966811849, 'max_depth': 5, 'subsample': 0.6166998121668366, 'colsample_bytree': 0.8333121524104355, 'alpha': 0.5693631419803684, 'lambda': 2.705127351149733, 'min_child_weight': 10, 'gamma': 0.4116579459112394}. Best is trial 13 with value: 0.22545507506434115.\n",
      "[I 2024-12-12 04:58:50,184] Trial 25 finished with value: 0.2445472013269911 and parameters: {'learning_rate': 0.008510124376753747, 'max_depth': 4, 'subsample': 0.6529117106678521, 'colsample_bytree': 0.8924803224825865, 'alpha': 0.8334116827399877, 'lambda': 1.5950381298131246, 'min_child_weight': 12, 'gamma': 0.01995157191032406}. Best is trial 13 with value: 0.22545507506434115.\n",
      "[I 2024-12-12 04:58:50,955] Trial 26 finished with value: 0.3359635673357396 and parameters: {'learning_rate': 0.013854415758156751, 'max_depth': 5, 'subsample': 0.7525774407785837, 'colsample_bytree': 0.72551394520498, 'alpha': 1.3535394713942532, 'lambda': 2.293398452409771, 'min_child_weight': 9, 'gamma': 1.0430417744700193}. Best is trial 13 with value: 0.22545507506434115.\n",
      "[I 2024-12-12 04:58:51,755] Trial 27 finished with value: 0.27696554868223305 and parameters: {'learning_rate': 0.01863971262581406, 'max_depth': 4, 'subsample': 0.6882237431127871, 'colsample_bytree': 0.6216658298430876, 'alpha': 0.25746334234302204, 'lambda': 1.1944047545712175, 'min_child_weight': 13, 'gamma': 0.4574422396132347}. Best is trial 13 with value: 0.22545507506434115.\n",
      "[I 2024-12-12 04:58:52,109] Trial 28 finished with value: 0.42438220966071516 and parameters: {'learning_rate': 0.02503925479434772, 'max_depth': 3, 'subsample': 0.6393335524065389, 'colsample_bytree': 0.6669141891955563, 'alpha': 0.6879882186047772, 'lambda': 1.8594928699705888, 'min_child_weight': 8, 'gamma': 4.680658173235619}. Best is trial 13 with value: 0.22545507506434115.\n",
      "[I 2024-12-12 04:58:53,148] Trial 29 finished with value: 0.3311608594385974 and parameters: {'learning_rate': 0.010936354224561701, 'max_depth': 3, 'subsample': 0.6630838497521646, 'colsample_bytree': 0.7228968890303327, 'alpha': 0.47678441987661824, 'lambda': 2.6616747877038502, 'min_child_weight': 11, 'gamma': 1.2443459327246016}. Best is trial 13 with value: 0.22545507506434115.\n",
      "[I 2024-12-12 04:58:54,720] Trial 30 finished with value: 0.29139945175672455 and parameters: {'learning_rate': 0.0075741232287388945, 'max_depth': 5, 'subsample': 0.6017006728445444, 'colsample_bytree': 0.7693958637038597, 'alpha': 0.8928487485807377, 'lambda': 1.518584773454661, 'min_child_weight': 8, 'gamma': 0.38913183749005364}. Best is trial 13 with value: 0.22545507506434115.\n",
      "[I 2024-12-12 04:58:55,806] Trial 31 finished with value: 0.26914537295911456 and parameters: {'learning_rate': 0.01364658663132825, 'max_depth': 4, 'subsample': 0.6358462055567896, 'colsample_bytree': 0.8428056072839148, 'alpha': 0.7713962859501833, 'lambda': 2.1095395096941907, 'min_child_weight': 12, 'gamma': 0.14846921952503375}. Best is trial 13 with value: 0.22545507506434115.\n",
      "[I 2024-12-12 04:58:57,281] Trial 32 finished with value: 0.24912298621398868 and parameters: {'learning_rate': 0.01392771685537795, 'max_depth': 4, 'subsample': 0.651241428328576, 'colsample_bytree': 0.8665422911314735, 'alpha': 0.659334390659527, 'lambda': 2.4407439609095123, 'min_child_weight': 14, 'gamma': 0.050036831545880345}. Best is trial 13 with value: 0.22545507506434115.\n",
      "[I 2024-12-12 04:58:58,393] Trial 33 finished with value: 0.2923597322731619 and parameters: {'learning_rate': 0.011460869860221752, 'max_depth': 4, 'subsample': 0.6222981350652561, 'colsample_bytree': 0.8099785559793927, 'alpha': 0.19625967307018755, 'lambda': 2.2658930833110413, 'min_child_weight': 12, 'gamma': 0.6132538179604224}. Best is trial 13 with value: 0.22545507506434115.\n",
      "[I 2024-12-12 04:58:59,026] Trial 34 finished with value: 0.32409007075990726 and parameters: {'learning_rate': 0.02307391151286417, 'max_depth': 3, 'subsample': 0.6459032962621147, 'colsample_bytree': 0.8452333995754404, 'alpha': 0.7125802840318093, 'lambda': 1.0016472546020618, 'min_child_weight': 10, 'gamma': 1.1131134314292175}. Best is trial 13 with value: 0.22545507506434115.\n",
      "[I 2024-12-12 04:58:59,515] Trial 35 finished with value: 0.2988399240806261 and parameters: {'learning_rate': 0.03157445008979312, 'max_depth': 4, 'subsample': 0.6153147784900642, 'colsample_bytree': 0.8800079398079229, 'alpha': 0.4482106700293399, 'lambda': 1.72051772333737, 'min_child_weight': 11, 'gamma': 0.6861579580743488}. Best is trial 13 with value: 0.22545507506434115.\n",
      "[I 2024-12-12 04:58:59,940] Trial 36 finished with value: 0.30713089225979234 and parameters: {'learning_rate': 0.029422762654397742, 'max_depth': 5, 'subsample': 0.7877442502717091, 'colsample_bytree': 0.6164932389660971, 'alpha': 1.3376264170102954, 'lambda': 2.5501930795539054, 'min_child_weight': 14, 'gamma': 0.3637480086083355}. Best is trial 13 with value: 0.22545507506434115.\n",
      "[I 2024-12-12 04:59:01,559] Trial 37 finished with value: 0.22793499649748677 and parameters: {'learning_rate': 0.009820477167511976, 'max_depth': 3, 'subsample': 0.7201564389586821, 'colsample_bytree': 0.7619663991610529, 'alpha': 0.3129208110844822, 'lambda': 1.8903365318328347, 'min_child_weight': 12, 'gamma': 0.0008367778154919243}. Best is trial 13 with value: 0.22545507506434115.\n",
      "[I 2024-12-12 04:59:02,613] Trial 38 finished with value: 0.30519692141669463 and parameters: {'learning_rate': 0.009261466442011307, 'max_depth': 3, 'subsample': 0.7224431117140135, 'colsample_bytree': 0.7557775816874828, 'alpha': 0.295956241495262, 'lambda': 1.2809703015446865, 'min_child_weight': 13, 'gamma': 0.9197783905279108}. Best is trial 13 with value: 0.22545507506434115.\n",
      "[I 2024-12-12 04:59:02,932] Trial 39 finished with value: 0.33200664830355764 and parameters: {'learning_rate': 0.039790954644442926, 'max_depth': 3, 'subsample': 0.7832373647388077, 'colsample_bytree': 0.7087040126556403, 'alpha': 0.1792860786958206, 'lambda': 1.837646075492522, 'min_child_weight': 11, 'gamma': 1.4923389257693707}. Best is trial 13 with value: 0.22545507506434115.\n",
      "[I 2024-12-12 04:59:03,797] Trial 40 finished with value: 0.33268232127141456 and parameters: {'learning_rate': 0.0075822609842905, 'max_depth': 6, 'subsample': 0.818220987635615, 'colsample_bytree': 0.7402611219505827, 'alpha': 0.10043109715999335, 'lambda': 1.9926828475943625, 'min_child_weight': 9, 'gamma': 1.7976398049679554}. Best is trial 13 with value: 0.22545507506434115.\n",
      "[I 2024-12-12 04:59:05,294] Trial 41 finished with value: 0.24676614359515026 and parameters: {'learning_rate': 0.012388546770075821, 'max_depth': 3, 'subsample': 0.6673446661278485, 'colsample_bytree': 0.7943295236717999, 'alpha': 0.9360744607313061, 'lambda': 2.25012814987482, 'min_child_weight': 12, 'gamma': 0.013443398262530836}. Best is trial 13 with value: 0.22545507506434115.\n",
      "[I 2024-12-12 04:59:06,531] Trial 42 finished with value: 0.2755025508077815 and parameters: {'learning_rate': 0.010697837214531911, 'max_depth': 4, 'subsample': 0.6368366062354762, 'colsample_bytree': 0.8207612528719791, 'alpha': 0.3476926005589098, 'lambda': 3.701957854776028, 'min_child_weight': 12, 'gamma': 0.27313792534556613}. Best is trial 13 with value: 0.22545507506434115.\n",
      "[I 2024-12-12 04:59:07,220] Trial 43 finished with value: 0.29781865507965477 and parameters: {'learning_rate': 0.014971550668402516, 'max_depth': 4, 'subsample': 0.8457342597732562, 'colsample_bytree': 0.8533455084516204, 'alpha': 0.4718501809907828, 'lambda': 1.6443179928923242, 'min_child_weight': 13, 'gamma': 0.7115820833000107}. Best is trial 13 with value: 0.22545507506434115.\n",
      "[I 2024-12-12 04:59:08,377] Trial 44 finished with value: 0.2784002671692759 and parameters: {'learning_rate': 0.012645528270159688, 'max_depth': 5, 'subsample': 0.7085813863644358, 'colsample_bytree': 0.7042930616214371, 'alpha': 0.6010587179609966, 'lambda': 3.9937120579399514, 'min_child_weight': 12, 'gamma': 0.26921498137385375}. Best is trial 13 with value: 0.22545507506434115.\n",
      "[I 2024-12-12 04:59:09,440] Trial 45 finished with value: 0.2909094338032894 and parameters: {'learning_rate': 0.009958322679657952, 'max_depth': 3, 'subsample': 0.6117192704177248, 'colsample_bytree': 0.7728507409702737, 'alpha': 0.19517659586969652, 'lambda': 1.1636693024754137, 'min_child_weight': 14, 'gamma': 0.5492677398102238}. Best is trial 13 with value: 0.22545507506434115.\n",
      "[I 2024-12-12 04:59:10,815] Trial 46 finished with value: 0.24142615327983424 and parameters: {'learning_rate': 0.01858158274651203, 'max_depth': 5, 'subsample': 0.6885595262530183, 'colsample_bytree': 0.7548515136497946, 'alpha': 1.1795831588782, 'lambda': 1.9643895417726127, 'min_child_weight': 11, 'gamma': 0.011788371535767575}. Best is trial 13 with value: 0.22545507506434115.\n",
      "[I 2024-12-12 04:59:11,492] Trial 47 finished with value: 0.3351231684213122 and parameters: {'learning_rate': 0.018754979757364357, 'max_depth': 4, 'subsample': 0.7387375211496866, 'colsample_bytree': 0.6741650292188219, 'alpha': 1.0447572825738292, 'lambda': 1.470510156730195, 'min_child_weight': 10, 'gamma': 1.2228604810835009}. Best is trial 13 with value: 0.22545507506434115.\n",
      "[I 2024-12-12 04:59:12,160] Trial 48 finished with value: 0.30110551493892507 and parameters: {'learning_rate': 0.015113552702611605, 'max_depth': 6, 'subsample': 0.6572011823254817, 'colsample_bytree': 0.6012747843131593, 'alpha': 0.31158163055498544, 'lambda': 1.8085856883376654, 'min_child_weight': 11, 'gamma': 0.7629191688812842}. Best is trial 13 with value: 0.22545507506434115.\n",
      "[I 2024-12-12 04:59:13,367] Trial 49 finished with value: 0.3954940281367791 and parameters: {'learning_rate': 0.005471757938169488, 'max_depth': 5, 'subsample': 0.636358747895973, 'colsample_bytree': 0.6377091873655855, 'alpha': 1.0149926092682042, 'lambda': 3.1628540657499427, 'min_child_weight': 7, 'gamma': 2.7432526417452157}. Best is trial 13 with value: 0.22545507506434115.\n"
     ]
    },
    {
     "name": "stdout",
     "output_type": "stream",
     "text": [
      "Best Parameters: {'learning_rate': 0.027691358267528898, 'max_depth': 5, 'subsample': 0.6145994358584134, 'colsample_bytree': 0.6035486493276264, 'alpha': 0.11036140287043233, 'lambda': 1.4116871086661242, 'min_child_weight': 9, 'gamma': 0.049636928324008345}\n",
      "Best RMSE: 0.2255\n",
      "[0]\ttrain-rmse:0.98896\ttest-rmse:0.92653\n",
      "[10]\ttrain-rmse:0.78519\ttest-rmse:0.74702\n",
      "[20]\ttrain-rmse:0.62918\ttest-rmse:0.61567\n",
      "[30]\ttrain-rmse:0.51207\ttest-rmse:0.51838\n",
      "[40]\ttrain-rmse:0.42536\ttest-rmse:0.44028\n",
      "[50]\ttrain-rmse:0.35071\ttest-rmse:0.37805\n",
      "[60]\ttrain-rmse:0.29697\ttest-rmse:0.33898\n",
      "[70]\ttrain-rmse:0.25319\ttest-rmse:0.30346\n",
      "[80]\ttrain-rmse:0.22213\ttest-rmse:0.27957\n",
      "[90]\ttrain-rmse:0.19831\ttest-rmse:0.26044\n",
      "[100]\ttrain-rmse:0.17976\ttest-rmse:0.24754\n",
      "[110]\ttrain-rmse:0.16407\ttest-rmse:0.23881\n",
      "[120]\ttrain-rmse:0.15377\ttest-rmse:0.23110\n",
      "[130]\ttrain-rmse:0.14606\ttest-rmse:0.22621\n",
      "[140]\ttrain-rmse:0.14037\ttest-rmse:0.22089\n",
      "[150]\ttrain-rmse:0.13465\ttest-rmse:0.21747\n",
      "[160]\ttrain-rmse:0.13096\ttest-rmse:0.21449\n",
      "[170]\ttrain-rmse:0.12758\ttest-rmse:0.21349\n",
      "[180]\ttrain-rmse:0.12514\ttest-rmse:0.21207\n",
      "[190]\ttrain-rmse:0.12335\ttest-rmse:0.21032\n",
      "[200]\ttrain-rmse:0.12211\ttest-rmse:0.21003\n",
      "[210]\ttrain-rmse:0.12048\ttest-rmse:0.20829\n",
      "[220]\ttrain-rmse:0.11999\ttest-rmse:0.20749\n",
      "[230]\ttrain-rmse:0.11840\ttest-rmse:0.20683\n",
      "[240]\ttrain-rmse:0.11816\ttest-rmse:0.20688\n",
      "[250]\ttrain-rmse:0.11733\ttest-rmse:0.20647\n",
      "[260]\ttrain-rmse:0.11629\ttest-rmse:0.20599\n",
      "[270]\ttrain-rmse:0.11587\ttest-rmse:0.20636\n",
      "[280]\ttrain-rmse:0.11543\ttest-rmse:0.20634\n",
      "[290]\ttrain-rmse:0.11508\ttest-rmse:0.20622\n",
      "[300]\ttrain-rmse:0.11464\ttest-rmse:0.20610\n",
      "[310]\ttrain-rmse:0.11364\ttest-rmse:0.20568\n",
      "[320]\ttrain-rmse:0.11350\ttest-rmse:0.20554\n",
      "[330]\ttrain-rmse:0.11313\ttest-rmse:0.20493\n",
      "[340]\ttrain-rmse:0.11298\ttest-rmse:0.20507\n",
      "[350]\ttrain-rmse:0.11283\ttest-rmse:0.20541\n",
      "[360]\ttrain-rmse:0.11228\ttest-rmse:0.20490\n",
      "[370]\ttrain-rmse:0.11166\ttest-rmse:0.20506\n",
      "[380]\ttrain-rmse:0.11162\ttest-rmse:0.20503\n",
      "[390]\ttrain-rmse:0.11162\ttest-rmse:0.20507\n",
      "[400]\ttrain-rmse:0.11146\ttest-rmse:0.20484\n",
      "[410]\ttrain-rmse:0.11119\ttest-rmse:0.20493\n",
      "[420]\ttrain-rmse:0.11103\ttest-rmse:0.20535\n",
      "[430]\ttrain-rmse:0.10992\ttest-rmse:0.20429\n",
      "[440]\ttrain-rmse:0.10985\ttest-rmse:0.20457\n",
      "[450]\ttrain-rmse:0.10966\ttest-rmse:0.20440\n",
      "[460]\ttrain-rmse:0.10958\ttest-rmse:0.20448\n",
      "[470]\ttrain-rmse:0.10958\ttest-rmse:0.20445\n",
      "[480]\ttrain-rmse:0.10922\ttest-rmse:0.20450\n",
      "[490]\ttrain-rmse:0.10890\ttest-rmse:0.20437\n",
      "[500]\ttrain-rmse:0.10854\ttest-rmse:0.20482\n",
      "[510]\ttrain-rmse:0.10851\ttest-rmse:0.20467\n",
      "[520]\ttrain-rmse:0.10850\ttest-rmse:0.20451\n",
      "[525]\ttrain-rmse:0.10847\ttest-rmse:0.20435\n"
     ]
    },
    {
     "ename": "",
     "evalue": "",
     "output_type": "error",
     "traceback": [
      "\u001b[1;31mnotebook controller is DISPOSED. \n",
      "\u001b[1;31mView Jupyter <a href='command:jupyter.viewOutput'>log</a> for further details."
     ]
    }
   ],
   "source": [
    "dtrain = xgb.DMatrix(X_train, label=y_train)\n",
    "dtest = xgb.DMatrix(X_test, label=y_test)\n",
    "\n",
    "study = optuna.create_study(direction='minimize')\n",
    "study.optimize(objective, n_trials=50) \n",
    "\n",
    "print(f\"Best Parameters: {study.best_params}\")\n",
    "print(f\"Best RMSE: {study.best_value:.4f}\")\n",
    "\n",
    "best_params = study.best_params\n",
    "best_params['objective'] = 'reg:squarederror'\n",
    "best_params['eval_metric'] = 'rmse'\n",
    "\n",
    "evals = [(dtrain, 'train'), (dtest, 'test')]\n",
    "model = xgb.train(\n",
    "    params=best_params,\n",
    "    dtrain=dtrain,\n",
    "    num_boost_round=1000,\n",
    "    evals=evals,\n",
    "    early_stopping_rounds=50,\n",
    "    verbose_eval=10\n",
    ")\n",
    "\n",
    "y_train_pred = model.predict(dtrain)\n",
    "y_test_pred = model.predict(dtest)"
   ]
  },
  {
   "cell_type": "code",
   "execution_count": 73,
   "metadata": {},
   "outputs": [
    {
     "name": "stdout",
     "output_type": "stream",
     "text": [
      "Best Parameters: {'learning_rate': 0.027691358267528898, 'max_depth': 5, 'subsample': 0.6145994358584134, 'colsample_bytree': 0.6035486493276264, 'alpha': 0.11036140287043233, 'lambda': 1.4116871086661242, 'min_child_weight': 9, 'gamma': 0.049636928324008345}\n"
     ]
    },
    {
     "ename": "",
     "evalue": "",
     "output_type": "error",
     "traceback": [
      "\u001b[1;31mnotebook controller is DISPOSED. \n",
      "\u001b[1;31mView Jupyter <a href='command:jupyter.viewOutput'>log</a> for further details."
     ]
    }
   ],
   "source": [
    "best_params = study.best_params\n",
    "print(\"Best Parameters:\", best_params)"
   ]
  },
  {
   "cell_type": "code",
   "execution_count": 74,
   "metadata": {},
   "outputs": [
    {
     "name": "stdout",
     "output_type": "stream",
     "text": [
      "Train RMSE: 0.1085\n",
      "Test RMSE: 0.2044\n",
      "\n",
      "Top Features:\n",
      "       Feature  Importance\n",
      "3     CBBTCUSD       217.0\n",
      "4         DJIA       207.0\n",
      "5  MACD_Signal       177.0\n",
      "0          AMD       176.0\n",
      "1          RSI       141.0\n",
      "6    ADS_Index       130.0\n",
      "2           RF        52.0\n"
     ]
    },
    {
     "ename": "",
     "evalue": "",
     "output_type": "error",
     "traceback": [
      "\u001b[1;31mnotebook controller is DISPOSED. \n",
      "\u001b[1;31mView Jupyter <a href='command:jupyter.viewOutput'>log</a> for further details."
     ]
    }
   ],
   "source": [
    "train_mse = mean_squared_error(y_train, y_train_pred)\n",
    "train_rmse = np.sqrt(train_mse)\n",
    "\n",
    "test_mse = mean_squared_error(y_test, y_test_pred)\n",
    "test_rmse = np.sqrt(test_mse)\n",
    "\n",
    "print(f\"Train RMSE: {train_rmse:.4f}\")\n",
    "print(f\"Test RMSE: {test_rmse:.4f}\")\n",
    "\n",
    "importance = model.get_score(importance_type='weight')\n",
    "importance_df = pd.DataFrame(list(importance.items()), columns=['Feature', 'Importance']).sort_values(by='Importance', ascending=False)\n",
    "\n",
    "print(\"\\nTop Features:\")\n",
    "print(importance_df)\n"
   ]
  }
 ],
 "metadata": {
  "kernelspec": {
   "display_name": "Python 3",
   "language": "python",
   "name": "python3"
  },
  "language_info": {
   "codemirror_mode": {
    "name": "ipython",
    "version": 3
   },
   "file_extension": ".py",
   "mimetype": "text/x-python",
   "name": "python",
   "nbconvert_exporter": "python",
   "pygments_lexer": "ipython3",
   "version": "3.10.0"
  }
 },
 "nbformat": 4,
 "nbformat_minor": 2
}
