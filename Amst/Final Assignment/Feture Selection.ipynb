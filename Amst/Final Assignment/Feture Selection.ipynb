{
 "cells": [
  {
   "cell_type": "code",
   "execution_count": 83,
   "metadata": {},
   "outputs": [],
   "source": [
    "import pandas as pd\n",
    "import numpy as np\n",
    "from fredapi import Fred\n",
    "import yfinance as yf\n",
    "import glob"
   ]
  },
  {
   "cell_type": "code",
   "execution_count": 84,
   "metadata": {},
   "outputs": [],
   "source": [
    "start_date = '2020-09-01'\n",
    "end_date = '2024-09-01'"
   ]
  },
  {
   "cell_type": "code",
   "execution_count": 85,
   "metadata": {},
   "outputs": [
    {
     "name": "stderr",
     "output_type": "stream",
     "text": [
      "[*********************100%***********************]  1 of 1 completed"
     ]
    },
    {
     "name": "stderr",
     "output_type": "stream",
     "text": [
      "\n"
     ]
    }
   ],
   "source": [
    "# NVDA stock price\n",
    "target = ['NVDA']\n",
    "stock_price= yf.download(target, start_date, end_date)['Adj Close']\n",
    "stock_price.index = stock_price.index.strftime('%Y%m%d')\n",
    "stock_price.to_csv('./Data/nvidia_stock_price.csv')"
   ]
  },
  {
   "cell_type": "code",
   "execution_count": 86,
   "metadata": {},
   "outputs": [
    {
     "name": "stderr",
     "output_type": "stream",
     "text": [
      "[*********************100%***********************]  3 of 3 completed\n"
     ]
    }
   ],
   "source": [
    "# Competitors stock price\n",
    "competitors = ['AMD', 'INTC', 'QCOM']\n",
    "stock_price_competitors = yf.download(competitors, start_date, end_date)['Adj Close']\n",
    "stock_price_competitors.index = stock_price_competitors.index.strftime('%Y%m%d')\n",
    "stock_price_competitors.to_csv('./Data/competitors_stock_price.csv')\n"
   ]
  },
  {
   "cell_type": "code",
   "execution_count": 87,
   "metadata": {},
   "outputs": [],
   "source": [
    "# ADS INDEX\n",
    "data_ads = pd.read_excel('ADS_Index_Most_Current_Vintage.xlsx')\n",
    "data_ads['date'] = pd.to_datetime(data_ads['date'])\n",
    "data_ads = data_ads[(data_ads['date'] >= start_date) & (data_ads['date'] <= end_date)]\n",
    "data_ads['date'] = data_ads['date'].dt.strftime('%Y%m%d')\n",
    "df_ads = data_ads.set_index('date')\n",
    "df_ads.to_csv('./Data/ADS_Index_Processed.csv')\n"
   ]
  },
  {
   "cell_type": "code",
   "execution_count": 88,
   "metadata": {},
   "outputs": [],
   "source": [
    "# Fama French 5 Factors\n",
    "data_ff5 = pd.read_csv('FF_Research_Data_5_Factors_daily.csv')\n",
    "data_ff5['date'] = data_ff5['date'].astype(str).str[0:4] + '-' + \\\n",
    "                   data_ff5['date'].astype(str).str[4:6] + '-' + \\\n",
    "                   data_ff5['date'].astype(str).str[6:8]\n",
    "data_ff5['date'] = pd.to_datetime(data_ff5['date'])\n",
    "filtered_ff5 = data_ff5[(data_ff5['date'] >= start_date) & (data_ff5['date'] <= end_date)]\n",
    "filtered_ff5 = filtered_ff5[filtered_ff5['date'].dt.weekday < 5]\n",
    "filtered_ff5['date'] = filtered_ff5['date'].dt.strftime('%Y%m%d')\n",
    "filtered_ff5 = filtered_ff5.set_index('date')\n",
    "filtered_ff5.to_csv('./Data/FF5_Factors_Processed.csv')\n"
   ]
  },
  {
   "cell_type": "code",
   "execution_count": 89,
   "metadata": {},
   "outputs": [
    {
     "name": "stdout",
     "output_type": "stream",
     "text": [
      "Fred data successfully saved to './Data/fred_data_processed.csv'\n"
     ]
    }
   ],
   "source": [
    "# Initialize Fred API\n",
    "fred = Fred(api_key='96b8dcff4c5efa52d89e588594f2930c')\n",
    "\n",
    "# Define the list of series\n",
    "varList = [\n",
    "    'T10Y3M', 'DGS10', 'OBMMIJUMBO30YF',  # Term premium 10yr-3mon, 30yr mortgage jumbo loan\n",
    "    'DEXUSEU', 'DEXJPUS', 'DEXUSUK',      # Spot exchange rates to EUR, JPY, GBP\n",
    "    'CBBTCUSD', 'CBETHUSD',               # Cryptocurrencies\n",
    "    'T10YIE', 'DCOILBRENTEU',             # Breakeven inflation, Brent oil price\n",
    "    'VIXCLS',                             # Implied volatilities\n",
    "    'DAAA', 'DBAA',                       # Corporate bond yield\n",
    "    'AMERIBOR', 'T5YIE', 'BAMLH0A0HYM2',  # Additional financial indicators\n",
    "    'BAMLH0A0HYM2EY', 'DGS1', 'DCOILWTICO',\n",
    "    'DHHNGSP'\n",
    "]\n",
    "\n",
    "# Fetch SP500 series and initialize DataFrame\n",
    "SP500 = fred.get_series('SP500')\n",
    "SP500.name = 'SP500'\n",
    "df_fred = SP500.to_frame()\n",
    "\n",
    "# Merge all series into one DataFrame\n",
    "for var in varList:\n",
    "    try:\n",
    "        data = fred.get_series(var)\n",
    "        data.name = var\n",
    "        df_fred = pd.merge(df_fred, data.to_frame(), left_index=True, right_index=True, how='outer')\n",
    "    except Exception as e:\n",
    "        print(f\"Failed to fetch {var}: {e}\")\n",
    "\n",
    "# Format date index as YYYYMMDD\n",
    "df_fred.index = df_fred.index.strftime('%Y%m%d')\n",
    "df_fred = df_fred[(df_fred.index >= start_date) & (df_fred.index <= end_date)]\n",
    "df_fred.to_csv('./Data/fred_data_processed.csv', index_label='date')\n",
    "\n",
    "print(\"Fred data successfully saved to './Data/fred_data_processed.csv'\")\n"
   ]
  },
  {
   "cell_type": "code",
   "execution_count": 90,
   "metadata": {},
   "outputs": [
    {
     "name": "stderr",
     "output_type": "stream",
     "text": [
      "[*********************100%***********************]  1 of 1 completed"
     ]
    },
    {
     "name": "stdout",
     "output_type": "stream",
     "text": [
      "Filtered BTC prices saved to './Data/BTC_Stock_Market_Open.csv'\n"
     ]
    },
    {
     "name": "stderr",
     "output_type": "stream",
     "text": [
      "\n"
     ]
    }
   ],
   "source": [
    "SP500 = fred.get_series('SP500', start_date=start_date, end_date=end_date)\n",
    "stock_open_dates = SP500.index.strftime('%Y%m%d')  \n",
    "stock_open_dates = pd.Series(stock_open_dates)\n",
    "\n",
    "btc = yf.download('BTC-USD', start=start_date, end=end_date)['Adj Close']\n",
    "btc = btc.reset_index()  # Convert to DataFrame\n",
    "btc['Date'] = btc['Date'].dt.strftime('%Y%m%d')  # Format dates as YYYYMMDD\n",
    "btc.set_index('Date', inplace=True)\n",
    "\n",
    "# Filter BTC prices for stock market open dates\n",
    "btc_filtered = btc[btc.index.isin(stock_open_dates)]\n",
    "\n",
    "# Save filtered BTC prices to CSV\n",
    "btc_filtered.to_csv('./Data/BTC_Stock_Market_Open.csv', index_label='date')\n",
    "\n",
    "print(\"Filtered BTC prices saved to './Data/BTC_Stock_Market_Open.csv'\")"
   ]
  },
  {
   "cell_type": "code",
   "execution_count": null,
   "metadata": {},
   "outputs": [],
   "source": []
  },
  {
   "cell_type": "code",
   "execution_count": 94,
   "metadata": {},
   "outputs": [
    {
     "name": "stdout",
     "output_type": "stream",
     "text": [
      "Merged data saved to './Features.csv'\n"
     ]
    }
   ],
   "source": [
    "import pandas as pd\n",
    "from fredapi import Fred\n",
    "\n",
    "# Initialize Fred API\n",
    "fred = Fred(api_key='96b8dcff4c5efa52d89e588594f2930c')\n",
    "\n",
    "# Define time range\n",
    "start_date = '2023-09-01'\n",
    "end_date = '2024-09-01'\n",
    "\n",
    "# Step 1: Fetch stock market open dates\n",
    "SP500 = fred.get_series('SP500', start_date=start_date, end_date=end_date)\n",
    "stock_open_dates = SP500.index.strftime('%Y%m%d')  # Format as YYYYMMDD\n",
    "stock_open_dates = set(stock_open_dates)  # Convert to a set for fast filtering\n",
    "\n",
    "# Step 2: Define your CSV files\n",
    "csv_files = [\n",
    "    './Data/ADS_Index_Processed.csv',\n",
    "    './Data/nvidia_stock_price.csv',\n",
    "    './Data/competitors_stock_price.csv',\n",
    "    './Data/FF5_Factors_Processed.csv',\n",
    "    './Data/fred_data_processed.csv',\n",
    "    './Data/BTC_Stock_Market_Open.csv'\n",
    "]\n",
    "\n",
    "# Step 3: Read, filter, and merge the data\n",
    "merged_data = None\n",
    "\n",
    "for file in csv_files:\n",
    "    # Read CSV file\n",
    "    df = pd.read_csv(file)\n",
    "    \n",
    "    # Ensure 'date' column exists and is in string format\n",
    "    if 'date' in df.columns:\n",
    "        df.rename(columns={'date': 'date'}, inplace=True)\n",
    "    elif 'Date' in df.columns:\n",
    "        df.rename(columns={'Date': 'date'}, inplace=True)\n",
    "    else:\n",
    "        raise ValueError(f\"Neither 'Date' nor 'date' column exists in {file}\")\n",
    "    \n",
    "    df['date'] = df['date'].astype(str)\n",
    "    \n",
    "    # Filter for stock market open dates\n",
    "    df = df[df['date'].isin(stock_open_dates)]\n",
    "    \n",
    "    # Merge the data\n",
    "    if merged_data is None:\n",
    "        merged_data = df\n",
    "    else:\n",
    "        merged_data = pd.merge(merged_data, df, on='date', how='outer')\n",
    "\n",
    "# Step 4: Additional filter after merging\n",
    "merged_data = merged_data[(merged_data['date'] >= start_date.replace(\"-\", \"\")) & \n",
    "                          (merged_data['date'] <= end_date.replace(\"-\", \"\"))]\n",
    "\n",
    "# Step 5: Save the merged data to a new CSV file\n",
    "merged_data.to_csv('./Features.csv', index=False)\n",
    "\n",
    "print(\"Merged data saved to './Features.csv'\")\n"
   ]
  }
 ],
 "metadata": {
  "kernelspec": {
   "display_name": "Python 3",
   "language": "python",
   "name": "python3"
  },
  "language_info": {
   "codemirror_mode": {
    "name": "ipython",
    "version": 3
   },
   "file_extension": ".py",
   "mimetype": "text/x-python",
   "name": "python",
   "nbconvert_exporter": "python",
   "pygments_lexer": "ipython3",
   "version": "3.12.6"
  }
 },
 "nbformat": 4,
 "nbformat_minor": 2
}
