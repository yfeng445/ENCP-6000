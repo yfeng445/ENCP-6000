{
 "cells": [
  {
   "cell_type": "code",
   "execution_count": 44,
   "metadata": {},
   "outputs": [],
   "source": [
    "import numpy as np\n",
    "import pandas as pd\n",
    "import sklearn.linear_model as skl\n",
    "from sklearn.model_selection import train_test_split, cross_val_score\n",
    "import statsmodels.api as sm\n",
    "import scipy.stats as ss\n",
    "from statsmodels.stats.outliers_influence import variance_inflation_factor\n",
    "from statsmodels.tools.tools import add_constant\n",
    "# import cupy as cp"
   ]
  },
  {
   "cell_type": "code",
   "execution_count": 45,
   "metadata": {},
   "outputs": [
    {
     "ename": "KeyError",
     "evalue": "\"None of ['Date'] are in the columns\"",
     "output_type": "error",
     "traceback": [
      "\u001b[1;31m---------------------------------------------------------------------------\u001b[0m",
      "\u001b[1;31mKeyError\u001b[0m                                  Traceback (most recent call last)",
      "\u001b[1;32m~\\AppData\\Local\\Temp\\ipykernel_22376\\3451474771.py\u001b[0m in \u001b[0;36m?\u001b[1;34m()\u001b[0m\n\u001b[1;32m----> 1\u001b[1;33m \u001b[0mdf\u001b[0m \u001b[1;33m=\u001b[0m \u001b[0mpd\u001b[0m\u001b[1;33m.\u001b[0m\u001b[0mread_csv\u001b[0m\u001b[1;33m(\u001b[0m\u001b[1;34m'./preprocessed_stock_data.csv'\u001b[0m\u001b[1;33m)\u001b[0m\u001b[1;33m.\u001b[0m\u001b[0mdropna\u001b[0m\u001b[1;33m(\u001b[0m\u001b[1;33m)\u001b[0m\u001b[1;33m.\u001b[0m\u001b[0mset_index\u001b[0m\u001b[1;33m(\u001b[0m\u001b[1;34m'Date'\u001b[0m\u001b[1;33m)\u001b[0m\u001b[1;33m\u001b[0m\u001b[1;33m\u001b[0m\u001b[0m\n\u001b[0m\u001b[0;32m      2\u001b[0m \u001b[0mpd\u001b[0m\u001b[1;33m.\u001b[0m\u001b[0mset_option\u001b[0m\u001b[1;33m(\u001b[0m\u001b[1;34m'display.width'\u001b[0m\u001b[1;33m,\u001b[0m \u001b[1;36m1000\u001b[0m\u001b[1;33m)\u001b[0m  \u001b[1;31m# Set maximum display width\u001b[0m\u001b[1;33m\u001b[0m\u001b[1;33m\u001b[0m\u001b[0m\n\u001b[0;32m      3\u001b[0m \u001b[0mpd\u001b[0m\u001b[1;33m.\u001b[0m\u001b[0mset_option\u001b[0m\u001b[1;33m(\u001b[0m\u001b[1;34m'display.max_columns'\u001b[0m\u001b[1;33m,\u001b[0m \u001b[1;32mNone\u001b[0m\u001b[1;33m)\u001b[0m  \u001b[1;31m# Show all columns\u001b[0m\u001b[1;33m\u001b[0m\u001b[1;33m\u001b[0m\u001b[0m\n\u001b[0;32m      4\u001b[0m \u001b[1;33m\u001b[0m\u001b[0m\n",
      "\u001b[1;32m~\\AppData\\Roaming\\Python\\Python312\\site-packages\\pandas\\core\\frame.py\u001b[0m in \u001b[0;36m?\u001b[1;34m(self, keys, drop, append, inplace, verify_integrity)\u001b[0m\n\u001b[0;32m   6118\u001b[0m                     \u001b[1;32mif\u001b[0m \u001b[1;32mnot\u001b[0m \u001b[0mfound\u001b[0m\u001b[1;33m:\u001b[0m\u001b[1;33m\u001b[0m\u001b[1;33m\u001b[0m\u001b[0m\n\u001b[0;32m   6119\u001b[0m                         \u001b[0mmissing\u001b[0m\u001b[1;33m.\u001b[0m\u001b[0mappend\u001b[0m\u001b[1;33m(\u001b[0m\u001b[0mcol\u001b[0m\u001b[1;33m)\u001b[0m\u001b[1;33m\u001b[0m\u001b[1;33m\u001b[0m\u001b[0m\n\u001b[0;32m   6120\u001b[0m \u001b[1;33m\u001b[0m\u001b[0m\n\u001b[0;32m   6121\u001b[0m         \u001b[1;32mif\u001b[0m \u001b[0mmissing\u001b[0m\u001b[1;33m:\u001b[0m\u001b[1;33m\u001b[0m\u001b[1;33m\u001b[0m\u001b[0m\n\u001b[1;32m-> 6122\u001b[1;33m             \u001b[1;32mraise\u001b[0m \u001b[0mKeyError\u001b[0m\u001b[1;33m(\u001b[0m\u001b[1;33mf\"\u001b[0m\u001b[1;33mNone of \u001b[0m\u001b[1;33m{\u001b[0m\u001b[0mmissing\u001b[0m\u001b[1;33m}\u001b[0m\u001b[1;33m are in the columns\u001b[0m\u001b[1;33m\"\u001b[0m\u001b[1;33m)\u001b[0m\u001b[1;33m\u001b[0m\u001b[1;33m\u001b[0m\u001b[0m\n\u001b[0m\u001b[0;32m   6123\u001b[0m \u001b[1;33m\u001b[0m\u001b[0m\n\u001b[0;32m   6124\u001b[0m         \u001b[1;32mif\u001b[0m \u001b[0minplace\u001b[0m\u001b[1;33m:\u001b[0m\u001b[1;33m\u001b[0m\u001b[1;33m\u001b[0m\u001b[0m\n\u001b[0;32m   6125\u001b[0m             \u001b[0mframe\u001b[0m \u001b[1;33m=\u001b[0m \u001b[0mself\u001b[0m\u001b[1;33m\u001b[0m\u001b[1;33m\u001b[0m\u001b[0m\n",
      "\u001b[1;31mKeyError\u001b[0m: \"None of ['Date'] are in the columns\""
     ]
    }
   ],
   "source": [
    "df = pd.read_csv('./preprocessed_stock_data.csv').dropna().set_index('Date')\n",
    "pd.set_option('display.width', 1000)  # Set maximum display width\n",
    "pd.set_option('display.max_columns', None)  # Show all columns\n",
    "\n",
    "describe_output = df.describe().transpose()\n",
    "print(describe_output.to_string())\n"
   ]
  },
  {
   "cell_type": "markdown",
   "metadata": {},
   "source": [
    "### z-score normalization"
   ]
  },
  {
   "cell_type": "code",
   "execution_count": null,
   "metadata": {},
   "outputs": [],
   "source": [
    "from scipy.stats import zscore\n",
    "import pandas as pd"
   ]
  },
  {
   "cell_type": "code",
   "execution_count": null,
   "metadata": {},
   "outputs": [],
   "source": [
    "df_nor = zscore(df)"
   ]
  },
  {
   "cell_type": "code",
   "execution_count": null,
   "metadata": {},
   "outputs": [
    {
     "name": "stdout",
     "output_type": "stream",
     "text": [
      "(200, 19) (51, 19) (200,) (51,)\n",
      "               0           1            2          3          4          5          6          7          8         9         10        11        12        13        14         15         16           17           18         19\n",
      "Feature     const         SMA          EMA       AAPL        AMD       AVGO       INTC       QCOM  ADS_Index    Mkt-RF       SMB       HML       RMW       CMA        RF   CBBTCUSD   CBETHUSD        SP500    NASDAQCOM       DJIA\n",
      "VIF      1.023709  683.267089  1087.815919  19.090883  20.204097  58.490461  12.955896  39.307177   2.620873  1.468869  2.531297  1.803322  1.966615  1.238401  2.439675  61.290274  54.343314  1772.999897  1313.153114  136.78701\n",
      "               0         1          2          3         4          5          6         7         8        9         10        11        12         13         14         15\n",
      "Feature     const      AAPL        AMD       AVGO      INTC       QCOM  ADS_Index    Mkt-RF       SMB      HML       RMW       CMA        RF   CBBTCUSD   CBETHUSD       DJIA\n",
      "VIF      1.017882  7.640395  13.727902  34.905385  5.273824  16.222789   1.732388  1.363715  2.516719  1.67376  1.912893  1.182506  1.695654  45.678119  39.125587  17.221943\n",
      "                            OLS Regression Results                            \n",
      "==============================================================================\n",
      "Dep. Variable:                   NVDA   R-squared:                       0.981\n",
      "Model:                            OLS   Adj. R-squared:                  0.980\n",
      "Method:                 Least Squares   F-statistic:                     1429.\n",
      "Date:                Tue, 10 Dec 2024   Prob (F-statistic):          6.78e-162\n",
      "Time:                        11:54:57   Log-Likelihood:                -572.19\n",
      "No. Observations:                 200   AIC:                             1160.\n",
      "Df Residuals:                     192   BIC:                             1187.\n",
      "Df Model:                           7                                         \n",
      "Covariance Type:            nonrobust                                         \n",
      "==============================================================================\n",
      "                 coef    std err          t      P>|t|      [0.025      0.975]\n",
      "------------------------------------------------------------------------------\n",
      "const         79.3179      0.306    259.242      0.000      78.714      79.921\n",
      "AAPL           1.9861      0.619      3.208      0.002       0.765       3.207\n",
      "AVGO          15.2445      1.176     12.966      0.000      12.926      17.564\n",
      "INTC          -8.9931      0.423    -21.274      0.000      -9.827      -8.159\n",
      "QCOM           3.4507      1.174      2.939      0.004       1.135       5.766\n",
      "RF             1.2771      0.352      3.626      0.000       0.582       1.972\n",
      "CBBTCUSD      -7.1660      1.458     -4.914      0.000     -10.042      -4.290\n",
      "CBETHUSD      14.1221      1.517      9.309      0.000      11.130      17.114\n",
      "==============================================================================\n",
      "Omnibus:                        1.034   Durbin-Watson:                   1.807\n",
      "Prob(Omnibus):                  0.596   Jarque-Bera (JB):                0.702\n",
      "Skew:                           0.005   Prob(JB):                        0.704\n",
      "Kurtosis:                       3.290   Cond. No.                         14.4\n",
      "==============================================================================\n",
      "\n",
      "Notes:\n",
      "[1] Standard Errors assume that the covariance matrix of the errors is correctly specified.\n",
      "benchmark: corr (Y, Y_pred) = 0.9905373878354035\n",
      "Hard Thresholding selected 8 features:  ['const' 'AAPL' 'AVGO' 'INTC' 'QCOM' 'RF' 'CBBTCUSD' 'CBETHUSD']\n"
     ]
    }
   ],
   "source": [
    "y_train = df['NVDA']\n",
    "x = df_nor.drop(['NVDA'], axis=1)\n",
    "x_train, x_test, y_train, y_test = train_test_split(x, y_train, test_size=0.2, random_state=0)\n",
    "print(x_train.shape, x_test.shape, y_train.shape, y_test.shape)\n",
    "\n",
    "# Add constant for intercept\n",
    "x_with_const = add_constant(x_train)\n",
    "\n",
    "# Calculate VIF for each feature\n",
    "vif_data = pd.DataFrame()\n",
    "vif_data[\"Feature\"] = x_with_const.columns\n",
    "vif_data[\"VIF\"] = [variance_inflation_factor(x_with_const.values, i) for i in range(x_with_const.shape[1])]\n",
    "\n",
    "print(vif_data.transpose().to_string())\n",
    "\n",
    "# Drop features that are likely causing multicollinearity\n",
    "x_train_reduced = x_train.drop(['SMA', 'EMA', 'NASDAQCOM', 'SP500'], axis=1)\n",
    "x_test_reduced = x_test.drop(['SMA', 'EMA', 'NASDAQCOM', 'SP500'], axis=1)\n",
    "\n",
    "# Add constant for intercept\n",
    "x_with_const = add_constant(x_train_reduced)\n",
    "\n",
    "# Calculate VIF for each feature\n",
    "vif_data = pd.DataFrame()\n",
    "vif_data[\"Feature\"] = x_with_const.columns\n",
    "vif_data[\"VIF\"] = [variance_inflation_factor(x_with_const.values, i) for i in range(x_with_const.shape[1])]\n",
    "\n",
    "print(vif_data.transpose().to_string())\n",
    "\n",
    "# OLS\n",
    "x_train_reduced = sm.add_constant(x_train_reduced)\n",
    "benchmark_prep = sm.OLS(y_train,x_train_reduced).fit()\n",
    "benchmark_prep.summary()\n",
    "benchmark_select = x_train_reduced.columns[np.abs(benchmark_prep.tvalues)>=1.96]\n",
    "x = x_train_reduced[benchmark_select]\n",
    "benchmark = sm.OLS(y_train,x).fit()\n",
    "print(benchmark.summary())\n",
    "y_hat_benchmark1 = benchmark.predict(x)\n",
    "corr_benchmark1 = ss.pearsonr(y_hat_benchmark1, y_train)[0]\n",
    "print('benchmark: corr (Y, Y_pred) = '+str(corr_benchmark1))\n",
    "print('Hard Thresholding selected ' +str(len(benchmark_select)) +' features: ', benchmark_select.values)"
   ]
  },
  {
   "cell_type": "code",
   "execution_count": null,
   "metadata": {},
   "outputs": [
    {
     "name": "stdout",
     "output_type": "stream",
     "text": [
      "                            OLS Regression Results                            \n",
      "==============================================================================\n",
      "Dep. Variable:                   NVDA   R-squared:                       0.982\n",
      "Model:                            OLS   Adj. R-squared:                  0.980\n",
      "Method:                 Least Squares   F-statistic:                     659.1\n",
      "Date:                Tue, 10 Dec 2024   Prob (F-statistic):          4.31e-151\n",
      "Time:                        11:54:57   Log-Likelihood:                -569.14\n",
      "No. Observations:                 200   AIC:                             1170.\n",
      "Df Residuals:                     184   BIC:                             1223.\n",
      "Df Model:                          15                                         \n",
      "Covariance Type:            nonrobust                                         \n",
      "==============================================================================\n",
      "                 coef    std err          t      P>|t|      [0.025      0.975]\n",
      "------------------------------------------------------------------------------\n",
      "const         79.3022      0.310    255.977      0.000      78.691      79.913\n",
      "AAPL           2.7776      0.832      3.340      0.001       1.137       4.418\n",
      "AMD            1.5294      1.105      1.384      0.168      -0.651       3.710\n",
      "AVGO          15.0985      1.787      8.449      0.000      11.573      18.624\n",
      "INTC          -9.1301      0.702    -12.998      0.000     -10.516      -7.744\n",
      "QCOM           3.4481      1.219      2.827      0.005       1.042       5.854\n",
      "ADS_Index      0.0039      0.418      0.009      0.993      -0.822       0.829\n",
      "Mkt-RF        -0.2079      0.368     -0.565      0.573      -0.934       0.519\n",
      "SMB           -0.2521      0.497     -0.507      0.612      -1.233       0.728\n",
      "HML            0.4663      0.404      1.153      0.250      -0.332       1.264\n",
      "RMW           -0.1570      0.442     -0.355      0.723      -1.029       0.715\n",
      "CMA           -0.0238      0.350     -0.068      0.946      -0.715       0.667\n",
      "RF             1.1598      0.403      2.876      0.005       0.364       1.955\n",
      "CBBTCUSD      -4.7214      2.032     -2.323      0.021      -8.731      -0.712\n",
      "CBETHUSD      12.2442      1.875      6.531      0.000       8.545      15.943\n",
      "DJIA          -2.2265      1.221     -1.824      0.070      -4.635       0.182\n",
      "==============================================================================\n",
      "Omnibus:                        0.965   Durbin-Watson:                   1.801\n",
      "Prob(Omnibus):                  0.617   Jarque-Bera (JB):                0.632\n",
      "Skew:                           0.051   Prob(JB):                        0.729\n",
      "Kurtosis:                       3.256   Cond. No.                         22.5\n",
      "==============================================================================\n",
      "\n",
      "Notes:\n",
      "[1] Standard Errors assume that the covariance matrix of the errors is correctly specified.\n",
      "model 2 Ridge Regression: corr (Y, Y_pred) = 0.9908225941806873\n",
      "Ridge Regression selected 16 features:  ['const' 'AAPL' 'AMD' 'AVGO' 'INTC' 'QCOM' 'ADS_Index' 'Mkt-RF' 'SMB'\n",
      " 'HML' 'RMW' 'CMA' 'RF' 'CBBTCUSD' 'CBETHUSD' 'DJIA']\n"
     ]
    }
   ],
   "source": [
    "# Ridge\n",
    "a = 0.5\n",
    "ridge_prep = skl.Ridge(alpha=a, fit_intercept=False).fit(x_train_reduced, y_train)\n",
    "ridge_select = x_train_reduced.columns[np.abs(ridge_prep.coef_)>=0.001]\n",
    "x = x_train_reduced[ridge_select]\n",
    "ridge = sm.OLS(y_train,x).fit()\n",
    "print(ridge.summary())\n",
    "y_pred_ridge = ridge.predict(x)\n",
    "corr_ridge = ss.pearsonr(y_pred_ridge, y_train)[0]\n",
    "print('model 2 Ridge Regression: corr (Y, Y_pred) = '+str(corr_ridge))\n",
    "print('Ridge Regression selected ' +str(len(ridge_select)) +' features: ', ridge_select.values)"
   ]
  },
  {
   "cell_type": "code",
   "execution_count": null,
   "metadata": {},
   "outputs": [
    {
     "name": "stdout",
     "output_type": "stream",
     "text": [
      "                            OLS Regression Results                            \n",
      "==============================================================================\n",
      "Dep. Variable:                   NVDA   R-squared:                       0.979\n",
      "Model:                            OLS   Adj. R-squared:                  0.978\n",
      "Method:                 Least Squares   F-statistic:                     1485.\n",
      "Date:                Tue, 10 Dec 2024   Prob (F-statistic):          1.46e-158\n",
      "Time:                        11:54:57   Log-Likelihood:                -584.04\n",
      "No. Observations:                 200   AIC:                             1182.\n",
      "Df Residuals:                     193   BIC:                             1205.\n",
      "Df Model:                           6                                         \n",
      "Covariance Type:            nonrobust                                         \n",
      "==============================================================================\n",
      "                 coef    std err          t      P>|t|      [0.025      0.975]\n",
      "------------------------------------------------------------------------------\n",
      "const         79.3110      0.324    244.947      0.000      78.672      79.950\n",
      "AAPL           2.6219      0.641      4.092      0.000       1.358       3.885\n",
      "AVGO          12.8004      1.127     11.353      0.000      10.577      15.024\n",
      "INTC          -8.0708      0.401    -20.134      0.000      -8.861      -7.280\n",
      "QCOM           4.4832      1.222      3.667      0.000       2.072       6.894\n",
      "RF             1.3458      0.372      3.613      0.000       0.611       2.080\n",
      "CBETHUSD       8.2123      0.979      8.392      0.000       6.282      10.142\n",
      "==============================================================================\n",
      "Omnibus:                        0.762   Durbin-Watson:                   1.810\n",
      "Prob(Omnibus):                  0.683   Jarque-Bera (JB):                0.875\n",
      "Skew:                          -0.133   Prob(JB):                        0.646\n",
      "Kurtosis:                       2.815   Cond. No.                         8.57\n",
      "==============================================================================\n",
      "\n",
      "Notes:\n",
      "[1] Standard Errors assume that the covariance matrix of the errors is correctly specified.\n",
      "model 3 LASSO: corr (Y, Y_pred) = 0.9893407160983059\n",
      "LASSO selected 7 features:  ['const' 'AAPL' 'AVGO' 'INTC' 'QCOM' 'RF' 'CBETHUSD']\n"
     ]
    }
   ],
   "source": [
    "# Lasso\n",
    "a = 0.5\n",
    "lasso_prep = skl.Lasso(alpha=a, fit_intercept=False).fit(x_train_reduced, y_train)\n",
    "lasso_select = x_train_reduced.columns[np.abs(lasso_prep.coef_)!=0.0]\n",
    "x = x_train_reduced[lasso_select]\n",
    "lasso = sm.OLS(y_train,x).fit()\n",
    "print(lasso.summary())\n",
    "y_pred_lasso = lasso.predict(x)\n",
    "corr_lasso = ss.pearsonr(y_pred_lasso, y_train)[0]\n",
    "print('model 3 LASSO: corr (Y, Y_pred) = '+str(corr_lasso))\n",
    "print('LASSO selected ' +str(len(lasso_select)) +' features: ', lasso_select.values)"
   ]
  },
  {
   "cell_type": "code",
   "execution_count": null,
   "metadata": {},
   "outputs": [
    {
     "name": "stdout",
     "output_type": "stream",
     "text": [
      "                            OLS Regression Results                            \n",
      "==============================================================================\n",
      "Dep. Variable:                   NVDA   R-squared:                       0.982\n",
      "Model:                            OLS   Adj. R-squared:                  0.980\n",
      "Method:                 Least Squares   F-statistic:                     767.6\n",
      "Date:                Tue, 10 Dec 2024   Prob (F-statistic):          6.43e-154\n",
      "Time:                        11:54:57   Log-Likelihood:                -569.29\n",
      "No. Observations:                 200   AIC:                             1167.\n",
      "Df Residuals:                     186   BIC:                             1213.\n",
      "Df Model:                          13                                         \n",
      "Covariance Type:            nonrobust                                         \n",
      "==============================================================================\n",
      "                 coef    std err          t      P>|t|      [0.025      0.975]\n",
      "------------------------------------------------------------------------------\n",
      "const         79.3105      0.308    257.549      0.000      78.703      79.918\n",
      "AAPL           2.7511      0.821      3.353      0.001       1.132       4.370\n",
      "AMD            1.5410      1.089      1.415      0.159      -0.607       3.689\n",
      "AVGO          15.1447      1.731      8.748      0.000      11.729      18.560\n",
      "INTC          -9.0747      0.679    -13.372      0.000     -10.413      -7.736\n",
      "QCOM           3.4419      1.206      2.855      0.005       1.064       5.820\n",
      "ADS_Index      0.0404      0.405      0.100      0.921      -0.759       0.839\n",
      "Mkt-RF        -0.2508      0.347     -0.722      0.471      -0.936       0.434\n",
      "HML            0.3392      0.321      1.057      0.292      -0.294       0.973\n",
      "RMW           -0.0176      0.350     -0.050      0.960      -0.708       0.673\n",
      "RF             1.2124      0.385      3.151      0.002       0.453       1.972\n",
      "CBBTCUSD      -4.5306      1.985     -2.283      0.024      -8.446      -0.616\n",
      "CBETHUSD      12.0665      1.832      6.585      0.000       8.451      15.682\n",
      "DJIA          -2.2927      1.206     -1.901      0.059      -4.672       0.086\n",
      "==============================================================================\n",
      "Omnibus:                        0.748   Durbin-Watson:                   1.794\n",
      "Prob(Omnibus):                  0.688   Jarque-Bera (JB):                0.440\n",
      "Skew:                           0.051   Prob(JB):                        0.803\n",
      "Kurtosis:                       3.206   Cond. No.                         22.1\n",
      "==============================================================================\n",
      "\n",
      "Notes:\n",
      "[1] Standard Errors assume that the covariance matrix of the errors is correctly specified.\n",
      "model 4 Elastic Net: corr (Y, Y_pred) = 0.9908090028620589\n",
      "ElasticNet selected 14 features:  ['const' 'AAPL' 'AMD' 'AVGO' 'INTC' 'QCOM' 'ADS_Index' 'Mkt-RF' 'HML'\n",
      " 'RMW' 'RF' 'CBBTCUSD' 'CBETHUSD' 'DJIA']\n"
     ]
    }
   ],
   "source": [
    "# Elastic Net\n",
    "a = 0.5\n",
    "elastic_prep = skl.ElasticNet(alpha=a, fit_intercept=False).fit(x_train_reduced, y_train)\n",
    "elastic_select = x_train_reduced.columns[np.abs(elastic_prep.coef_)!=0.0]\n",
    "x = x_train_reduced[elastic_select]\n",
    "elastic = sm.OLS(y_train,x).fit()\n",
    "print(elastic.summary())\n",
    "y_pred_elastic = elastic.predict(x)\n",
    "corr_elastic = ss.pearsonr(y_pred_elastic, y_train)[0]\n",
    "print('model 4 Elastic Net: corr (Y, Y_pred) = '+str(corr_elastic))\n",
    "print('ElasticNet selected ' +str(len(elastic_select)) +' features: ', elastic_select.values)"
   ]
  },
  {
   "cell_type": "code",
   "execution_count": null,
   "metadata": {},
   "outputs": [
    {
     "name": "stdout",
     "output_type": "stream",
     "text": [
      "                                 OLS Regression Results                                \n",
      "=======================================================================================\n",
      "Dep. Variable:                   NVDA   R-squared (uncentered):                   0.113\n",
      "Model:                            OLS   Adj. R-squared (uncentered):              0.086\n",
      "Method:                 Least Squares   F-statistic:                              4.129\n",
      "Date:                Tue, 10 Dec 2024   Prob (F-statistic):                    0.000632\n",
      "Time:                        11:54:57   Log-Likelihood:                         -1160.0\n",
      "No. Observations:                 200   AIC:                                      2332.\n",
      "Df Residuals:                     194   BIC:                                      2352.\n",
      "Df Model:                           6                                                  \n",
      "Covariance Type:            nonrobust                                                  \n",
      "==============================================================================\n",
      "                 coef    std err          t      P>|t|      [0.025      0.975]\n",
      "------------------------------------------------------------------------------\n",
      "AVGO          34.3465     14.761      2.327      0.021       5.234      63.459\n",
      "Mkt-RF        -0.0941      6.065     -0.016      0.988     -12.056      11.868\n",
      "HML           -1.7727      6.024     -0.294      0.769     -13.654      10.108\n",
      "CMA           -2.8166      6.234     -0.452      0.652     -15.113       9.479\n",
      "CBETHUSD       2.9265      9.405      0.311      0.756     -15.623      21.476\n",
      "DJIA          -9.2686     14.975     -0.619      0.537     -38.804      20.266\n",
      "==============================================================================\n",
      "Omnibus:                        0.462   Durbin-Watson:                   0.023\n",
      "Prob(Omnibus):                  0.794   Jarque-Bera (JB):                0.594\n",
      "Skew:                           0.094   Prob(JB):                        0.743\n",
      "Kurtosis:                       2.810   Cond. No.                         5.84\n",
      "==============================================================================\n",
      "\n",
      "Notes:\n",
      "[1] R² is computed without centering (uncentered) since the model does not contain a constant.\n",
      "[2] Standard Errors assume that the covariance matrix of the errors is correctly specified.\n",
      "model 1 LARS: corr (Y, Y_pred) = 0.9615983550958669\n",
      "LARS selected 6 features:  ['AVGO\\n' 'Mkt-RF\\n' 'HML\\n' 'CMA\\n' 'CBETHUSD\\n' 'DJIA\\n']\n"
     ]
    }
   ],
   "source": [
    "# Least Angle\n",
    "leastAngle_prep = skl.Lars().fit(x_train_reduced, y_train)\n",
    "leastAngle_select = x_train_reduced.columns[leastAngle_prep.coef_>=0.001]\n",
    "x = x_train_reduced[leastAngle_select]\n",
    "leastAngle = sm.OLS(y_train,x).fit()\n",
    "print(leastAngle.summary())\n",
    "y_pred_leastAngle = leastAngle.predict(x)\n",
    "corr_leastAngle = ss.pearsonr(y_pred_leastAngle, y_train)[0]\n",
    "print('model 1 LARS: corr (Y, Y_pred) = '+str(corr_leastAngle))\n",
    "print('LARS selected ' +str(len(leastAngle_select)) +' features: ', leastAngle_select.values + '\\n')"
   ]
  },
  {
   "cell_type": "code",
   "execution_count": null,
   "metadata": {},
   "outputs": [
    {
     "name": "stdout",
     "output_type": "stream",
     "text": [
      "OLS: ['const' 'AAPL' 'AVGO' 'INTC' 'QCOM' 'RF' 'CBBTCUSD' 'CBETHUSD']\n",
      "ridge: ['const' 'AAPL' 'AMD' 'AVGO' 'INTC' 'QCOM' 'ADS_Index' 'Mkt-RF' 'SMB'\n",
      " 'HML' 'RMW' 'CMA' 'RF' 'CBBTCUSD' 'CBETHUSD' 'DJIA']\n",
      "lasso: ['const' 'AAPL' 'AVGO' 'INTC' 'QCOM' 'RF' 'CBETHUSD']\n",
      "elastic net: ['const' 'AAPL' 'AMD' 'AVGO' 'INTC' 'QCOM' 'ADS_Index' 'Mkt-RF' 'HML'\n",
      " 'RMW' 'RF' 'CBBTCUSD' 'CBETHUSD' 'DJIA']\n",
      "LAS: ['AVGO' 'Mkt-RF' 'HML' 'CMA' 'CBETHUSD' 'DJIA']\n"
     ]
    }
   ],
   "source": [
    "print(f\"OLS: {benchmark_select.values}\")\n",
    "print(f\"ridge: {ridge_select.values}\")\n",
    "print(f\"lasso: {lasso_select.values}\")\n",
    "print(f\"elastic net: {elastic_select.values}\")\n",
    "print(f\"LAS: {leastAngle_select.values}\")\n"
   ]
  },
  {
   "cell_type": "markdown",
   "metadata": {},
   "source": [
    "OLS: ['const' 'AAPL' 'AVGO' 'INTC' 'QCOM' 'RF' 'CBBTCUSD' 'CBETHUSD']\n",
    "ridge: ['const' 'AAPL' 'AMD' 'AVGO' 'INTC' 'QCOM' 'ADS_Index' 'Mkt-RF' 'SMB'\n",
    " 'HML' 'RMW' 'CMA' 'RF' 'CBBTCUSD' 'CBETHUSD' 'DJIA']\n",
    "lasso: ['const' 'AAPL' 'AVGO' 'INTC' 'QCOM' 'RF' 'CBETHUSD']\n",
    "elastic net: ['const' 'AAPL' 'AMD' 'AVGO' 'INTC' 'QCOM' 'ADS_Index' 'Mkt-RF' 'HML'\n",
    " 'RMW' 'RF' 'CBBTCUSD' 'CBETHUSD' 'DJIA']\n",
    "LAS: ['AVGO' 'Mkt-RF' 'HML' 'CMA' 'CBETHUSD' 'DJIA']"
   ]
  },
  {
   "cell_type": "code",
   "execution_count": null,
   "metadata": {},
   "outputs": [],
   "source": []
  },
  {
   "cell_type": "code",
   "execution_count": null,
   "metadata": {},
   "outputs": [],
   "source": []
  },
  {
   "cell_type": "markdown",
   "metadata": {},
   "source": [
    "### Without scaling"
   ]
  },
  {
   "cell_type": "code",
   "execution_count": null,
   "metadata": {},
   "outputs": [
    {
     "name": "stdout",
     "output_type": "stream",
     "text": [
      "(200, 19) (51, 19) (200,) (51,)\n"
     ]
    }
   ],
   "source": [
    "y_train = df['NVDA']\n",
    "x = df.drop(['NVDA'], axis=1)\n",
    "x_train, x_test, y_train, y_test = train_test_split(x, y_train, test_size=0.2, random_state=0)\n",
    "print(x_train.shape, x_test.shape, y_train.shape, y_test.shape)"
   ]
  },
  {
   "cell_type": "code",
   "execution_count": null,
   "metadata": {},
   "outputs": [
    {
     "name": "stdout",
     "output_type": "stream",
     "text": [
      "                  0           1            2          3          4          5          6          7          8         9         10        11        12        13        14         15         16           17           18         19\n",
      "Feature        const         SMA          EMA       AAPL        AMD       AVGO       INTC       QCOM  ADS_Index    Mkt-RF       SMB       HML       RMW       CMA        RF   CBBTCUSD   CBETHUSD        SP500    NASDAQCOM       DJIA\n",
      "VIF      6554.654195  683.267089  1087.815919  19.090883  20.204097  58.490461  12.955896  39.307177   2.620873  1.468869  2.531297  1.803322  1.966615  1.238401  2.439675  61.290274  54.343314  1772.999897  1313.153114  136.78701\n"
     ]
    }
   ],
   "source": [
    "# Add constant for intercept\n",
    "x_with_const = add_constant(x_train)\n",
    "\n",
    "# Calculate VIF for each feature\n",
    "vif_data = pd.DataFrame()\n",
    "vif_data[\"Feature\"] = x_with_const.columns\n",
    "vif_data[\"VIF\"] = [variance_inflation_factor(x_with_const.values, i) for i in range(x_with_const.shape[1])]\n",
    "\n",
    "print(vif_data.transpose().to_string())\n"
   ]
  },
  {
   "cell_type": "code",
   "execution_count": null,
   "metadata": {},
   "outputs": [],
   "source": [
    "# Drop features that are likely causing multicollinearity\n",
    "x_train_reduced = x_train.drop(['SMA', 'EMA', 'NASDAQCOM', 'SP500'], axis=1)\n",
    "x_test_reduced = x_test.drop(['SMA', 'EMA', 'NASDAQCOM', 'SP500'], axis=1)"
   ]
  },
  {
   "cell_type": "code",
   "execution_count": null,
   "metadata": {},
   "outputs": [
    {
     "name": "stdout",
     "output_type": "stream",
     "text": [
      "                  0         1          2          3         4          5          6         7         8        9         10        11        12         13         14         15\n",
      "Feature        const      AAPL        AMD       AVGO      INTC       QCOM  ADS_Index    Mkt-RF       SMB      HML       RMW       CMA        RF   CBBTCUSD   CBETHUSD       DJIA\n",
      "VIF      3847.248542  7.640395  13.727902  34.905385  5.273824  16.222789   1.732388  1.363715  2.516719  1.67376  1.912893  1.182506  1.695654  45.678119  39.125587  17.221943\n"
     ]
    }
   ],
   "source": [
    "# Add constant for intercept\n",
    "x_with_const = add_constant(x_train_reduced)\n",
    "\n",
    "# Calculate VIF for each feature\n",
    "vif_data = pd.DataFrame()\n",
    "vif_data[\"Feature\"] = x_with_const.columns\n",
    "vif_data[\"VIF\"] = [variance_inflation_factor(x_with_const.values, i) for i in range(x_with_const.shape[1])]\n",
    "\n",
    "print(vif_data.transpose().to_string())"
   ]
  },
  {
   "cell_type": "code",
   "execution_count": null,
   "metadata": {},
   "outputs": [
    {
     "name": "stdout",
     "output_type": "stream",
     "text": [
      "                                 OLS Regression Results                                \n",
      "=======================================================================================\n",
      "Dep. Variable:                   NVDA   R-squared (uncentered):                   0.997\n",
      "Model:                            OLS   Adj. R-squared (uncentered):              0.997\n",
      "Method:                 Least Squares   F-statistic:                          1.011e+04\n",
      "Date:                Tue, 10 Dec 2024   Prob (F-statistic):                   8.01e-244\n",
      "Time:                        11:54:57   Log-Likelihood:                         -581.34\n",
      "No. Observations:                 200   AIC:                                      1177.\n",
      "Df Residuals:                     193   BIC:                                      1200.\n",
      "Df Model:                           7                                                  \n",
      "Covariance Type:            nonrobust                                                  \n",
      "==============================================================================\n",
      "                 coef    std err          t      P>|t|      [0.025      0.975]\n",
      "------------------------------------------------------------------------------\n",
      "AAPL           0.0804      0.034      2.345      0.020       0.013       0.148\n",
      "AVGO           0.6313      0.041     15.460      0.000       0.551       0.712\n",
      "INTC          -1.2641      0.059    -21.576      0.000      -1.380      -1.149\n",
      "QCOM           0.0670      0.037      1.822      0.070      -0.006       0.139\n",
      "RF          -188.3679    267.511     -0.704      0.482    -715.988     339.252\n",
      "CBBTCUSD      -0.0005      0.000     -5.403      0.000      -0.001      -0.000\n",
      "CBETHUSD       0.0202      0.002      9.161      0.000       0.016       0.025\n",
      "==============================================================================\n",
      "Omnibus:                        2.743   Durbin-Watson:                   1.895\n",
      "Prob(Omnibus):                  0.254   Jarque-Bera (JB):                2.821\n",
      "Skew:                           0.058   Prob(JB):                        0.244\n",
      "Kurtosis:                       3.570   Cond. No.                     4.48e+07\n",
      "==============================================================================\n",
      "\n",
      "Notes:\n",
      "[1] R² is computed without centering (uncentered) since the model does not contain a constant.\n",
      "[2] Standard Errors assume that the covariance matrix of the errors is correctly specified.\n",
      "[3] The condition number is large, 4.48e+07. This might indicate that there are\n",
      "strong multicollinearity or other numerical problems.\n",
      "benchmark: corr (Y, Y_pred) = 0.9896291472049561\n",
      "Hard Thresholding selected 7 features:  ['AAPL' 'AVGO' 'INTC' 'QCOM' 'RF' 'CBBTCUSD' 'CBETHUSD']\n"
     ]
    }
   ],
   "source": [
    "# OLS\n",
    "x_train_reduced = sm.add_constant(x_train_reduced)\n",
    "benchmark_prep = sm.OLS(y_train,x_train_reduced).fit()\n",
    "benchmark_prep.summary()\n",
    "benchmark_select = x_train_reduced.columns[np.abs(benchmark_prep.tvalues)>=1.96]\n",
    "x = x_train_reduced[benchmark_select]\n",
    "benchmark = sm.OLS(y_train,x).fit()\n",
    "print(benchmark.summary())\n",
    "y_hat_benchmark1 = benchmark.predict(x)\n",
    "corr_benchmark1 = ss.pearsonr(y_hat_benchmark1, y_train)[0]\n",
    "print('benchmark: corr (Y, Y_pred) = '+str(corr_benchmark1))\n",
    "print('Hard Thresholding selected ' +str(len(benchmark_select)) +' features: ', benchmark_select.values)"
   ]
  },
  {
   "cell_type": "code",
   "execution_count": null,
   "metadata": {},
   "outputs": [
    {
     "name": "stdout",
     "output_type": "stream",
     "text": [
      "                            OLS Regression Results                            \n",
      "==============================================================================\n",
      "Dep. Variable:                   NVDA   R-squared:                       0.979\n",
      "Model:                            OLS   Adj. R-squared:                  0.978\n",
      "Method:                 Least Squares   F-statistic:                     672.4\n",
      "Date:                Tue, 10 Dec 2024   Prob (F-statistic):          1.12e-148\n",
      "Time:                        11:54:57   Log-Likelihood:                -582.28\n",
      "No. Observations:                 200   AIC:                             1193.\n",
      "Df Residuals:                     186   BIC:                             1239.\n",
      "Df Model:                          13                                         \n",
      "Covariance Type:            nonrobust                                         \n",
      "==============================================================================\n",
      "                 coef    std err          t      P>|t|      [0.025      0.975]\n",
      "------------------------------------------------------------------------------\n",
      "const        -69.8806     15.443     -4.525      0.000    -100.346     -39.415\n",
      "AAPL           0.1495      0.044      3.387      0.001       0.062       0.237\n",
      "AMD            0.0276      0.038      0.732      0.465      -0.047       0.102\n",
      "AVGO           0.4458      0.065      6.831      0.000       0.317       0.575\n",
      "INTC          -1.1325      0.094    -12.055      0.000      -1.318      -0.947\n",
      "QCOM           0.1431      0.039      3.629      0.000       0.065       0.221\n",
      "ADS_Index      0.7309      1.809      0.404      0.687      -2.838       4.300\n",
      "Mkt-RF        -0.5658      0.467     -1.212      0.227      -1.487       0.355\n",
      "SMB            0.0043      0.592      0.007      0.994      -1.164       1.172\n",
      "HML            0.4113      0.636      0.646      0.519      -0.844       1.666\n",
      "RMW           -0.2315      0.896     -0.258      0.796      -1.999       1.537\n",
      "CMA           -0.0442      0.853     -0.052      0.959      -1.727       1.639\n",
      "RF          2459.3202    766.271      3.209      0.002     947.620    3971.021\n",
      "CBETHUSD       0.0109      0.001      7.511      0.000       0.008       0.014\n",
      "==============================================================================\n",
      "Omnibus:                        0.636   Durbin-Watson:                   1.825\n",
      "Prob(Omnibus):                  0.728   Jarque-Bera (JB):                0.660\n",
      "Skew:                          -0.134   Prob(JB):                        0.719\n",
      "Kurtosis:                       2.914   Cond. No.                     6.56e+06\n",
      "==============================================================================\n",
      "\n",
      "Notes:\n",
      "[1] Standard Errors assume that the covariance matrix of the errors is correctly specified.\n",
      "[2] The condition number is large, 6.56e+06. This might indicate that there are\n",
      "strong multicollinearity or other numerical problems.\n",
      "model 2 Ridge Regression: corr (Y, Y_pred) = 0.9895272508073809\n",
      "Ridge Regression selected 14 features:  ['const' 'AAPL' 'AMD' 'AVGO' 'INTC' 'QCOM' 'ADS_Index' 'Mkt-RF' 'SMB'\n",
      " 'HML' 'RMW' 'CMA' 'RF' 'CBETHUSD']\n"
     ]
    }
   ],
   "source": [
    "# Ridge\n",
    "a = 0.5\n",
    "ridge_prep = skl.Ridge(alpha=a, fit_intercept=False).fit(x_train_reduced, y_train)\n",
    "ridge_select = x_train_reduced.columns[np.abs(ridge_prep.coef_)>=0.001]\n",
    "x = x_train_reduced[ridge_select]\n",
    "ridge = sm.OLS(y_train,x).fit()\n",
    "print(ridge.summary())\n",
    "y_pred_ridge = ridge.predict(x)\n",
    "corr_ridge = ss.pearsonr(y_pred_ridge, y_train)[0]\n",
    "print('model 2 Ridge Regression: corr (Y, Y_pred) = '+str(corr_ridge))\n",
    "print('Ridge Regression selected ' +str(len(ridge_select)) +' features: ', ridge_select.values)"
   ]
  },
  {
   "cell_type": "code",
   "execution_count": null,
   "metadata": {},
   "outputs": [
    {
     "name": "stdout",
     "output_type": "stream",
     "text": [
      "                                 OLS Regression Results                                \n",
      "=======================================================================================\n",
      "Dep. Variable:                   NVDA   R-squared (uncentered):                   0.997\n",
      "Model:                            OLS   Adj. R-squared (uncentered):              0.997\n",
      "Method:                 Least Squares   F-statistic:                              9253.\n",
      "Date:                Tue, 10 Dec 2024   Prob (F-statistic):                   6.63e-244\n",
      "Time:                        11:54:57   Log-Likelihood:                         -576.31\n",
      "No. Observations:                 200   AIC:                                      1169.\n",
      "Df Residuals:                     192   BIC:                                      1195.\n",
      "Df Model:                           8                                                  \n",
      "Covariance Type:            nonrobust                                                  \n",
      "==============================================================================\n",
      "                 coef    std err          t      P>|t|      [0.025      0.975]\n",
      "------------------------------------------------------------------------------\n",
      "AAPL           0.1794      0.042      4.260      0.000       0.096       0.262\n",
      "AMD            0.0606      0.036      1.688      0.093      -0.010       0.131\n",
      "AVGO           0.5590      0.054     10.293      0.000       0.452       0.666\n",
      "INTC          -1.2442      0.084    -14.741      0.000      -1.411      -1.078\n",
      "QCOM           0.0762      0.036      2.110      0.036       0.005       0.147\n",
      "CBBTCUSD      -0.0004      0.000     -3.107      0.002      -0.001      -0.000\n",
      "CBETHUSD       0.0178      0.002      7.736      0.000       0.013       0.022\n",
      "DJIA          -0.0007      0.000     -3.199      0.002      -0.001      -0.000\n",
      "==============================================================================\n",
      "Omnibus:                        2.417   Durbin-Watson:                   1.905\n",
      "Prob(Omnibus):                  0.299   Jarque-Bera (JB):                2.401\n",
      "Skew:                           0.014   Prob(JB):                        0.301\n",
      "Kurtosis:                       3.536   Cond. No.                     2.00e+04\n",
      "==============================================================================\n",
      "\n",
      "Notes:\n",
      "[1] R² is computed without centering (uncentered) since the model does not contain a constant.\n",
      "[2] Standard Errors assume that the covariance matrix of the errors is correctly specified.\n",
      "[3] The condition number is large,  2e+04. This might indicate that there are\n",
      "strong multicollinearity or other numerical problems.\n",
      "model 3 LASSO: corr (Y, Y_pred) = 0.9901380005822995\n",
      "LASSO selected 8 features:  ['AAPL' 'AMD' 'AVGO' 'INTC' 'QCOM' 'CBBTCUSD' 'CBETHUSD' 'DJIA']\n"
     ]
    },
    {
     "name": "stderr",
     "output_type": "stream",
     "text": [
      "C:\\Users\\Allen\\AppData\\Roaming\\Python\\Python312\\site-packages\\sklearn\\linear_model\\_coordinate_descent.py:697: ConvergenceWarning: Objective did not converge. You might want to increase the number of iterations, check the scale of the features or consider increasing regularisation. Duality gap: 2.204e+03, tolerance: 1.441e+02\n",
      "  model = cd_fast.enet_coordinate_descent(\n"
     ]
    }
   ],
   "source": [
    "# Lasso\n",
    "a = 0.5\n",
    "lasso_prep = skl.Lasso(alpha=a, fit_intercept=False).fit(x_train_reduced, y_train)\n",
    "lasso_select = x_train_reduced.columns[np.abs(lasso_prep.coef_)!=0.0]\n",
    "x = x_train_reduced[lasso_select]\n",
    "lasso = sm.OLS(y_train,x).fit()\n",
    "print(lasso.summary())\n",
    "y_pred_lasso = lasso.predict(x)\n",
    "corr_lasso = ss.pearsonr(y_pred_lasso, y_train)[0]\n",
    "print('model 3 LASSO: corr (Y, Y_pred) = '+str(corr_lasso))\n",
    "print('LASSO selected ' +str(len(lasso_select)) +' features: ', lasso_select.values)"
   ]
  },
  {
   "cell_type": "code",
   "execution_count": null,
   "metadata": {},
   "outputs": [
    {
     "name": "stdout",
     "output_type": "stream",
     "text": [
      "                                 OLS Regression Results                                \n",
      "=======================================================================================\n",
      "Dep. Variable:                   NVDA   R-squared (uncentered):                   0.997\n",
      "Model:                            OLS   Adj. R-squared (uncentered):              0.997\n",
      "Method:                 Least Squares   F-statistic:                              8226.\n",
      "Date:                Tue, 10 Dec 2024   Prob (F-statistic):                   3.93e-242\n",
      "Time:                        11:54:57   Log-Likelihood:                         -575.77\n",
      "No. Observations:                 200   AIC:                                      1170.\n",
      "Df Residuals:                     191   BIC:                                      1199.\n",
      "Df Model:                           9                                                  \n",
      "Covariance Type:            nonrobust                                                  \n",
      "==============================================================================\n",
      "                 coef    std err          t      P>|t|      [0.025      0.975]\n",
      "------------------------------------------------------------------------------\n",
      "AAPL           0.1842      0.042      4.348      0.000       0.101       0.268\n",
      "AMD            0.0657      0.036      1.814      0.071      -0.006       0.137\n",
      "AVGO           0.5540      0.055     10.160      0.000       0.446       0.662\n",
      "INTC          -1.2390      0.085    -14.654      0.000      -1.406      -1.072\n",
      "QCOM           0.0798      0.036      2.201      0.029       0.008       0.151\n",
      "Mkt-RF        -0.4143      0.407     -1.018      0.310      -1.217       0.389\n",
      "CBBTCUSD      -0.0003      0.000     -2.831      0.005      -0.001      -0.000\n",
      "CBETHUSD       0.0172      0.002      7.295      0.000       0.013       0.022\n",
      "DJIA          -0.0008      0.000     -3.327      0.001      -0.001      -0.000\n",
      "==============================================================================\n",
      "Omnibus:                        2.713   Durbin-Watson:                   1.916\n",
      "Prob(Omnibus):                  0.257   Jarque-Bera (JB):                2.840\n",
      "Skew:                           0.015   Prob(JB):                        0.242\n",
      "Kurtosis:                       3.583   Cond. No.                     8.49e+04\n",
      "==============================================================================\n",
      "\n",
      "Notes:\n",
      "[1] R² is computed without centering (uncentered) since the model does not contain a constant.\n",
      "[2] Standard Errors assume that the covariance matrix of the errors is correctly specified.\n",
      "[3] The condition number is large, 8.49e+04. This might indicate that there are\n",
      "strong multicollinearity or other numerical problems.\n",
      "model 4 Elastic Net: corr (Y, Y_pred) = 0.9901914952403198\n",
      "ElasticNet selected 9 features:  ['AAPL' 'AMD' 'AVGO' 'INTC' 'QCOM' 'Mkt-RF' 'CBBTCUSD' 'CBETHUSD' 'DJIA']\n"
     ]
    },
    {
     "name": "stderr",
     "output_type": "stream",
     "text": [
      "C:\\Users\\Allen\\AppData\\Roaming\\Python\\Python312\\site-packages\\sklearn\\linear_model\\_coordinate_descent.py:697: ConvergenceWarning: Objective did not converge. You might want to increase the number of iterations, check the scale of the features or consider increasing regularisation. Duality gap: 2.137e+03, tolerance: 1.441e+02\n",
      "  model = cd_fast.enet_coordinate_descent(\n"
     ]
    }
   ],
   "source": [
    "# Elastic Net\n",
    "a = 0.5\n",
    "elastic_prep = skl.ElasticNet(alpha=a, fit_intercept=False).fit(x_train_reduced, y_train)\n",
    "elastic_select = x_train_reduced.columns[np.abs(elastic_prep.coef_)!=0.0]\n",
    "x = x_train_reduced[elastic_select]\n",
    "elastic = sm.OLS(y_train,x).fit()\n",
    "print(elastic.summary())\n",
    "y_pred_elastic = elastic.predict(x)\n",
    "corr_elastic = ss.pearsonr(y_pred_elastic, y_train)[0]\n",
    "print('model 4 Elastic Net: corr (Y, Y_pred) = '+str(corr_elastic))\n",
    "print('ElasticNet selected ' +str(len(elastic_select)) +' features: ', elastic_select.values)"
   ]
  },
  {
   "cell_type": "code",
   "execution_count": null,
   "metadata": {},
   "outputs": [
    {
     "name": "stdout",
     "output_type": "stream",
     "text": [
      "                                 OLS Regression Results                                \n",
      "=======================================================================================\n",
      "Dep. Variable:                   NVDA   R-squared (uncentered):                   0.994\n",
      "Model:                            OLS   Adj. R-squared (uncentered):              0.994\n",
      "Method:                 Least Squares   F-statistic:                              3879.\n",
      "Date:                Tue, 10 Dec 2024   Prob (F-statistic):                   8.30e-208\n",
      "Time:                        11:54:57   Log-Likelihood:                         -662.90\n",
      "No. Observations:                 200   AIC:                                      1342.\n",
      "Df Residuals:                     192   BIC:                                      1368.\n",
      "Df Model:                           8                                                  \n",
      "Covariance Type:            nonrobust                                                  \n",
      "==============================================================================\n",
      "                 coef    std err          t      P>|t|      [0.025      0.975]\n",
      "------------------------------------------------------------------------------\n",
      "AAPL          -0.0650      0.054     -1.205      0.230      -0.171       0.041\n",
      "AMD           -0.3619      0.034    -10.573      0.000      -0.429      -0.294\n",
      "AVGO           1.1019      0.054     20.577      0.000       0.996       1.207\n",
      "Mkt-RF        -0.6061      0.628     -0.966      0.335      -1.844       0.632\n",
      "HML           -0.1024      0.759     -0.135      0.893      -1.598       1.394\n",
      "CMA           -1.6189      1.201     -1.348      0.179      -3.988       0.751\n",
      "RF         -1148.1486    406.298     -2.826      0.005   -1949.530    -346.767\n",
      "CBETHUSD       0.0128      0.001      8.673      0.000       0.010       0.016\n",
      "==============================================================================\n",
      "Omnibus:                        4.097   Durbin-Watson:                   2.064\n",
      "Prob(Omnibus):                  0.129   Jarque-Bera (JB):                3.751\n",
      "Skew:                           0.264   Prob(JB):                        0.153\n",
      "Kurtosis:                       3.413   Cond. No.                     2.36e+06\n",
      "==============================================================================\n",
      "\n",
      "Notes:\n",
      "[1] R² is computed without centering (uncentered) since the model does not contain a constant.\n",
      "[2] Standard Errors assume that the covariance matrix of the errors is correctly specified.\n",
      "[3] The condition number is large, 2.36e+06. This might indicate that there are\n",
      "strong multicollinearity or other numerical problems.\n",
      "model 1 LARS: corr (Y, Y_pred) = 0.9764007494168766\n",
      "LARS selected 8 features:  ['AAPL\\n' 'AMD\\n' 'AVGO\\n' 'Mkt-RF\\n' 'HML\\n' 'CMA\\n' 'RF\\n' 'CBETHUSD\\n']\n"
     ]
    }
   ],
   "source": [
    "# Least Angle\n",
    "leastAngle_prep = skl.Lars().fit(x_train_reduced, y_train)\n",
    "leastAngle_select = x_train_reduced.columns[leastAngle_prep.coef_>=0.001]\n",
    "x = x_train_reduced[leastAngle_select]\n",
    "leastAngle = sm.OLS(y_train,x).fit()\n",
    "print(leastAngle.summary())\n",
    "y_pred_leastAngle = leastAngle.predict(x)\n",
    "corr_leastAngle = ss.pearsonr(y_pred_leastAngle, y_train)[0]\n",
    "print('model 1 LARS: corr (Y, Y_pred) = '+str(corr_leastAngle))\n",
    "print('LARS selected ' +str(len(leastAngle_select)) +' features: ', leastAngle_select.values + '\\n')"
   ]
  },
  {
   "cell_type": "code",
   "execution_count": null,
   "metadata": {},
   "outputs": [
    {
     "name": "stdout",
     "output_type": "stream",
     "text": [
      "OLS: ['AAPL' 'AVGO' 'INTC' 'QCOM' 'RF' 'CBBTCUSD' 'CBETHUSD']\n",
      "ridge: ['const' 'AAPL' 'AMD' 'AVGO' 'INTC' 'QCOM' 'ADS_Index' 'Mkt-RF' 'SMB'\n",
      " 'HML' 'RMW' 'CMA' 'RF' 'CBETHUSD']\n",
      "lasso: ['AAPL' 'AMD' 'AVGO' 'INTC' 'QCOM' 'CBBTCUSD' 'CBETHUSD' 'DJIA']\n",
      "elastic net: ['AAPL' 'AMD' 'AVGO' 'INTC' 'QCOM' 'Mkt-RF' 'CBBTCUSD' 'CBETHUSD' 'DJIA']\n",
      "LAS: ['AAPL' 'AMD' 'AVGO' 'Mkt-RF' 'HML' 'CMA' 'RF' 'CBETHUSD']\n"
     ]
    }
   ],
   "source": [
    "print(f\"OLS: {benchmark_select.values}\")\n",
    "print(f\"ridge: {ridge_select.values}\")\n",
    "print(f\"lasso: {lasso_select.values}\")\n",
    "print(f\"elastic net: {elastic_select.values}\")\n",
    "print(f\"LAS: {leastAngle_select.values}\")"
   ]
  }
 ],
 "metadata": {
  "kernelspec": {
   "display_name": "Python 3",
   "language": "python",
   "name": "python3"
  },
  "language_info": {
   "codemirror_mode": {
    "name": "ipython",
    "version": 3
   },
   "file_extension": ".py",
   "mimetype": "text/x-python",
   "name": "python",
   "nbconvert_exporter": "python",
   "pygments_lexer": "ipython3",
   "version": "3.12.6"
  }
 },
 "nbformat": 4,
 "nbformat_minor": 4
}
