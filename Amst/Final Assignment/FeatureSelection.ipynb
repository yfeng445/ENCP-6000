{
 "cells": [
  {
   "cell_type": "code",
   "execution_count": 2,
   "metadata": {},
   "outputs": [],
   "source": [
    "import pandas as pd\n",
    "import yfinance as yf\n",
    "from datetime import datetime\n",
    "import numpy as np\n",
    "import matplotlib.pyplot as plt\n",
    "import scipy.stats as ss\n",
    "from sklearn import linear_model\n",
    "import statsmodels.api as sm"
   ]
  },
  {
   "cell_type": "code",
   "execution_count": null,
   "metadata": {},
   "outputs": [
    {
     "name": "stdout",
     "output_type": "stream",
     "text": [
      "           count          mean           std           min           25%           50%           75%           max\n",
      "NVDA       251.0     79.092747     30.492500     40.313805     48.141552     79.504669    104.851032    135.568405\n",
      "AAPL       251.0    189.827509     18.559048    164.405121    174.560921    185.949036    195.181770    234.290756\n",
      "AMD        251.0    147.360677     28.342445     93.669998    122.160000    152.270004    167.779999    211.380005\n",
      "AVGO       251.0    122.638521     27.476383     79.609314     95.772259    125.089081    139.818703    181.710449\n",
      "INTC       251.0     36.445328      7.405938     18.990000     30.898989     35.935158     42.780405     50.089161\n",
      "QCOM       251.0    154.915609     32.302531    102.638420    127.521931    156.338058    174.028770    225.922470\n",
      "ADS_Index  251.0     -0.156398      0.242557     -0.800350     -0.322790     -0.134328      0.057300      0.230637\n",
      "Mkt-RF     251.0      0.074781      0.817401     -3.020000     -0.330000      0.060000      0.600000      2.390000\n",
      "SMB        251.0     -0.031633      0.876510     -2.520000     -0.600000     -0.110000      0.460000      4.210000\n",
      "HML        251.0      0.020319      0.671864     -1.430000     -0.495000     -0.020000      0.425000      2.460000\n",
      "RMW        251.0      0.015020      0.515387     -1.530000     -0.310000      0.020000      0.350000      1.480000\n",
      "CMA        251.0     -0.028327      0.436150     -1.400000     -0.265000     -0.050000      0.220000      1.430000\n",
      "RF         251.0      0.021159      0.000557      0.020000      0.021000      0.021000      0.021000      0.022000\n",
      "CBBTCUSD   251.0  51434.516972  14926.775117  25161.680000  38295.160000  56684.730000  64807.550000  73098.480000\n",
      "CBETHUSD   251.0   2694.042351    719.164085   1539.260000   2105.010000   2640.160000   3333.460000   4072.220000\n",
      "SP500      251.0   4967.770398    428.518699   4117.370000   4563.260000   5051.410000   5305.380000   5667.200000\n",
      "NASDAQCOM  251.0  15647.563386   1553.565219  12595.610000  14262.175000  15865.250000  16778.385000  18647.450000\n",
      "DJIA       251.0  37650.591394   2314.278918  32417.590000  36002.660000  38503.690000  39142.545000  41563.080000\n"
     ]
    }
   ],
   "source": [
    "start_date = '2023-09-01'\n",
    "end_date = '2024-09-01'\n",
    "df = pd.read_csv('./featurePrepared.csv').dropna().set_index('Date')\n",
    "pd.set_option('display.width', 1000)  # Set maximum display width\n",
    "pd.set_option('display.max_columns', None)  # Show all columns\n",
    "\n",
    "describe_output = df.describe().transpose()\n",
    "print(describe_output.to_string())\n"
   ]
  }
 ],
 "metadata": {
  "kernelspec": {
   "display_name": "Python 3",
   "language": "python",
   "name": "python3"
  },
  "language_info": {
   "codemirror_mode": {
    "name": "ipython",
    "version": 3
   },
   "file_extension": ".py",
   "mimetype": "text/x-python",
   "name": "python",
   "nbconvert_exporter": "python",
   "pygments_lexer": "ipython3",
   "version": "3.12.6"
  }
 },
 "nbformat": 4,
 "nbformat_minor": 2
}
