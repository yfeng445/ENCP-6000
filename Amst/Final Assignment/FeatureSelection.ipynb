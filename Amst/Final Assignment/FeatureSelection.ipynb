{
 "cells": [
  {
   "cell_type": "code",
   "execution_count": 36,
   "metadata": {},
   "outputs": [],
   "source": [
    "import math\n",
    "import numpy as np\n",
    "import seaborn as sns\n",
    "import pandas as pd\n",
    "import sklearn as sk\n",
    "import sklearn.linear_model as skl\n",
    "from sklearn.linear_model import LinearRegression\n",
    "from sklearn.preprocessing import PolynomialFeatures\n",
    "from sklearn.metrics import mean_squared_error, r2_score\n",
    "from sklearn.linear_model import Ridge\n",
    "from sklearn.pipeline import Pipeline\n",
    "from sklearn.preprocessing import StandardScaler\n",
    "from sklearn.model_selection import train_test_split, cross_val_score\n",
    "import matplotlib.pyplot as plt\n",
    "import statsmodels.api as sm\n",
    "import scipy.stats as ss\n",
    "from statsmodels.stats.outliers_influence import variance_inflation_factor\n",
    "from statsmodels.tools.tools import add_constant\n",
    "# import cupy as cp"
   ]
  },
  {
   "cell_type": "code",
   "execution_count": 37,
   "metadata": {},
   "outputs": [
    {
     "name": "stdout",
     "output_type": "stream",
     "text": [
      "           count          mean           std           min           25%           50%           75%           max\n",
      "NVDA       251.0     79.092747     30.492500     40.313805     48.141552     79.504669    104.851032    135.568405\n",
      "SMA        251.0     74.841786     28.926433     43.254546     45.824969     70.279184     93.270627    126.049420\n",
      "EMA        251.0     74.814103     28.429192     43.178471     46.657931     70.991475     96.907743    122.835461\n",
      "AAPL       251.0    189.827509     18.559048    164.405121    174.560921    185.949036    195.181770    234.290756\n",
      "AMD        251.0    147.360677     28.342445     93.669998    122.160000    152.270004    167.779999    211.380005\n",
      "AVGO       251.0    122.638521     27.476383     79.609314     95.772259    125.089081    139.818703    181.710449\n",
      "INTC       251.0     36.445328      7.405938     18.990000     30.898989     35.935158     42.780405     50.089161\n",
      "QCOM       251.0    154.915609     32.302531    102.638420    127.521931    156.338058    174.028770    225.922470\n",
      "ADS_Index  251.0     -0.156398      0.242557     -0.800350     -0.322790     -0.134328      0.057300      0.230637\n",
      "Mkt-RF     251.0      0.074781      0.817401     -3.020000     -0.330000      0.060000      0.600000      2.390000\n",
      "SMB        251.0     -0.031633      0.876510     -2.520000     -0.600000     -0.110000      0.460000      4.210000\n",
      "HML        251.0      0.020319      0.671864     -1.430000     -0.495000     -0.020000      0.425000      2.460000\n",
      "RMW        251.0      0.015020      0.515387     -1.530000     -0.310000      0.020000      0.350000      1.480000\n",
      "CMA        251.0     -0.028327      0.436150     -1.400000     -0.265000     -0.050000      0.220000      1.430000\n",
      "RF         251.0      0.021159      0.000557      0.020000      0.021000      0.021000      0.021000      0.022000\n",
      "CBBTCUSD   251.0  51434.516972  14926.775117  25161.680000  38295.160000  56684.730000  64807.550000  73098.480000\n",
      "CBETHUSD   251.0   2694.042351    719.164085   1539.260000   2105.010000   2640.160000   3333.460000   4072.220000\n",
      "SP500      251.0   4967.770398    428.518699   4117.370000   4563.260000   5051.410000   5305.380000   5667.200000\n",
      "NASDAQCOM  251.0  15647.563386   1553.565219  12595.610000  14262.175000  15865.250000  16778.385000  18647.450000\n",
      "DJIA       251.0  37650.591394   2314.278918  32417.590000  36002.660000  38503.690000  39142.545000  41563.080000\n"
     ]
    }
   ],
   "source": [
    "df = pd.read_csv('./featurePrepared.csv').dropna().set_index('Date')\n",
    "pd.set_option('display.width', 1000)  # Set maximum display width\n",
    "pd.set_option('display.max_columns', None)  # Show all columns\n",
    "\n",
    "describe_output = df.describe().transpose()\n",
    "print(describe_output.to_string())\n"
   ]
  },
  {
   "cell_type": "code",
   "execution_count": 38,
   "metadata": {},
   "outputs": [
    {
     "name": "stdout",
     "output_type": "stream",
     "text": [
      "(200, 19) (51, 19) (200,) (51,)\n"
     ]
    }
   ],
   "source": [
    "y = df['NVDA']\n",
    "x = df.drop(['NVDA'], axis=1)\n",
    "x_train, x_test, y_train, y_test = train_test_split(x, y, test_size=0.2, random_state=0)\n",
    "print(x_train.shape, x_test.shape, y_train.shape, y_test.shape)"
   ]
  },
  {
   "cell_type": "code",
   "execution_count": 39,
   "metadata": {},
   "outputs": [
    {
     "name": "stdout",
     "output_type": "stream",
     "text": [
      "      Feature          VIF\n",
      "0       const  6554.654015\n",
      "1         SMA   683.267099\n",
      "2         EMA  1087.815929\n",
      "3        AAPL    19.090882\n",
      "4         AMD    20.204095\n",
      "5        AVGO    58.490480\n",
      "6        INTC    12.955897\n",
      "7        QCOM    39.307189\n",
      "8   ADS_Index     2.620873\n",
      "9      Mkt-RF     1.468869\n",
      "10        SMB     2.531297\n",
      "11        HML     1.803322\n",
      "12        RMW     1.966615\n",
      "13        CMA     1.238401\n",
      "14         RF     2.439675\n",
      "15   CBBTCUSD    61.290283\n",
      "16   CBETHUSD    54.343321\n",
      "17      SP500  1773.000010\n",
      "18  NASDAQCOM  1313.153465\n",
      "19       DJIA   136.786990\n"
     ]
    }
   ],
   "source": [
    "# Add constant for intercept\n",
    "x_with_const = add_constant(x_train)\n",
    "\n",
    "# Calculate VIF for each feature\n",
    "vif_data = pd.DataFrame()\n",
    "vif_data[\"Feature\"] = x_with_const.columns\n",
    "vif_data[\"VIF\"] = [variance_inflation_factor(x_with_const.values, i) for i in range(x_with_const.shape[1])]\n",
    "\n",
    "print(vif_data)\n"
   ]
  },
  {
   "cell_type": "code",
   "execution_count": 40,
   "metadata": {},
   "outputs": [],
   "source": [
    "# Drop features that are likely causing multicollinearity\n",
    "x_train_reduced = x_train.drop(['SMA', 'EMA', 'NASDAQCOM', 'SP500'], axis=1)\n",
    "x_test_reduced = x_test.drop(['SMA', 'EMA', 'NASDAQCOM', 'SP500'], axis=1)"
   ]
  },
  {
   "cell_type": "code",
   "execution_count": 41,
   "metadata": {},
   "outputs": [
    {
     "name": "stdout",
     "output_type": "stream",
     "text": [
      "Ridge Regression selected 13 features: Index(['AAPL', 'AMD', 'AVGO', 'INTC', 'QCOM', 'ADS_Index', 'Mkt-RF', 'SMB', 'HML', 'RMW', 'CMA', 'RF', 'CBETHUSD'], dtype='object')\n"
     ]
    }
   ],
   "source": [
    "# Refit Ridge Regression with reduced feature set\n",
    "ridge_model_reduced = Ridge(alpha=0.5, fit_intercept=False).fit(x_train_reduced, y_train)\n",
    "\n",
    "# Get coefficients and selected features\n",
    "ridge_coefficients_reduced = ridge_model_reduced.coef_\n",
    "selected_features_reduced = x_train_reduced.columns[np.abs(ridge_coefficients_reduced) >= 0.001]\n",
    "\n",
    "print(f\"Ridge Regression selected {len(selected_features_reduced)} features: {selected_features_reduced}\")\n"
   ]
  },
  {
   "cell_type": "code",
   "execution_count": 42,
   "metadata": {},
   "outputs": [
    {
     "name": "stdout",
     "output_type": "stream",
     "text": [
      "                                 OLS Regression Results                                \n",
      "=======================================================================================\n",
      "Dep. Variable:                   NVDA   R-squared (uncentered):                   0.997\n",
      "Model:                            OLS   Adj. R-squared (uncentered):              0.997\n",
      "Method:                 Least Squares   F-statistic:                              4704.\n",
      "Date:                Mon, 25 Nov 2024   Prob (F-statistic):                   1.66e-227\n",
      "Time:                        12:42:45   Log-Likelihood:                         -592.73\n",
      "No. Observations:                 200   AIC:                                      1211.\n",
      "Df Residuals:                     187   BIC:                                      1254.\n",
      "Df Model:                          13                                                  \n",
      "Covariance Type:            nonrobust                                                  \n",
      "==============================================================================\n",
      "                 coef    std err          t      P>|t|      [0.025      0.975]\n",
      "------------------------------------------------------------------------------\n",
      "AAPL           0.1567      0.046      3.380      0.001       0.065       0.248\n",
      "AMD            0.0485      0.039      1.236      0.218      -0.029       0.126\n",
      "AVGO           0.4606      0.068      6.725      0.000       0.325       0.596\n",
      "INTC          -1.2364      0.096    -12.917      0.000      -1.425      -1.048\n",
      "QCOM           0.1167      0.041      2.848      0.005       0.036       0.198\n",
      "ADS_Index     -1.8674      1.803     -1.036      0.302      -5.423       1.689\n",
      "Mkt-RF        -0.5092      0.490     -1.038      0.300      -1.477       0.458\n",
      "SMB           -0.5930      0.607     -0.978      0.329      -1.790       0.604\n",
      "HML            0.6662      0.666      1.000      0.318      -0.647       1.980\n",
      "RMW           -1.0768      0.921     -1.169      0.244      -2.894       0.740\n",
      "CMA            0.2519      0.894      0.282      0.778      -1.511       2.015\n",
      "RF          -745.4589    307.421     -2.425      0.016   -1351.918    -139.000\n",
      "CBETHUSD       0.0105      0.002      6.934      0.000       0.008       0.014\n",
      "==============================================================================\n",
      "Omnibus:                        1.314   Durbin-Watson:                   1.920\n",
      "Prob(Omnibus):                  0.518   Jarque-Bera (JB):                1.086\n",
      "Skew:                          -0.176   Prob(JB):                        0.581\n",
      "Kurtosis:                       3.080   Cond. No.                     2.51e+06\n",
      "==============================================================================\n",
      "\n",
      "Notes:\n",
      "[1] R² is computed without centering (uncentered) since the model does not contain a constant.\n",
      "[2] Standard Errors assume that the covariance matrix of the errors is correctly specified.\n",
      "[3] The condition number is large, 2.51e+06. This might indicate that there are\n",
      "strong multicollinearity or other numerical problems.\n"
     ]
    }
   ],
   "source": [
    "# OLS Regression with reduced features\n",
    "x_train_ols = x_train_reduced[selected_features_reduced]\n",
    "ols_model_reduced = sm.OLS(y_train, x_train_ols).fit()\n",
    "\n",
    "# Print OLS summary\n",
    "print(ols_model_reduced.summary())\n"
   ]
  },
  {
   "cell_type": "code",
   "execution_count": 43,
   "metadata": {},
   "outputs": [
    {
     "name": "stdout",
     "output_type": "stream",
     "text": [
      "      Feature          VIF\n",
      "0       const  2241.925774\n",
      "1        AAPL     6.546828\n",
      "2         AMD    11.301273\n",
      "3        AVGO    31.026097\n",
      "4        INTC     4.568019\n",
      "5        QCOM    15.626900\n",
      "6   ADS_Index     1.681876\n",
      "7      Mkt-RF     1.293624\n",
      "8         SMB     2.423989\n",
      "9         HML     1.650510\n",
      "10        RMW     1.844393\n",
      "11        CMA     1.179238\n",
      "12         RF     1.677907\n",
      "13   CBETHUSD    10.650696\n"
     ]
    }
   ],
   "source": [
    "# Add constant for intercept\n",
    "x_with_const_reduced = add_constant(x_train_ols)\n",
    "\n",
    "# Calculate VIF\n",
    "vif_data_reduced = pd.DataFrame()\n",
    "vif_data_reduced[\"Feature\"] = x_with_const_reduced.columns\n",
    "vif_data_reduced[\"VIF\"] = [variance_inflation_factor(x_with_const_reduced.values, i) for i in range(x_with_const_reduced.shape[1])]\n",
    "\n",
    "print(vif_data_reduced)\n"
   ]
  }
 ],
 "metadata": {
  "kernelspec": {
   "display_name": "Python 3",
   "language": "python",
   "name": "python3"
  },
  "language_info": {
   "codemirror_mode": {
    "name": "ipython",
    "version": 3
   },
   "file_extension": ".py",
   "mimetype": "text/x-python",
   "name": "python",
   "nbconvert_exporter": "python",
   "pygments_lexer": "ipython3",
   "version": "3.12.6"
  }
 },
 "nbformat": 4,
 "nbformat_minor": 2
}
