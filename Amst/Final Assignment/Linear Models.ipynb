{
 "cells": [
  {
   "cell_type": "code",
   "execution_count": 1,
   "metadata": {},
   "outputs": [],
   "source": [
    "# Global tools\n",
    "import pandas as pd\n",
    "import numpy as np\n",
    "import xgboost as xgb\n",
    "from sklearn.model_selection import train_test_split\n",
    "from sklearn.linear_model import Ridge, Lasso, ElasticNet\n",
    "from sklearn.metrics import mean_squared_error, r2_score, make_scorer\n",
    "from sklearn.model_selection import GridSearchCV, train_test_split\n"
   ]
  },
  {
   "cell_type": "code",
   "execution_count": 2,
   "metadata": {},
   "outputs": [],
   "source": [
    "df = pd.read_csv('./DataSelected.csv')\n",
    "target_column = 'NVDA' \n",
    "y = df[target_column]\n",
    "X = df.drop(columns=[target_column])\n",
    "X_train, X_test, y_train, y_test = train_test_split(X, y, test_size=0.2, random_state=0)\n"
   ]
  },
  {
   "cell_type": "code",
   "execution_count": 3,
   "metadata": {},
   "outputs": [
    {
     "name": "stdout",
     "output_type": "stream",
     "text": [
      "Lasso Best Params: {'alpha': np.float64(0.0017000000000000001)}\n",
      "Lasso Best Score: -0.16834712238655897\n",
      "Train MSE with Best Found Parameters: 0.15348078445436772\n",
      "Train RMSE with Best Found Parameters: 0.3917662370015667\n",
      "Test MSE with Best Found Parameters: 0.1699278032812201\n",
      "Test RMSE with Best Found Parameters: 0.4122230018827432\n"
     ]
    }
   ],
   "source": [
    "# Lasso \n",
    "param_grid = {\n",
    "    'alpha': np.linspace(0.0001, 0.1, 1000)\n",
    "    }\n",
    "scorer = make_scorer(mean_squared_error, greater_is_better=False)\n",
    "lasso = Lasso()\n",
    "grid_search_lasso = GridSearchCV(\n",
    "    estimator=lasso,\n",
    "    param_grid=param_grid,\n",
    "    scoring=scorer,\n",
    "    cv=10,              \n",
    "    n_jobs=-1       \n",
    ")\n",
    "\n",
    "grid_search_lasso.fit(X_train, y_train)\n",
    "\n",
    "print(\"Lasso Best Params:\", grid_search_lasso.best_params_)\n",
    "print(\"Lasso Best Score:\", grid_search_lasso.best_score_)\n",
    "\n",
    "best_lasso = grid_search_lasso.best_estimator_\n",
    "test_predictions = best_lasso.predict(X_test)\n",
    "train_mse = mean_squared_error(y_train, best_lasso.predict(X_train))\n",
    "train_rmse = np.sqrt(train_mse)\n",
    "test_mse = mean_squared_error(y_test, test_predictions)\n",
    "test_rmse = np.sqrt(test_mse)\n",
    "print(\"Train MSE with Best Found Parameters:\", train_mse)\n",
    "print(\"Train RMSE with Best Found Parameters:\", train_rmse)\n",
    "print(\"Test MSE with Best Found Parameters:\", test_mse)\n",
    "print(\"Test RMSE with Best Found Parameters:\", test_rmse)\n"
   ]
  },
  {
   "cell_type": "code",
   "execution_count": 4,
   "metadata": {},
   "outputs": [
    {
     "name": "stdout",
     "output_type": "stream",
     "text": [
      "Ridge Best Params: {'alpha': np.float64(1.4815666666666667)}\n",
      "Ridge Best Score: -0.16806571344177768\n",
      "Train MSE with Best Found Parameters: 0.15368134835113767\n",
      "Train RMSE with Best Found Parameters: 0.3920221273743839\n",
      "Test MSE with Best Found Parameters: 0.1704669120292344\n",
      "Test RMSE with Best Found Parameters: 0.412876388316448\n"
     ]
    }
   ],
   "source": [
    "# Ridge\n",
    "param_grid_ridge = {\n",
    "    #'alpha': [0.01, 0.1, 1.0, 10.0, 100.0] # Ridge Best Params: {'alpha': 0.01}\n",
    "    'alpha': np.linspace(0.0001, 10, 1000)\n",
    "}\n",
    "scorer = make_scorer(mean_squared_error, greater_is_better=False)\n",
    "ridge = Ridge()\n",
    "grid_search_ridge = GridSearchCV(\n",
    "    estimator=ridge, \n",
    "    param_grid=param_grid_ridge, \n",
    "    scoring=scorer, \n",
    "    cv=10, \n",
    "    n_jobs=-1)\n",
    "grid_search_ridge.fit(X_train, y_train)\n",
    "\n",
    "print(\"Ridge Best Params:\", grid_search_ridge.best_params_)\n",
    "print(\"Ridge Best Score:\", grid_search_ridge.best_score_)\n",
    "\n",
    "best_ridge = grid_search_ridge.best_estimator_\n",
    "test_predictions = best_ridge.predict(X_test)\n",
    "train_mse = mean_squared_error(y_train, best_ridge.predict(X_train))\n",
    "train_rmse = np.sqrt(train_mse)\n",
    "test_mse = mean_squared_error(y_test, test_predictions)\n",
    "test_rmse = np.sqrt(test_mse)\n",
    "print(\"Train MSE with Best Found Parameters:\", train_mse)\n",
    "print(\"Train RMSE with Best Found Parameters:\", train_rmse)\n",
    "print(\"Test MSE with Best Found Parameters:\", test_mse)\n",
    "print(\"Test RMSE with Best Found Parameters:\", test_rmse)"
   ]
  },
  {
   "cell_type": "code",
   "execution_count": 5,
   "metadata": {},
   "outputs": [
    {
     "name": "stdout",
     "output_type": "stream",
     "text": [
      "Elastic Net Best Params: {'alpha': np.float64(0.006551285568595509), 'l1_ratio': np.float64(0.1)}\n",
      "Elastic Net Best Score: -0.16812036079581824\n",
      "Train MSE with Best Found Parameters: 0.15366264013055378\n",
      "Train RMSE with Best Found Parameters: 0.3919982654688076\n",
      "Test MSE with Best Found Parameters: 0.1705288136810767\n",
      "Test RMSE with Best Found Parameters: 0.4129513454162327\n"
     ]
    }
   ],
   "source": [
    "# Elastic Net\n",
    "param_grid_elastic = {\n",
    "    'alpha': np.logspace(-3, -1, 50), \n",
    "    'l1_ratio': np.linspace(0.1, 1.0, 10)  \n",
    "}\n",
    "scorer = make_scorer(mean_squared_error, greater_is_better=False)\n",
    "elastic = ElasticNet()\n",
    "grid_search_elastic = GridSearchCV(\n",
    "    estimator=elastic, \n",
    "    param_grid=param_grid_elastic, \n",
    "    scoring=scorer, \n",
    "    cv=10, \n",
    "    n_jobs=-1)\n",
    "grid_search_elastic.fit(X_train, y_train)\n",
    "print(\"Elastic Net Best Params:\", grid_search_elastic.best_params_)\n",
    "print(\"Elastic Net Best Score:\", grid_search_elastic.best_score_)\n",
    "\n",
    "best_elastic = grid_search_elastic.best_estimator_\n",
    "test_predictions = best_elastic.predict(X_test)\n",
    "train_mse = mean_squared_error(y_train, best_elastic.predict(X_train))\n",
    "train_rmse = np.sqrt(train_mse)\n",
    "test_mse = mean_squared_error(y_test, test_predictions)\n",
    "test_rmse = np.sqrt(test_mse)\n",
    "print(\"Train MSE with Best Found Parameters:\", train_mse)\n",
    "print(\"Train RMSE with Best Found Parameters:\", train_rmse)\n",
    "print(\"Test MSE with Best Found Parameters:\", test_mse)\n",
    "print(\"Test RMSE with Best Found Parameters:\", test_rmse)\n"
   ]
  }
 ],
 "metadata": {
  "kernelspec": {
   "display_name": "Python 3",
   "language": "python",
   "name": "python3"
  },
  "language_info": {
   "codemirror_mode": {
    "name": "ipython",
    "version": 3
   },
   "file_extension": ".py",
   "mimetype": "text/x-python",
   "name": "python",
   "nbconvert_exporter": "python",
   "pygments_lexer": "ipython3",
   "version": "3.10.0"
  }
 },
 "nbformat": 4,
 "nbformat_minor": 2
}
