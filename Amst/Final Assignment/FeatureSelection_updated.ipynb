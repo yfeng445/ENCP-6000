{
 "cells": [
  {
   "cell_type": "code",
   "execution_count": 15,
   "metadata": {},
   "outputs": [],
   "source": [
    "import pandas as pd\n",
    "import numpy as np\n",
    "import statsmodels.api as sm\n",
    "import scipy.stats as ss\n",
    "import sklearn.linear_model as skl\n",
    "from statsmodels.stats.outliers_influence import variance_inflation_factor\n",
    "from statsmodels.tools import add_constant\n",
    "from sklearn.model_selection import train_test_split"
   ]
  },
  {
   "cell_type": "code",
   "execution_count": 16,
   "metadata": {},
   "outputs": [],
   "source": [
    "# Load the preprocessed dataset\n",
    "output_file_path = './DataPreprocessed.csv'\n",
    "df = pd.read_csv(output_file_path, index_col=0)"
   ]
  },
  {
   "cell_type": "code",
   "execution_count": 17,
   "metadata": {},
   "outputs": [
    {
     "name": "stdout",
     "output_type": "stream",
     "text": [
      "(93, 14) (40, 14) (93,) (40,)\n"
     ]
    }
   ],
   "source": [
    "target_column = 'NVDA_Log_Return'\n",
    "y = df[target_column]\n",
    "X = df.drop(columns=[target_column])\n",
    "\n",
    "# Split into train and test\n",
    "x_train, x_test, y_train, y_test = train_test_split(X, y, test_size=0.3, random_state=0)\n",
    "print(x_train.shape, x_test.shape, y_train.shape, y_test.shape)"
   ]
  },
  {
   "cell_type": "code",
   "execution_count": 18,
   "metadata": {},
   "outputs": [
    {
     "name": "stdout",
     "output_type": "stream",
     "text": [
      "\n",
      "Initial VIF:\n",
      "               0                1               2                3                4                5                 6                     7                8          9          10        11           12        13        14\n",
      "Feature     const  AAPL_Log_Return  AMD_Log_Return  AVGO_Log_Return  INTC_Log_Return  QCOM_Log_Return  SP500_Log_Return  NASDAQCOM_Log_Return  DJIA_Log_Return        SMA        EMA      MACD  MACD_Signal       RSI       OBV\n",
      "VIF      1.297008         1.732272        1.857909         1.910992         1.891852          2.48248         25.219462             20.260106          4.84439  13.753856  18.035165  5.556204     4.582626  1.515687  1.937125\n"
     ]
    }
   ],
   "source": [
    "# Add constant for intercept for VIF calculation\n",
    "x_with_const = add_constant(x_train)\n",
    "\n",
    "# Calculate initial VIF\n",
    "vif_data = pd.DataFrame()\n",
    "vif_data[\"Feature\"] = x_with_const.columns\n",
    "vif_data[\"VIF\"] = [variance_inflation_factor(x_with_const.values, i) for i in range(x_with_const.shape[1])]\n",
    "print(\"\\nInitial VIF:\")\n",
    "print(vif_data.transpose().to_string())\n"
   ]
  },
  {
   "cell_type": "code",
   "execution_count": 19,
   "metadata": {},
   "outputs": [
    {
     "name": "stdout",
     "output_type": "stream",
     "text": [
      "\n",
      "VIF after removing correlated features:\n",
      "               0                1               2                3                4                5                6         7            8         9         10\n",
      "Feature     const  AAPL_Log_Return  AMD_Log_Return  AVGO_Log_Return  INTC_Log_Return  QCOM_Log_Return  DJIA_Log_Return      MACD  MACD_Signal       RSI       OBV\n",
      "VIF      1.127426         1.278656        1.497183          1.79619         1.885039         2.295646         1.202971  4.191628     3.599398  1.329044  1.756022\n"
     ]
    }
   ],
   "source": [
    "features_to_remove = ['SMA', 'EMA', 'NASDAQCOM_Log_Return', 'SP500_Log_Return']\n",
    "x_train_reduced = x_train.drop(features_to_remove, axis=1, errors='ignore')\n",
    "x_test_reduced = x_test.drop(features_to_remove, axis=1, errors='ignore')\n",
    "\n",
    "# Recalculate VIF\n",
    "x_with_const = add_constant(x_train_reduced)\n",
    "vif_data = pd.DataFrame()\n",
    "vif_data[\"Feature\"] = x_with_const.columns\n",
    "vif_data[\"VIF\"] = [variance_inflation_factor(x_with_const.values, i) for i in range(x_with_const.shape[1])]\n",
    "print(\"\\nVIF after removing correlated features:\")\n",
    "print(vif_data.transpose().to_string())"
   ]
  },
  {
   "cell_type": "code",
   "execution_count": 20,
   "metadata": {},
   "outputs": [
    {
     "name": "stdout",
     "output_type": "stream",
     "text": [
      "\n",
      "Benchmark OLS Summary:\n",
      "                                 OLS Regression Results                                \n",
      "=======================================================================================\n",
      "Dep. Variable:        NVDA_Log_Return   R-squared (uncentered):                   0.576\n",
      "Model:                            OLS   Adj. R-squared (uncentered):              0.552\n",
      "Method:                 Least Squares   F-statistic:                              23.87\n",
      "Date:                Tue, 10 Dec 2024   Prob (F-statistic):                    4.28e-15\n",
      "Time:                        16:39:10   Log-Likelihood:                         -54.942\n",
      "No. Observations:                  93   AIC:                                      119.9\n",
      "Df Residuals:                      88   BIC:                                      132.5\n",
      "Df Model:                           5                                                  \n",
      "Covariance Type:            nonrobust                                                  \n",
      "==================================================================================\n",
      "                     coef    std err          t      P>|t|      [0.025      0.975]\n",
      "----------------------------------------------------------------------------------\n",
      "AMD_Log_Return     0.1782      0.069      2.587      0.011       0.041       0.315\n",
      "MACD               0.8822      0.244      3.620      0.000       0.398       1.367\n",
      "MACD_Signal       -0.4803      0.194     -2.471      0.015      -0.867      -0.094\n",
      "RSI                0.1980      0.085      2.337      0.022       0.030       0.366\n",
      "OBV                1.3692      0.335      4.081      0.000       0.702       2.036\n",
      "==============================================================================\n",
      "Omnibus:                       49.212   Durbin-Watson:                   1.921\n",
      "Prob(Omnibus):                  0.000   Jarque-Bera (JB):              163.523\n",
      "Skew:                           1.793   Prob(JB):                     3.10e-36\n",
      "Kurtosis:                       8.417   Cond. No.                         6.13\n",
      "==============================================================================\n",
      "\n",
      "Notes:\n",
      "[1] R² is computed without centering (uncentered) since the model does not contain a constant.\n",
      "[2] Standard Errors assume that the covariance matrix of the errors is correctly specified.\n",
      "Benchmark: corr (Y, Y_pred) = 0.7646341886156496\n",
      "Hard Thresholding selected 5 features:  ['AMD_Log_Return' 'MACD' 'MACD_Signal' 'RSI' 'OBV']\n"
     ]
    }
   ],
   "source": [
    "# Benchmark OLS Model\n",
    "x_train_reduced_const = sm.add_constant(x_train_reduced)\n",
    "benchmark_prep = sm.OLS(y_train, x_train_reduced_const).fit()\n",
    "benchmark_select = x_train_reduced_const.columns[np.abs(benchmark_prep.tvalues)>=1.96]  # Hard thresholding based on t-values\n",
    "x_bench = x_train_reduced_const[benchmark_select]\n",
    "benchmark = sm.OLS(y_train, x_bench).fit()\n",
    "print(\"\\nBenchmark OLS Summary:\")\n",
    "print(benchmark.summary())\n",
    "y_hat_benchmark1 = benchmark.predict(x_bench)\n",
    "corr_benchmark1 = ss.pearsonr(y_hat_benchmark1, y_train)[0]\n",
    "print('Benchmark: corr (Y, Y_pred) = '+str(corr_benchmark1))\n",
    "print('Hard Thresholding selected ' +str(len(benchmark_select)) +' features: ', benchmark_select.values)"
   ]
  },
  {
   "cell_type": "code",
   "execution_count": 21,
   "metadata": {},
   "outputs": [
    {
     "name": "stdout",
     "output_type": "stream",
     "text": [
      "\n",
      "Ridge Model Summary:\n",
      "                                 OLS Regression Results                                \n",
      "=======================================================================================\n",
      "Dep. Variable:        NVDA_Log_Return   R-squared (uncentered):                   0.604\n",
      "Model:                            OLS   Adj. R-squared (uncentered):              0.556\n",
      "Method:                 Least Squares   F-statistic:                              12.66\n",
      "Date:                Tue, 10 Dec 2024   Prob (F-statistic):                    4.44e-13\n",
      "Time:                        16:39:10   Log-Likelihood:                         -51.721\n",
      "No. Observations:                  93   AIC:                                      123.4\n",
      "Df Residuals:                      83   BIC:                                      148.8\n",
      "Df Model:                          10                                                  \n",
      "Covariance Type:            nonrobust                                                  \n",
      "===================================================================================\n",
      "                      coef    std err          t      P>|t|      [0.025      0.975]\n",
      "-----------------------------------------------------------------------------------\n",
      "AAPL_Log_Return     0.0363      0.071      0.508      0.613      -0.106       0.178\n",
      "AMD_Log_Return      0.1806      0.078      2.312      0.023       0.025       0.336\n",
      "AVGO_Log_Return     0.0174      0.099      0.176      0.861      -0.179       0.214\n",
      "INTC_Log_Return    -0.1943      0.131     -1.478      0.143      -0.456       0.067\n",
      "QCOM_Log_Return     0.1849      0.115      1.609      0.111      -0.044       0.413\n",
      "DJIA_Log_Return    -0.1101      0.078     -1.415      0.161      -0.265       0.045\n",
      "MACD                0.8191      0.251      3.259      0.002       0.319       1.319\n",
      "MACD_Signal        -0.5011      0.200     -2.505      0.014      -0.899      -0.103\n",
      "RSI                 0.2115      0.087      2.438      0.017       0.039       0.384\n",
      "OBV                 1.3520      0.342      3.948      0.000       0.671       2.033\n",
      "==============================================================================\n",
      "Omnibus:                       42.372   Durbin-Watson:                   1.991\n",
      "Prob(Omnibus):                  0.000   Jarque-Bera (JB):              129.442\n",
      "Skew:                           1.538   Prob(JB):                     7.80e-29\n",
      "Kurtosis:                       7.893   Cond. No.                         8.83\n",
      "==============================================================================\n",
      "\n",
      "Notes:\n",
      "[1] R² is computed without centering (uncentered) since the model does not contain a constant.\n",
      "[2] Standard Errors assume that the covariance matrix of the errors is correctly specified.\n",
      "Ridge Regression: corr (Y, Y_pred) = 0.7845514887323637\n",
      "Ridge selected 10 features:  ['AAPL_Log_Return' 'AMD_Log_Return' 'AVGO_Log_Return' 'INTC_Log_Return'\n",
      " 'QCOM_Log_Return' 'DJIA_Log_Return' 'MACD' 'MACD_Signal' 'RSI' 'OBV']\n"
     ]
    }
   ],
   "source": [
    "# Ridge Feature Selection\n",
    "a = 0.1\n",
    "ridge_prep = skl.Ridge(alpha=a, fit_intercept=False).fit(x_train_reduced, y_train)\n",
    "ridge_select = x_train_reduced.columns[np.abs(ridge_prep.coef_)>=0.001]\n",
    "x_ridge = x_train_reduced[ridge_select]\n",
    "ridge = sm.OLS(y_train, x_ridge).fit()\n",
    "print(\"\\nRidge Model Summary:\")\n",
    "print(ridge.summary())\n",
    "y_pred_ridge = ridge.predict(x_ridge)\n",
    "corr_ridge = ss.pearsonr(y_pred_ridge, y_train)[0]\n",
    "print('Ridge Regression: corr (Y, Y_pred) = '+str(corr_ridge))\n",
    "print('Ridge selected ' +str(len(ridge_select)) +' features: ', ridge_select.values)"
   ]
  },
  {
   "cell_type": "code",
   "execution_count": 22,
   "metadata": {},
   "outputs": [
    {
     "name": "stdout",
     "output_type": "stream",
     "text": [
      "x_lasso shape: (93, 3)\n",
      "y_train shape: (93,)\n",
      "\n",
      "Lasso Model Summary:\n",
      "                                 OLS Regression Results                                \n",
      "=======================================================================================\n",
      "Dep. Variable:        NVDA_Log_Return   R-squared (uncentered):                   0.334\n",
      "Model:                            OLS   Adj. R-squared (uncentered):              0.312\n",
      "Method:                 Least Squares   F-statistic:                              15.08\n",
      "Date:                Tue, 10 Dec 2024   Prob (F-statistic):                    4.98e-08\n",
      "Time:                        16:39:10   Log-Likelihood:                         -75.868\n",
      "No. Observations:                  93   AIC:                                      157.7\n",
      "Df Residuals:                      90   BIC:                                      165.3\n",
      "Df Model:                           3                                                  \n",
      "Covariance Type:            nonrobust                                                  \n",
      "===================================================================================\n",
      "                      coef    std err          t      P>|t|      [0.025      0.975]\n",
      "-----------------------------------------------------------------------------------\n",
      "AMD_Log_Return      0.2434      0.084      2.910      0.005       0.077       0.410\n",
      "AVGO_Log_Return     0.2633      0.101      2.608      0.011       0.063       0.464\n",
      "RSI                 0.3442      0.098      3.508      0.001       0.149       0.539\n",
      "==============================================================================\n",
      "Omnibus:                       24.407   Durbin-Watson:                   2.035\n",
      "Prob(Omnibus):                  0.000   Jarque-Bera (JB):               41.273\n",
      "Skew:                           1.078   Prob(JB):                     1.09e-09\n",
      "Kurtosis:                       5.450   Cond. No.                         1.61\n",
      "==============================================================================\n",
      "\n",
      "Notes:\n",
      "[1] R² is computed without centering (uncentered) since the model does not contain a constant.\n",
      "[2] Standard Errors assume that the covariance matrix of the errors is correctly specified.\n",
      "LASSO: corr (Y, Y_pred) = 0.5777827211585845\n",
      "LASSO selected 3 features:  ['AMD_Log_Return' 'AVGO_Log_Return' 'RSI']\n"
     ]
    }
   ],
   "source": [
    "# Lasso Feature Selection\n",
    "a = 0.1 # 0.5 is toooo high\n",
    "lasso_prep = skl.Lasso(alpha=a, fit_intercept=False).fit(x_train_reduced, y_train)\n",
    "lasso_select = x_train_reduced.columns[np.abs(lasso_prep.coef_)!=0.0]\n",
    "x_lasso = x_train_reduced[lasso_select]\n",
    "print(\"x_lasso shape:\", x_lasso.shape)\n",
    "print(\"y_train shape:\", y_train.shape)\n",
    "\n",
    "lasso = sm.OLS(y_train, x_lasso).fit()\n",
    "print(\"\\nLasso Model Summary:\")\n",
    "print(lasso.summary())\n",
    "y_pred_lasso = lasso.predict(x_lasso)\n",
    "corr_lasso = ss.pearsonr(y_pred_lasso, y_train)[0]\n",
    "print('LASSO: corr (Y, Y_pred) = '+str(corr_lasso))\n",
    "print('LASSO selected ' +str(len(lasso_select)) +' features: ', lasso_select.values)\n",
    "\n"
   ]
  },
  {
   "cell_type": "code",
   "execution_count": 23,
   "metadata": {},
   "outputs": [
    {
     "name": "stdout",
     "output_type": "stream",
     "text": [
      "\n",
      "Elastic Net Model Summary:\n",
      "                                 OLS Regression Results                                \n",
      "=======================================================================================\n",
      "Dep. Variable:        NVDA_Log_Return   R-squared (uncentered):                   0.553\n",
      "Model:                            OLS   Adj. R-squared (uncentered):              0.523\n",
      "Method:                 Least Squares   F-statistic:                              17.97\n",
      "Date:                Tue, 10 Dec 2024   Prob (F-statistic):                    1.91e-13\n",
      "Time:                        16:39:10   Log-Likelihood:                         -57.320\n",
      "No. Observations:                  93   AIC:                                      126.6\n",
      "Df Residuals:                      87   BIC:                                      141.8\n",
      "Df Model:                           6                                                  \n",
      "Covariance Type:            nonrobust                                                  \n",
      "===================================================================================\n",
      "                      coef    std err          t      P>|t|      [0.025      0.975]\n",
      "-----------------------------------------------------------------------------------\n",
      "AMD_Log_Return      0.2000      0.074      2.716      0.008       0.054       0.346\n",
      "AVGO_Log_Return     0.0712      0.098      0.727      0.469      -0.124       0.266\n",
      "QCOM_Log_Return     0.0516      0.099      0.519      0.605      -0.146       0.249\n",
      "MACD                0.3694      0.147      2.516      0.014       0.078       0.661\n",
      "RSI                 0.1519      0.088      1.735      0.086      -0.022       0.326\n",
      "OBV                 1.5741      0.337      4.671      0.000       0.904       2.244\n",
      "==============================================================================\n",
      "Omnibus:                       42.075   Durbin-Watson:                   1.834\n",
      "Prob(Omnibus):                  0.000   Jarque-Bera (JB):              113.882\n",
      "Skew:                           1.594   Prob(JB):                     1.87e-25\n",
      "Kurtosis:                       7.385   Cond. No.                         6.60\n",
      "==============================================================================\n",
      "\n",
      "Notes:\n",
      "[1] R² is computed without centering (uncentered) since the model does not contain a constant.\n",
      "[2] Standard Errors assume that the covariance matrix of the errors is correctly specified.\n",
      "Elastic Net: corr (Y, Y_pred) = 0.7447088138550128\n",
      "ElasticNet selected 6 features:  ['AMD_Log_Return' 'AVGO_Log_Return' 'QCOM_Log_Return' 'MACD' 'RSI' 'OBV']\n"
     ]
    }
   ],
   "source": [
    "# Elastic Net Feature Selection\n",
    "a = 0.1\n",
    "elastic_prep = skl.ElasticNet(alpha=a, fit_intercept=False).fit(x_train_reduced, y_train)\n",
    "elastic_select = x_train_reduced.columns[np.abs(elastic_prep.coef_)!=0.0]\n",
    "x_elastic = x_train_reduced[elastic_select]\n",
    "elastic = sm.OLS(y_train, x_elastic).fit()\n",
    "print(\"\\nElastic Net Model Summary:\")\n",
    "print(elastic.summary())\n",
    "y_pred_elastic = elastic.predict(x_elastic)\n",
    "corr_elastic = ss.pearsonr(y_pred_elastic, y_train)[0]\n",
    "print('Elastic Net: corr (Y, Y_pred) = '+str(corr_elastic))\n",
    "print('ElasticNet selected ' +str(len(elastic_select)) +' features: ', elastic_select.values)\n"
   ]
  },
  {
   "cell_type": "code",
   "execution_count": 24,
   "metadata": {},
   "outputs": [
    {
     "name": "stdout",
     "output_type": "stream",
     "text": [
      "\n",
      "LARS Model Summary:\n",
      "                                 OLS Regression Results                                \n",
      "=======================================================================================\n",
      "Dep. Variable:        NVDA_Log_Return   R-squared (uncentered):                   0.551\n",
      "Model:                            OLS   Adj. R-squared (uncentered):              0.520\n",
      "Method:                 Least Squares   F-statistic:                              17.78\n",
      "Date:                Tue, 10 Dec 2024   Prob (F-statistic):                    2.42e-13\n",
      "Time:                        16:39:10   Log-Likelihood:                         -57.586\n",
      "No. Observations:                  93   AIC:                                      127.2\n",
      "Df Residuals:                      87   BIC:                                      142.4\n",
      "Df Model:                           6                                                  \n",
      "Covariance Type:            nonrobust                                                  \n",
      "===================================================================================\n",
      "                      coef    std err          t      P>|t|      [0.025      0.975]\n",
      "-----------------------------------------------------------------------------------\n",
      "AAPL_Log_Return     0.0119      0.071      0.167      0.868      -0.130       0.154\n",
      "AMD_Log_Return      0.2063      0.074      2.770      0.007       0.058       0.354\n",
      "QCOM_Log_Return     0.0771      0.097      0.797      0.428      -0.115       0.270\n",
      "MACD                0.3743      0.148      2.528      0.013       0.080       0.669\n",
      "RSI                 0.1596      0.088      1.822      0.072      -0.015       0.334\n",
      "OBV                 1.6284      0.330      4.940      0.000       0.973       2.284\n",
      "==============================================================================\n",
      "Omnibus:                       38.402   Durbin-Watson:                   1.828\n",
      "Prob(Omnibus):                  0.000   Jarque-Bera (JB):               93.887\n",
      "Skew:                           1.490   Prob(JB):                     4.10e-21\n",
      "Kurtosis:                       6.918   Cond. No.                         6.04\n",
      "==============================================================================\n",
      "\n",
      "Notes:\n",
      "[1] R² is computed without centering (uncentered) since the model does not contain a constant.\n",
      "[2] Standard Errors assume that the covariance matrix of the errors is correctly specified.\n",
      "LARS: corr (Y, Y_pred) = 0.7431176263104847\n",
      "LARS selected 6 features:  ['AAPL_Log_Return' 'AMD_Log_Return' 'QCOM_Log_Return' 'MACD' 'RSI' 'OBV']\n"
     ]
    }
   ],
   "source": [
    "\n",
    "# Least Angle Regression (LARS)\n",
    "leastAngle_prep = skl.Lars().fit(x_train_reduced, y_train)\n",
    "coef_lars = leastAngle_prep.coef_\n",
    "# For LARS, filter features with a threshold\n",
    "leastAngle_select = x_train_reduced.columns[coef_lars>=0.001]\n",
    "x_lars = x_train_reduced[leastAngle_select]\n",
    "leastAngle = sm.OLS(y_train, x_lars).fit()\n",
    "print(\"\\nLARS Model Summary:\")\n",
    "print(leastAngle.summary())\n",
    "y_pred_leastAngle = leastAngle.predict(x_lars)\n",
    "corr_leastAngle = ss.pearsonr(y_pred_leastAngle, y_train)[0]\n",
    "print('LARS: corr (Y, Y_pred) = '+str(corr_leastAngle))\n",
    "print('LARS selected ' +str(len(leastAngle_select)) +' features: ', leastAngle_select.values)\n"
   ]
  },
  {
   "cell_type": "code",
   "execution_count": 25,
   "metadata": {},
   "outputs": [
    {
     "name": "stdout",
     "output_type": "stream",
     "text": [
      "\n",
      "Feature Selection Summary:\n",
      "Benchmark OLS: ['AMD_Log_Return' 'MACD' 'MACD_Signal' 'RSI' 'OBV']\n",
      "Ridge: ['AAPL_Log_Return' 'AMD_Log_Return' 'AVGO_Log_Return' 'INTC_Log_Return'\n",
      " 'QCOM_Log_Return' 'DJIA_Log_Return' 'MACD' 'MACD_Signal' 'RSI' 'OBV']\n",
      "Lasso: ['AMD_Log_Return' 'AVGO_Log_Return' 'RSI']\n",
      "Elastic Net: ['AMD_Log_Return' 'AVGO_Log_Return' 'QCOM_Log_Return' 'MACD' 'RSI' 'OBV']\n",
      "LARS: ['AAPL_Log_Return' 'AMD_Log_Return' 'QCOM_Log_Return' 'MACD' 'RSI' 'OBV']\n"
     ]
    }
   ],
   "source": [
    "\n",
    "# Print a summary of all selected features\n",
    "print(\"\\nFeature Selection Summary:\")\n",
    "print(f\"Benchmark OLS: {benchmark_select.values}\")\n",
    "print(f\"Ridge: {ridge_select.values}\")\n",
    "print(f\"Lasso: {lasso_select.values}\")\n",
    "print(f\"Elastic Net: {elastic_select.values}\")\n",
    "print(f\"LARS: {leastAngle_select.values}\")\n"
   ]
  },
  {
   "cell_type": "code",
   "execution_count": 26,
   "metadata": {},
   "outputs": [
    {
     "name": "stdout",
     "output_type": "stream",
     "text": [
      "DataSelected.csv created with features: ['NVDA_Log_Return', 'AMD_Log_Return', 'RSI', 'MACD', 'OBV', 'AVGO_Log_Return', 'QCOM_Log_Return']\n"
     ]
    }
   ],
   "source": [
    "selected_features = [\n",
    "    'NVDA_Log_Return',\n",
    "    'AMD_Log_Return',\n",
    "    'RSI',\n",
    "    'MACD',\n",
    "    'OBV',\n",
    "    'AVGO_Log_Return',\n",
    "    'QCOM_Log_Return'\n",
    "]\n",
    "\n",
    "df_selected = df[selected_features]\n",
    "\n",
    "# Export to a new CSV file\n",
    "df_selected.to_csv('DataSelected.csv', index=False)\n",
    "\n",
    "print(\"DataSelected.csv created with features:\", selected_features)\n"
   ]
  }
 ],
 "metadata": {
  "kernelspec": {
   "display_name": "Python 3",
   "language": "python",
   "name": "python3"
  },
  "language_info": {
   "codemirror_mode": {
    "name": "ipython",
    "version": 3
   },
   "file_extension": ".py",
   "mimetype": "text/x-python",
   "name": "python",
   "nbconvert_exporter": "python",
   "pygments_lexer": "ipython3",
   "version": "3.12.6"
  }
 },
 "nbformat": 4,
 "nbformat_minor": 2
}
