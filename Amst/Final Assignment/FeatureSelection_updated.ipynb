{
 "cells": [
  {
   "cell_type": "code",
   "execution_count": 58,
   "metadata": {},
   "outputs": [],
   "source": [
    "import pandas as pd\n",
    "import numpy as np\n",
    "import statsmodels.api as sm\n",
    "import scipy.stats as ss\n",
    "import sklearn.linear_model as skl\n",
    "from statsmodels.stats.outliers_influence import variance_inflation_factor\n",
    "from statsmodels.tools import add_constant\n",
    "from sklearn.model_selection import train_test_split"
   ]
  },
  {
   "cell_type": "code",
   "execution_count": 59,
   "metadata": {},
   "outputs": [],
   "source": [
    "# Load the preprocessed dataset\n",
    "output_file_path = './DataStandardized.csv'\n",
    "df = pd.read_csv(output_file_path, index_col=0)"
   ]
  },
  {
   "cell_type": "code",
   "execution_count": 60,
   "metadata": {},
   "outputs": [
    {
     "name": "stdout",
     "output_type": "stream",
     "text": [
      "(175, 23) (76, 23) (175,) (76,)\n"
     ]
    }
   ],
   "source": [
    "target_column = 'NVDA'\n",
    "y = df[target_column]\n",
    "X = df.drop(columns=[target_column])\n",
    "\n",
    "# Split into train and test\n",
    "x_train, x_test, y_train, y_test = train_test_split(X, y, test_size=0.3, random_state=0)\n",
    "print(x_train.shape, x_test.shape, y_train.shape, y_test.shape)"
   ]
  },
  {
   "cell_type": "code",
   "execution_count": 61,
   "metadata": {},
   "outputs": [
    {
     "name": "stdout",
     "output_type": "stream",
     "text": [
      "\n",
      "Initial VIF:\n",
      "               0            1            2          3          4          5          6         7          8         9         10        11        12        13        14         15         16           17           18         19         20           21          22        23\n",
      "Feature     const          SMA          EMA       AAPL        AMD       AVGO       INTC      QCOM  ADS_Index    Mkt-RF       SMB       HML       RMW       CMA        RF   CBBTCUSD   CBETHUSD        SP500    NASDAQCOM       DJIA       MACD  MACD_Signal         OBV       RSI\n",
      "VIF      1.046403  5432.125096  6320.607299  34.820568  24.053884  61.313146  30.185955  56.05525   3.433977  1.671425  2.652426  1.884839  2.063098  1.400054  2.997564  76.168897  65.006473  2494.355882  1949.765768  195.04729  88.655368    48.712691  133.554203  8.028027\n"
     ]
    }
   ],
   "source": [
    "# Add constant for intercept for VIF calculation\n",
    "x_with_const = add_constant(x_train)\n",
    "\n",
    "# Calculate initial VIF\n",
    "vif_data = pd.DataFrame()\n",
    "vif_data[\"Feature\"] = x_with_const.columns\n",
    "vif_data[\"VIF\"] = [variance_inflation_factor(x_with_const.values, i) for i in range(x_with_const.shape[1])]\n",
    "print(\"\\nInitial VIF:\")\n",
    "print(vif_data.transpose().to_string())\n"
   ]
  },
  {
   "cell_type": "code",
   "execution_count": 62,
   "metadata": {},
   "outputs": [
    {
     "name": "stdout",
     "output_type": "stream",
     "text": [
      "\n",
      "VIF after removing correlated features:\n",
      "               0         1          2         3         4         5         6         7         8         9         10           11        12\n",
      "Feature     const       AMD  ADS_Index    Mkt-RF       SMB       HML       RMW       CMA        RF  CBBTCUSD      DJIA  MACD_Signal       RSI\n",
      "VIF      1.020608  8.629611   1.676913  1.465456  2.407137  1.665049  1.761309  1.244787  1.686304  6.699282  6.813083     3.098141  3.078017\n"
     ]
    }
   ],
   "source": [
    "features_to_remove = ['SMA', 'EMA', 'NASDAQCOM', 'SP500', 'CBETHUSD', 'OBV', 'AVGO', 'QCOM', 'MACD', 'AAPL', 'INTC']\n",
    "x_train_reduced = x_train.drop(features_to_remove, axis=1, errors='ignore')\n",
    "x_test_reduced = x_test.drop(features_to_remove, axis=1, errors='ignore')\n",
    "\n",
    "# Recalculate VIF\n",
    "x_with_const = add_constant(x_train_reduced)\n",
    "vif_data = pd.DataFrame()\n",
    "vif_data[\"Feature\"] = x_with_const.columns\n",
    "vif_data[\"VIF\"] = [variance_inflation_factor(x_with_const.values, i) for i in range(x_with_const.shape[1])]\n",
    "print(\"\\nVIF after removing correlated features:\")\n",
    "print(vif_data.transpose().to_string())"
   ]
  },
  {
   "cell_type": "code",
   "execution_count": 63,
   "metadata": {},
   "outputs": [
    {
     "name": "stdout",
     "output_type": "stream",
     "text": [
      "\n",
      "Benchmark OLS Summary:\n",
      "                                 OLS Regression Results                                \n",
      "=======================================================================================\n",
      "Dep. Variable:                   NVDA   R-squared (uncentered):                   0.850\n",
      "Model:                            OLS   Adj. R-squared (uncentered):              0.844\n",
      "Method:                 Least Squares   F-statistic:                              136.0\n",
      "Date:                Tue, 10 Dec 2024   Prob (F-statistic):                    8.69e-66\n",
      "Time:                        23:03:55   Log-Likelihood:                         -83.686\n",
      "No. Observations:                 175   AIC:                                      181.4\n",
      "Df Residuals:                     168   BIC:                                      203.5\n",
      "Df Model:                           7                                                  \n",
      "Covariance Type:            nonrobust                                                  \n",
      "===============================================================================\n",
      "                  coef    std err          t      P>|t|      [0.025      0.975]\n",
      "-------------------------------------------------------------------------------\n",
      "AMD            -0.3999      0.084     -4.741      0.000      -0.566      -0.233\n",
      "ADS_Index       0.0775      0.039      1.990      0.048       0.001       0.154\n",
      "RF              0.1286      0.039      3.286      0.001       0.051       0.206\n",
      "CBBTCUSD        0.4498      0.075      6.031      0.000       0.303       0.597\n",
      "DJIA            0.6175      0.072      8.541      0.000       0.475       0.760\n",
      "MACD_Signal     0.3168      0.051      6.218      0.000       0.216       0.417\n",
      "RSI            -0.1245      0.054     -2.310      0.022      -0.231      -0.018\n",
      "==============================================================================\n",
      "Omnibus:                        7.479   Durbin-Watson:                   2.160\n",
      "Prob(Omnibus):                  0.024   Jarque-Bera (JB):                7.653\n",
      "Skew:                           0.391   Prob(JB):                       0.0218\n",
      "Kurtosis:                       3.662   Cond. No.                         6.61\n",
      "==============================================================================\n",
      "\n",
      "Notes:\n",
      "[1] R² is computed without centering (uncentered) since the model does not contain a constant.\n",
      "[2] Standard Errors assume that the covariance matrix of the errors is correctly specified.\n",
      "Benchmark: corr (Y, Y_pred) = 0.9218953236773568\n",
      "Hard Thresholding selected 7 features:  ['AMD' 'ADS_Index' 'RF' 'CBBTCUSD' 'DJIA' 'MACD_Signal' 'RSI']\n"
     ]
    }
   ],
   "source": [
    "# Benchmark OLS Model\n",
    "x_train_reduced_const = sm.add_constant(x_train_reduced)\n",
    "benchmark_prep = sm.OLS(y_train, x_train_reduced_const).fit()\n",
    "benchmark_select = x_train_reduced_const.columns[np.abs(benchmark_prep.tvalues)>=1.96]  # Hard thresholding based on t-values\n",
    "x_bench = x_train_reduced_const[benchmark_select]\n",
    "benchmark = sm.OLS(y_train, x_bench).fit()\n",
    "print(\"\\nBenchmark OLS Summary:\")\n",
    "print(benchmark.summary())\n",
    "y_hat_benchmark1 = benchmark.predict(x_bench)\n",
    "corr_benchmark1 = ss.pearsonr(y_hat_benchmark1, y_train)[0]\n",
    "print('Benchmark: corr (Y, Y_pred) = '+str(corr_benchmark1))\n",
    "print('Hard Thresholding selected ' +str(len(benchmark_select)) +' features: ', benchmark_select.values)"
   ]
  },
  {
   "cell_type": "code",
   "execution_count": 64,
   "metadata": {},
   "outputs": [
    {
     "name": "stdout",
     "output_type": "stream",
     "text": [
      "\n",
      "Ridge Model Summary:\n",
      "                                 OLS Regression Results                                \n",
      "=======================================================================================\n",
      "Dep. Variable:                   NVDA   R-squared (uncentered):                   0.855\n",
      "Model:                            OLS   Adj. R-squared (uncentered):              0.844\n",
      "Method:                 Least Squares   F-statistic:                              80.16\n",
      "Date:                Tue, 10 Dec 2024   Prob (F-statistic):                    7.05e-62\n",
      "Time:                        23:03:55   Log-Likelihood:                         -80.638\n",
      "No. Observations:                 175   AIC:                                      185.3\n",
      "Df Residuals:                     163   BIC:                                      223.3\n",
      "Df Model:                          12                                                  \n",
      "Covariance Type:            nonrobust                                                  \n",
      "===============================================================================\n",
      "                  coef    std err          t      P>|t|      [0.025      0.975]\n",
      "-------------------------------------------------------------------------------\n",
      "AMD            -0.4004      0.086     -4.681      0.000      -0.569      -0.232\n",
      "ADS_Index       0.0828      0.039      2.102      0.037       0.005       0.161\n",
      "Mkt-RF          0.0096      0.037      0.258      0.797      -0.064       0.083\n",
      "SMB             0.0873      0.046      1.881      0.062      -0.004       0.179\n",
      "HML            -0.0635      0.039     -1.644      0.102      -0.140       0.013\n",
      "RMW             0.0529      0.041      1.277      0.204      -0.029       0.135\n",
      "CMA            -0.0256      0.036     -0.706      0.481      -0.097       0.046\n",
      "RF              0.1452      0.040      3.607      0.000       0.066       0.225\n",
      "CBBTCUSD        0.4385      0.077      5.715      0.000       0.287       0.590\n",
      "DJIA            0.6128      0.075      8.169      0.000       0.465       0.761\n",
      "MACD_Signal     0.3284      0.054      6.103      0.000       0.222       0.435\n",
      "RSI            -0.1325      0.056     -2.385      0.018      -0.242      -0.023\n",
      "==============================================================================\n",
      "Omnibus:                        6.586   Durbin-Watson:                   2.214\n",
      "Prob(Omnibus):                  0.037   Jarque-Bera (JB):                6.562\n",
      "Skew:                           0.364   Prob(JB):                       0.0376\n",
      "Kurtosis:                       3.609   Cond. No.                         6.78\n",
      "==============================================================================\n",
      "\n",
      "Notes:\n",
      "[1] R² is computed without centering (uncentered) since the model does not contain a constant.\n",
      "[2] Standard Errors assume that the covariance matrix of the errors is correctly specified.\n",
      "Ridge Regression: corr (Y, Y_pred) = 0.9246861883895245\n",
      "Ridge selected 12 features:  ['AMD' 'ADS_Index' 'Mkt-RF' 'SMB' 'HML' 'RMW' 'CMA' 'RF' 'CBBTCUSD' 'DJIA'\n",
      " 'MACD_Signal' 'RSI']\n"
     ]
    }
   ],
   "source": [
    "# Ridge Feature Selection\n",
    "a = 0.1\n",
    "ridge_prep = skl.Ridge(alpha=a, fit_intercept=False).fit(x_train_reduced, y_train)\n",
    "ridge_select = x_train_reduced.columns[np.abs(ridge_prep.coef_)>=0.001]\n",
    "x_ridge = x_train_reduced[ridge_select]\n",
    "ridge = sm.OLS(y_train, x_ridge).fit()\n",
    "print(\"\\nRidge Model Summary:\")\n",
    "print(ridge.summary())\n",
    "y_pred_ridge = ridge.predict(x_ridge)\n",
    "corr_ridge = ss.pearsonr(y_pred_ridge, y_train)[0]\n",
    "print('Ridge Regression: corr (Y, Y_pred) = '+str(corr_ridge))\n",
    "print('Ridge selected ' +str(len(ridge_select)) +' features: ', ridge_select.values)"
   ]
  },
  {
   "cell_type": "code",
   "execution_count": 65,
   "metadata": {},
   "outputs": [
    {
     "name": "stdout",
     "output_type": "stream",
     "text": [
      "x_lasso shape: (175, 4)\n",
      "y_train shape: (175,)\n",
      "\n",
      "Lasso Model Summary:\n",
      "                                 OLS Regression Results                                \n",
      "=======================================================================================\n",
      "Dep. Variable:                   NVDA   R-squared (uncentered):                   0.784\n",
      "Model:                            OLS   Adj. R-squared (uncentered):              0.779\n",
      "Method:                 Least Squares   F-statistic:                              154.9\n",
      "Date:                Tue, 10 Dec 2024   Prob (F-statistic):                    9.39e-56\n",
      "Time:                        23:03:55   Log-Likelihood:                         -115.67\n",
      "No. Observations:                 175   AIC:                                      239.3\n",
      "Df Residuals:                     171   BIC:                                      252.0\n",
      "Df Model:                           4                                                  \n",
      "Covariance Type:            nonrobust                                                  \n",
      "===============================================================================\n",
      "                  coef    std err          t      P>|t|      [0.025      0.975]\n",
      "-------------------------------------------------------------------------------\n",
      "RF              0.1278      0.040      3.236      0.001       0.050       0.206\n",
      "CBBTCUSD        0.4720      0.080      5.880      0.000       0.314       0.630\n",
      "DJIA            0.3670      0.074      4.960      0.000       0.221       0.513\n",
      "MACD_Signal     0.0686      0.044      1.550      0.123      -0.019       0.156\n",
      "==============================================================================\n",
      "Omnibus:                        8.281   Durbin-Watson:                   2.087\n",
      "Prob(Omnibus):                  0.016   Jarque-Bera (JB):                4.115\n",
      "Skew:                           0.118   Prob(JB):                        0.128\n",
      "Kurtosis:                       2.287   Cond. No.                         4.59\n",
      "==============================================================================\n",
      "\n",
      "Notes:\n",
      "[1] R² is computed without centering (uncentered) since the model does not contain a constant.\n",
      "[2] Standard Errors assume that the covariance matrix of the errors is correctly specified.\n",
      "LASSO: corr (Y, Y_pred) = 0.8852471058237465\n",
      "LASSO selected 4 features:  ['RF' 'CBBTCUSD' 'DJIA' 'MACD_Signal']\n"
     ]
    }
   ],
   "source": [
    "# Lasso Feature Selection\n",
    "a = 0.1 # 0.5 is toooo high\n",
    "lasso_prep = skl.Lasso(alpha=a, fit_intercept=False).fit(x_train_reduced, y_train)\n",
    "lasso_select = x_train_reduced.columns[np.abs(lasso_prep.coef_)!=0.0]\n",
    "x_lasso = x_train_reduced[lasso_select]\n",
    "print(\"x_lasso shape:\", x_lasso.shape)\n",
    "print(\"y_train shape:\", y_train.shape)\n",
    "\n",
    "lasso = sm.OLS(y_train, x_lasso).fit()\n",
    "print(\"\\nLasso Model Summary:\")\n",
    "print(lasso.summary())\n",
    "y_pred_lasso = lasso.predict(x_lasso)\n",
    "corr_lasso = ss.pearsonr(y_pred_lasso, y_train)[0]\n",
    "print('LASSO: corr (Y, Y_pred) = '+str(corr_lasso))\n",
    "print('LASSO selected ' +str(len(lasso_select)) +' features: ', lasso_select.values)\n",
    "\n"
   ]
  },
  {
   "cell_type": "code",
   "execution_count": 66,
   "metadata": {},
   "outputs": [
    {
     "name": "stdout",
     "output_type": "stream",
     "text": [
      "\n",
      "Elastic Net Model Summary:\n",
      "                                 OLS Regression Results                                \n",
      "=======================================================================================\n",
      "Dep. Variable:                   NVDA   R-squared (uncentered):                   0.830\n",
      "Model:                            OLS   Adj. R-squared (uncentered):              0.824\n",
      "Method:                 Least Squares   F-statistic:                              137.4\n",
      "Date:                Tue, 10 Dec 2024   Prob (F-statistic):                    2.55e-62\n",
      "Time:                        23:03:55   Log-Likelihood:                         -94.674\n",
      "No. Observations:                 175   AIC:                                      201.3\n",
      "Df Residuals:                     169   BIC:                                      220.3\n",
      "Df Model:                           6                                                  \n",
      "Covariance Type:            nonrobust                                                  \n",
      "===============================================================================\n",
      "                  coef    std err          t      P>|t|      [0.025      0.975]\n",
      "-------------------------------------------------------------------------------\n",
      "ADS_Index       0.1654      0.036      4.550      0.000       0.094       0.237\n",
      "RF              0.2039      0.038      5.372      0.000       0.129       0.279\n",
      "CBBTCUSD        0.3334      0.075      4.460      0.000       0.186       0.481\n",
      "DJIA            0.4528      0.067      6.726      0.000       0.320       0.586\n",
      "MACD_Signal     0.2323      0.051      4.584      0.000       0.132       0.332\n",
      "RSI            -0.2741      0.046     -5.911      0.000      -0.366      -0.183\n",
      "==============================================================================\n",
      "Omnibus:                        0.912   Durbin-Watson:                   2.139\n",
      "Prob(Omnibus):                  0.634   Jarque-Bera (JB):                0.953\n",
      "Skew:                           0.170   Prob(JB):                        0.621\n",
      "Kurtosis:                       2.878   Cond. No.                         5.07\n",
      "==============================================================================\n",
      "\n",
      "Notes:\n",
      "[1] R² is computed without centering (uncentered) since the model does not contain a constant.\n",
      "[2] Standard Errors assume that the covariance matrix of the errors is correctly specified.\n",
      "Elastic Net: corr (Y, Y_pred) = 0.9109351723525689\n",
      "ElasticNet selected 6 features:  ['ADS_Index' 'RF' 'CBBTCUSD' 'DJIA' 'MACD_Signal' 'RSI']\n"
     ]
    }
   ],
   "source": [
    "# Elastic Net Feature Selection\n",
    "a = 0.1\n",
    "elastic_prep = skl.ElasticNet(alpha=a, fit_intercept=False).fit(x_train_reduced, y_train)\n",
    "elastic_select = x_train_reduced.columns[np.abs(elastic_prep.coef_)!=0.0]\n",
    "x_elastic = x_train_reduced[elastic_select]\n",
    "elastic = sm.OLS(y_train, x_elastic).fit()\n",
    "print(\"\\nElastic Net Model Summary:\")\n",
    "print(elastic.summary())\n",
    "y_pred_elastic = elastic.predict(x_elastic)\n",
    "corr_elastic = ss.pearsonr(y_pred_elastic, y_train)[0]\n",
    "print('Elastic Net: corr (Y, Y_pred) = '+str(corr_elastic))\n",
    "print('ElasticNet selected ' +str(len(elastic_select)) +' features: ', elastic_select.values)\n"
   ]
  },
  {
   "cell_type": "code",
   "execution_count": 67,
   "metadata": {},
   "outputs": [
    {
     "name": "stdout",
     "output_type": "stream",
     "text": [
      "\n",
      "LARS Model Summary:\n",
      "                                 OLS Regression Results                                \n",
      "=======================================================================================\n",
      "Dep. Variable:                   NVDA   R-squared (uncentered):                   0.803\n",
      "Model:                            OLS   Adj. R-squared (uncentered):              0.793\n",
      "Method:                 Least Squares   F-statistic:                              84.96\n",
      "Date:                Tue, 10 Dec 2024   Prob (F-statistic):                    7.35e-55\n",
      "Time:                        23:03:55   Log-Likelihood:                         -107.62\n",
      "No. Observations:                 175   AIC:                                      231.2\n",
      "Df Residuals:                     167   BIC:                                      256.5\n",
      "Df Model:                           8                                                  \n",
      "Covariance Type:            nonrobust                                                  \n",
      "===============================================================================\n",
      "                  coef    std err          t      P>|t|      [0.025      0.975]\n",
      "-------------------------------------------------------------------------------\n",
      "ADS_Index       0.1268      0.039      3.284      0.001       0.051       0.203\n",
      "Mkt-RF         -0.0409      0.038     -1.069      0.287      -0.117       0.035\n",
      "SMB             0.1041      0.043      2.442      0.016       0.020       0.188\n",
      "RMW             0.0605      0.045      1.351      0.178      -0.028       0.149\n",
      "RF              0.1901      0.042      4.571      0.000       0.108       0.272\n",
      "CBBTCUSD        0.4849      0.079      6.167      0.000       0.330       0.640\n",
      "DJIA            0.3428      0.073      4.697      0.000       0.199       0.487\n",
      "MACD_Signal     0.0421      0.044      0.965      0.336      -0.044       0.128\n",
      "==============================================================================\n",
      "Omnibus:                        4.821   Durbin-Watson:                   2.090\n",
      "Prob(Omnibus):                  0.090   Jarque-Bera (JB):                4.818\n",
      "Skew:                           0.405   Prob(JB):                       0.0899\n",
      "Kurtosis:                       2.924   Cond. No.                         4.73\n",
      "==============================================================================\n",
      "\n",
      "Notes:\n",
      "[1] R² is computed without centering (uncentered) since the model does not contain a constant.\n",
      "[2] Standard Errors assume that the covariance matrix of the errors is correctly specified.\n",
      "LARS: corr (Y, Y_pred) = 0.8960126569626637\n",
      "LARS selected 8 features:  ['ADS_Index' 'Mkt-RF' 'SMB' 'RMW' 'RF' 'CBBTCUSD' 'DJIA' 'MACD_Signal']\n"
     ]
    }
   ],
   "source": [
    "\n",
    "# Least Angle Regression (LARS)\n",
    "leastAngle_prep = skl.Lars().fit(x_train_reduced, y_train)\n",
    "coef_lars = leastAngle_prep.coef_\n",
    "# For LARS, filter features with a threshold\n",
    "leastAngle_select = x_train_reduced.columns[coef_lars>=0.001]\n",
    "x_lars = x_train_reduced[leastAngle_select]\n",
    "leastAngle = sm.OLS(y_train, x_lars).fit()\n",
    "print(\"\\nLARS Model Summary:\")\n",
    "print(leastAngle.summary())\n",
    "y_pred_leastAngle = leastAngle.predict(x_lars)\n",
    "corr_leastAngle = ss.pearsonr(y_pred_leastAngle, y_train)[0]\n",
    "print('LARS: corr (Y, Y_pred) = '+str(corr_leastAngle))\n",
    "print('LARS selected ' +str(len(leastAngle_select)) +' features: ', leastAngle_select.values)\n"
   ]
  },
  {
   "cell_type": "code",
   "execution_count": 68,
   "metadata": {},
   "outputs": [
    {
     "name": "stdout",
     "output_type": "stream",
     "text": [
      "\n",
      "Feature Selection Summary:\n",
      "Benchmark OLS: ['AMD' 'ADS_Index' 'RF' 'CBBTCUSD' 'DJIA' 'MACD_Signal' 'RSI']\n",
      "Ridge: ['AMD' 'ADS_Index' 'Mkt-RF' 'SMB' 'HML' 'RMW' 'CMA' 'RF' 'CBBTCUSD' 'DJIA'\n",
      " 'MACD_Signal' 'RSI']\n",
      "Lasso: ['RF' 'CBBTCUSD' 'DJIA' 'MACD_Signal']\n",
      "Elastic Net: ['ADS_Index' 'RF' 'CBBTCUSD' 'DJIA' 'MACD_Signal' 'RSI']\n",
      "LARS: ['ADS_Index' 'Mkt-RF' 'SMB' 'RMW' 'RF' 'CBBTCUSD' 'DJIA' 'MACD_Signal']\n"
     ]
    }
   ],
   "source": [
    "\n",
    "# Print a summary of all selected features\n",
    "print(\"\\nFeature Selection Summary:\")\n",
    "print(f\"Benchmark OLS: {benchmark_select.values}\")\n",
    "print(f\"Ridge: {ridge_select.values}\")\n",
    "print(f\"Lasso: {lasso_select.values}\")\n",
    "print(f\"Elastic Net: {elastic_select.values}\")\n",
    "print(f\"LARS: {leastAngle_select.values}\")\n"
   ]
  },
  {
   "cell_type": "code",
   "execution_count": 71,
   "metadata": {},
   "outputs": [],
   "source": [
    "\n",
    "selected_features = df[['NVDA', 'AMD', 'RSI', 'RF', 'CBBTCUSD', 'DJIA', 'MACD_Signal', 'ADS_Index']]\n",
    "output_csv_path = './DataSelected.csv'\n",
    "selected_features.to_csv(output_csv_path, index=False)\n"
   ]
  }
 ],
 "metadata": {
  "kernelspec": {
   "display_name": "Python 3",
   "language": "python",
   "name": "python3"
  },
  "language_info": {
   "codemirror_mode": {
    "name": "ipython",
    "version": 3
   },
   "file_extension": ".py",
   "mimetype": "text/x-python",
   "name": "python",
   "nbconvert_exporter": "python",
   "pygments_lexer": "ipython3",
   "version": "3.13.0"
  }
 },
 "nbformat": 4,
 "nbformat_minor": 2
}
