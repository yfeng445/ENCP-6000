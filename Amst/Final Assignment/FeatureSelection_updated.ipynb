{
 "cells": [
  {
   "cell_type": "code",
   "execution_count": 28,
   "metadata": {},
   "outputs": [],
   "source": [
    "import pandas as pd\n",
    "import numpy as np\n",
    "import statsmodels.api as sm\n",
    "import scipy.stats as ss\n",
    "import sklearn.linear_model as skl\n",
    "from statsmodels.stats.outliers_influence import variance_inflation_factor\n",
    "from statsmodels.tools import add_constant\n",
    "from sklearn.model_selection import train_test_split"
   ]
  },
  {
   "cell_type": "code",
   "execution_count": 29,
   "metadata": {},
   "outputs": [],
   "source": [
    "# Load the preprocessed dataset\n",
    "output_file_path = './DataStandardized.csv'\n",
    "df = pd.read_csv(output_file_path, index_col=0)"
   ]
  },
  {
   "cell_type": "code",
   "execution_count": 30,
   "metadata": {},
   "outputs": [
    {
     "name": "stdout",
     "output_type": "stream",
     "text": [
      "(175, 23) (76, 23) (175,) (76,)\n"
     ]
    }
   ],
   "source": [
    "target_column = 'NVDA'\n",
    "y = df[target_column]\n",
    "X = df.drop(columns=[target_column])\n",
    "\n",
    "# Split into train and test\n",
    "x_train, x_test, y_train, y_test = train_test_split(X, y, test_size=0.3, random_state=0)\n",
    "print(x_train.shape, x_test.shape, y_train.shape, y_test.shape)"
   ]
  },
  {
   "cell_type": "code",
   "execution_count": 31,
   "metadata": {},
   "outputs": [
    {
     "name": "stdout",
     "output_type": "stream",
     "text": [
      "\n",
      "Initial VIF:\n",
      "               0            1            2          3          4          5          6         7          8         9         10        11        12        13        14         15         16           17           18         19         20           21          22        23\n",
      "Feature     const          SMA          EMA       AAPL        AMD       AVGO       INTC      QCOM  ADS_Index    Mkt-RF       SMB       HML       RMW       CMA        RF   CBBTCUSD   CBETHUSD        SP500    NASDAQCOM       DJIA       MACD  MACD_Signal         OBV       RSI\n",
      "VIF      1.046403  5432.125096  6320.607299  34.820568  24.053884  61.313146  30.185955  56.05525   3.433977  1.671425  2.652426  1.884839  2.063098  1.400054  2.997564  76.168897  65.006473  2494.355882  1949.765768  195.04729  88.655368    48.712691  133.554203  8.028027\n"
     ]
    }
   ],
   "source": [
    "# Add constant for intercept for VIF calculation\n",
    "x_with_const = add_constant(x_train)\n",
    "\n",
    "# Calculate initial VIF\n",
    "vif_data = pd.DataFrame()\n",
    "vif_data[\"Feature\"] = x_with_const.columns\n",
    "vif_data[\"VIF\"] = [variance_inflation_factor(x_with_const.values, i) for i in range(x_with_const.shape[1])]\n",
    "print(\"\\nInitial VIF:\")\n",
    "print(vif_data.transpose().to_string())\n"
   ]
  },
  {
   "cell_type": "code",
   "execution_count": 32,
   "metadata": {},
   "outputs": [
    {
     "name": "stdout",
     "output_type": "stream",
     "text": [
      "\n",
      "VIF after removing correlated features:\n",
      "               0          1          2          3          4          5          6         7         8         9         10       11        12        13         14           15           16          17           18         19        20\n",
      "Feature     const       AAPL        AMD       AVGO       INTC       QCOM  ADS_Index    Mkt-RF       SMB       HML       RMW      CMA        RF  CBBTCUSD   CBETHUSD        SP500    NASDAQCOM        DJIA  MACD_Signal        OBV       RSI\n",
      "VIF      1.041561  19.363915  19.007057  60.501871  16.026936  34.871863   2.758956  1.565388  2.598219  1.799522  1.966865  1.34398  2.901962  74.50455  51.647211  1452.940125  1347.826124  107.232353     6.900547  88.402556  4.713933\n"
     ]
    }
   ],
   "source": [
    "features_to_remove = ['SMA', 'EMA', 'NASDAQCOM_Log_Return', 'SP500_Log_Return', 'MACD']\n",
    "x_train_reduced = x_train.drop(features_to_remove, axis=1, errors='ignore')\n",
    "x_test_reduced = x_test.drop(features_to_remove, axis=1, errors='ignore')\n",
    "\n",
    "# Recalculate VIF\n",
    "x_with_const = add_constant(x_train_reduced)\n",
    "vif_data = pd.DataFrame()\n",
    "vif_data[\"Feature\"] = x_with_const.columns\n",
    "vif_data[\"VIF\"] = [variance_inflation_factor(x_with_const.values, i) for i in range(x_with_const.shape[1])]\n",
    "print(\"\\nVIF after removing correlated features:\")\n",
    "print(vif_data.transpose().to_string())"
   ]
  },
  {
   "cell_type": "code",
   "execution_count": 33,
   "metadata": {},
   "outputs": [
    {
     "name": "stdout",
     "output_type": "stream",
     "text": [
      "\n",
      "Benchmark OLS Summary:\n",
      "                                 OLS Regression Results                                \n",
      "=======================================================================================\n",
      "Dep. Variable:                   NVDA   R-squared (uncentered):                   0.995\n",
      "Model:                            OLS   Adj. R-squared (uncentered):              0.995\n",
      "Method:                 Least Squares   F-statistic:                              3875.\n",
      "Date:                Tue, 10 Dec 2024   Prob (F-statistic):                   5.64e-188\n",
      "Time:                        18:28:25   Log-Likelihood:                          218.67\n",
      "No. Observations:                 175   AIC:                                     -419.3\n",
      "Df Residuals:                     166   BIC:                                     -390.9\n",
      "Df Model:                           9                                                  \n",
      "Covariance Type:            nonrobust                                                  \n",
      "===============================================================================\n",
      "                  coef    std err          t      P>|t|      [0.025      0.975]\n",
      "-------------------------------------------------------------------------------\n",
      "AAPL            0.0675      0.011      5.992      0.000       0.045       0.090\n",
      "INTC           -0.1417      0.013    -10.613      0.000      -0.168      -0.115\n",
      "QCOM           -0.1246      0.024     -5.192      0.000      -0.172      -0.077\n",
      "CBBTCUSD       -0.0613      0.036     -1.713      0.089      -0.132       0.009\n",
      "CBETHUSD        0.1716      0.032      5.339      0.000       0.108       0.235\n",
      "SP500           0.9553      0.058     16.379      0.000       0.840       1.070\n",
      "DJIA           -0.5015      0.036    -13.834      0.000      -0.573      -0.430\n",
      "MACD_Signal     0.0704      0.011      6.144      0.000       0.048       0.093\n",
      "OBV             0.3758      0.038      9.967      0.000       0.301       0.450\n",
      "==============================================================================\n",
      "Omnibus:                        2.504   Durbin-Watson:                   2.089\n",
      "Prob(Omnibus):                  0.286   Jarque-Bera (JB):                1.886\n",
      "Skew:                          -0.073   Prob(JB):                        0.389\n",
      "Kurtosis:                       2.513   Cond. No.                         33.3\n",
      "==============================================================================\n",
      "\n",
      "Notes:\n",
      "[1] R² is computed without centering (uncentered) since the model does not contain a constant.\n",
      "[2] Standard Errors assume that the covariance matrix of the errors is correctly specified.\n",
      "Benchmark: corr (Y, Y_pred) = 0.9976273881561041\n",
      "Hard Thresholding selected 9 features:  ['AAPL' 'INTC' 'QCOM' 'CBBTCUSD' 'CBETHUSD' 'SP500' 'DJIA' 'MACD_Signal'\n",
      " 'OBV']\n"
     ]
    }
   ],
   "source": [
    "# Benchmark OLS Model\n",
    "x_train_reduced_const = sm.add_constant(x_train_reduced)\n",
    "benchmark_prep = sm.OLS(y_train, x_train_reduced_const).fit()\n",
    "benchmark_select = x_train_reduced_const.columns[np.abs(benchmark_prep.tvalues)>=1.96]  # Hard thresholding based on t-values\n",
    "x_bench = x_train_reduced_const[benchmark_select]\n",
    "benchmark = sm.OLS(y_train, x_bench).fit()\n",
    "print(\"\\nBenchmark OLS Summary:\")\n",
    "print(benchmark.summary())\n",
    "y_hat_benchmark1 = benchmark.predict(x_bench)\n",
    "corr_benchmark1 = ss.pearsonr(y_hat_benchmark1, y_train)[0]\n",
    "print('Benchmark: corr (Y, Y_pred) = '+str(corr_benchmark1))\n",
    "print('Hard Thresholding selected ' +str(len(benchmark_select)) +' features: ', benchmark_select.values)"
   ]
  },
  {
   "cell_type": "code",
   "execution_count": 34,
   "metadata": {},
   "outputs": [
    {
     "name": "stdout",
     "output_type": "stream",
     "text": [
      "\n",
      "Ridge Model Summary:\n",
      "                                 OLS Regression Results                                \n",
      "=======================================================================================\n",
      "Dep. Variable:                   NVDA   R-squared (uncentered):                   0.996\n",
      "Model:                            OLS   Adj. R-squared (uncentered):              0.995\n",
      "Method:                 Least Squares   F-statistic:                              1813.\n",
      "Date:                Tue, 10 Dec 2024   Prob (F-statistic):                   8.29e-173\n",
      "Time:                        18:28:26   Log-Likelihood:                          228.04\n",
      "No. Observations:                 175   AIC:                                     -416.1\n",
      "Df Residuals:                     155   BIC:                                     -352.8\n",
      "Df Model:                          20                                                  \n",
      "Covariance Type:            nonrobust                                                  \n",
      "===============================================================================\n",
      "                  coef    std err          t      P>|t|      [0.025      0.975]\n",
      "-------------------------------------------------------------------------------\n",
      "AAPL            0.0644      0.023      2.831      0.005       0.019       0.109\n",
      "AMD            -0.0154      0.022     -0.691      0.491      -0.059       0.029\n",
      "AVGO            0.0286      0.040      0.707      0.481      -0.051       0.108\n",
      "INTC           -0.1428      0.021     -6.662      0.000      -0.185      -0.100\n",
      "QCOM           -0.0935      0.031     -3.040      0.003      -0.154      -0.033\n",
      "ADS_Index      -0.0121      0.009     -1.364      0.175      -0.030       0.005\n",
      "Mkt-RF          0.0035      0.007      0.525      0.600      -0.010       0.017\n",
      "SMB            -0.0072      0.008     -0.851      0.396      -0.024       0.010\n",
      "HML             0.0015      0.007      0.208      0.835      -0.012       0.015\n",
      "RMW            -0.0029      0.008     -0.380      0.705      -0.018       0.012\n",
      "CMA             0.0070      0.007      1.052      0.295      -0.006       0.020\n",
      "RF              0.0131      0.009      1.408      0.161      -0.005       0.031\n",
      "CBBTCUSD       -0.0909      0.045     -2.021      0.045      -0.180      -0.002\n",
      "CBETHUSD        0.2090      0.037      5.595      0.000       0.135       0.283\n",
      "SP500           1.0666      0.195      5.478      0.000       0.682       1.451\n",
      "NASDAQCOM      -0.1065      0.188     -0.565      0.573      -0.479       0.266\n",
      "DJIA           -0.5154      0.052     -9.863      0.000      -0.619      -0.412\n",
      "MACD_Signal     0.0613      0.014      4.351      0.000       0.033       0.089\n",
      "OBV             0.3372      0.049      6.893      0.000       0.241       0.434\n",
      "RSI             0.0081      0.012      0.675      0.501      -0.016       0.032\n",
      "==============================================================================\n",
      "Omnibus:                        2.286   Durbin-Watson:                   2.081\n",
      "Prob(Omnibus):                  0.319   Jarque-Bera (JB):                2.138\n",
      "Skew:                          -0.271   Prob(JB):                        0.343\n",
      "Kurtosis:                       2.990   Cond. No.                         157.\n",
      "==============================================================================\n",
      "\n",
      "Notes:\n",
      "[1] R² is computed without centering (uncentered) since the model does not contain a constant.\n",
      "[2] Standard Errors assume that the covariance matrix of the errors is correctly specified.\n",
      "Ridge Regression: corr (Y, Y_pred) = 0.9978687903344319\n",
      "Ridge selected 20 features:  ['AAPL' 'AMD' 'AVGO' 'INTC' 'QCOM' 'ADS_Index' 'Mkt-RF' 'SMB' 'HML' 'RMW'\n",
      " 'CMA' 'RF' 'CBBTCUSD' 'CBETHUSD' 'SP500' 'NASDAQCOM' 'DJIA' 'MACD_Signal'\n",
      " 'OBV' 'RSI']\n"
     ]
    }
   ],
   "source": [
    "# Ridge Feature Selection\n",
    "a = 0.1\n",
    "ridge_prep = skl.Ridge(alpha=a, fit_intercept=False).fit(x_train_reduced, y_train)\n",
    "ridge_select = x_train_reduced.columns[np.abs(ridge_prep.coef_)>=0.001]\n",
    "x_ridge = x_train_reduced[ridge_select]\n",
    "ridge = sm.OLS(y_train, x_ridge).fit()\n",
    "print(\"\\nRidge Model Summary:\")\n",
    "print(ridge.summary())\n",
    "y_pred_ridge = ridge.predict(x_ridge)\n",
    "corr_ridge = ss.pearsonr(y_pred_ridge, y_train)[0]\n",
    "print('Ridge Regression: corr (Y, Y_pred) = '+str(corr_ridge))\n",
    "print('Ridge selected ' +str(len(ridge_select)) +' features: ', ridge_select.values)"
   ]
  },
  {
   "cell_type": "code",
   "execution_count": 35,
   "metadata": {},
   "outputs": [
    {
     "name": "stdout",
     "output_type": "stream",
     "text": [
      "x_lasso shape: (175, 3)\n",
      "y_train shape: (175,)\n",
      "\n",
      "Lasso Model Summary:\n",
      "                                 OLS Regression Results                                \n",
      "=======================================================================================\n",
      "Dep. Variable:                   NVDA   R-squared (uncentered):                   0.977\n",
      "Model:                            OLS   Adj. R-squared (uncentered):              0.977\n",
      "Method:                 Least Squares   F-statistic:                              2480.\n",
      "Date:                Tue, 10 Dec 2024   Prob (F-statistic):                   2.90e-141\n",
      "Time:                        18:28:26   Log-Likelihood:                          81.967\n",
      "No. Observations:                 175   AIC:                                     -157.9\n",
      "Df Residuals:                     172   BIC:                                     -148.4\n",
      "Df Model:                           3                                                  \n",
      "Covariance Type:            nonrobust                                                  \n",
      "==============================================================================\n",
      "                 coef    std err          t      P>|t|      [0.025      0.975]\n",
      "------------------------------------------------------------------------------\n",
      "INTC          -0.1830      0.014    -12.716      0.000      -0.211      -0.155\n",
      "NASDAQCOM      0.4644      0.051      9.144      0.000       0.364       0.565\n",
      "OBV            0.4244      0.054      7.840      0.000       0.318       0.531\n",
      "==============================================================================\n",
      "Omnibus:                        6.994   Durbin-Watson:                   1.870\n",
      "Prob(Omnibus):                  0.030   Jarque-Bera (JB):                4.110\n",
      "Skew:                          -0.182   Prob(JB):                        0.128\n",
      "Kurtosis:                       2.343   Cond. No.                         9.82\n",
      "==============================================================================\n",
      "\n",
      "Notes:\n",
      "[1] R² is computed without centering (uncentered) since the model does not contain a constant.\n",
      "[2] Standard Errors assume that the covariance matrix of the errors is correctly specified.\n",
      "LASSO: corr (Y, Y_pred) = 0.9886439218803528\n",
      "LASSO selected 3 features:  ['INTC' 'NASDAQCOM' 'OBV']\n"
     ]
    }
   ],
   "source": [
    "# Lasso Feature Selection\n",
    "a = 0.1 # 0.5 is toooo high\n",
    "lasso_prep = skl.Lasso(alpha=a, fit_intercept=False).fit(x_train_reduced, y_train)\n",
    "lasso_select = x_train_reduced.columns[np.abs(lasso_prep.coef_)!=0.0]\n",
    "x_lasso = x_train_reduced[lasso_select]\n",
    "print(\"x_lasso shape:\", x_lasso.shape)\n",
    "print(\"y_train shape:\", y_train.shape)\n",
    "\n",
    "lasso = sm.OLS(y_train, x_lasso).fit()\n",
    "print(\"\\nLasso Model Summary:\")\n",
    "print(lasso.summary())\n",
    "y_pred_lasso = lasso.predict(x_lasso)\n",
    "corr_lasso = ss.pearsonr(y_pred_lasso, y_train)[0]\n",
    "print('LASSO: corr (Y, Y_pred) = '+str(corr_lasso))\n",
    "print('LASSO selected ' +str(len(lasso_select)) +' features: ', lasso_select.values)\n",
    "\n"
   ]
  },
  {
   "cell_type": "code",
   "execution_count": 36,
   "metadata": {},
   "outputs": [
    {
     "name": "stdout",
     "output_type": "stream",
     "text": [
      "\n",
      "Elastic Net Model Summary:\n",
      "                                 OLS Regression Results                                \n",
      "=======================================================================================\n",
      "Dep. Variable:                   NVDA   R-squared (uncentered):                   0.992\n",
      "Model:                            OLS   Adj. R-squared (uncentered):              0.991\n",
      "Method:                 Least Squares   F-statistic:                              2181.\n",
      "Date:                Tue, 10 Dec 2024   Prob (F-statistic):                   2.14e-167\n",
      "Time:                        18:28:26   Log-Likelihood:                          168.70\n",
      "No. Observations:                 175   AIC:                                     -319.4\n",
      "Df Residuals:                     166   BIC:                                     -290.9\n",
      "Df Model:                           9                                                  \n",
      "Covariance Type:            nonrobust                                                  \n",
      "===============================================================================\n",
      "                  coef    std err          t      P>|t|      [0.025      0.975]\n",
      "-------------------------------------------------------------------------------\n",
      "AAPL            0.0210      0.020      1.055      0.293      -0.018       0.060\n",
      "AVGO            0.0541      0.047      1.147      0.253      -0.039       0.147\n",
      "INTC           -0.3032      0.013    -22.873      0.000      -0.329      -0.277\n",
      "QCOM           -0.1601      0.037     -4.336      0.000      -0.233      -0.087\n",
      "CBETHUSD        0.1732      0.024      7.210      0.000       0.126       0.221\n",
      "SP500          -0.4848      0.103     -4.721      0.000      -0.688      -0.282\n",
      "NASDAQCOM       0.9037      0.141      6.428      0.000       0.626       1.181\n",
      "MACD_Signal     0.1247      0.013      9.445      0.000       0.099       0.151\n",
      "OBV             0.2931      0.053      5.486      0.000       0.188       0.399\n",
      "==============================================================================\n",
      "Omnibus:                        4.597   Durbin-Watson:                   2.096\n",
      "Prob(Omnibus):                  0.100   Jarque-Bera (JB):                4.594\n",
      "Skew:                          -0.362   Prob(JB):                        0.101\n",
      "Kurtosis:                       2.673   Cond. No.                         62.8\n",
      "==============================================================================\n",
      "\n",
      "Notes:\n",
      "[1] R² is computed without centering (uncentered) since the model does not contain a constant.\n",
      "[2] Standard Errors assume that the covariance matrix of the errors is correctly specified.\n",
      "Elastic Net: corr (Y, Y_pred) = 0.9957991908243602\n",
      "ElasticNet selected 9 features:  ['AAPL' 'AVGO' 'INTC' 'QCOM' 'CBETHUSD' 'SP500' 'NASDAQCOM' 'MACD_Signal'\n",
      " 'OBV']\n"
     ]
    }
   ],
   "source": [
    "# Elastic Net Feature Selection\n",
    "a = 0.1\n",
    "elastic_prep = skl.ElasticNet(alpha=a, fit_intercept=False).fit(x_train_reduced, y_train)\n",
    "elastic_select = x_train_reduced.columns[np.abs(elastic_prep.coef_)!=0.0]\n",
    "x_elastic = x_train_reduced[elastic_select]\n",
    "elastic = sm.OLS(y_train, x_elastic).fit()\n",
    "print(\"\\nElastic Net Model Summary:\")\n",
    "print(elastic.summary())\n",
    "y_pred_elastic = elastic.predict(x_elastic)\n",
    "corr_elastic = ss.pearsonr(y_pred_elastic, y_train)[0]\n",
    "print('Elastic Net: corr (Y, Y_pred) = '+str(corr_elastic))\n",
    "print('ElasticNet selected ' +str(len(elastic_select)) +' features: ', elastic_select.values)\n"
   ]
  },
  {
   "cell_type": "code",
   "execution_count": 37,
   "metadata": {},
   "outputs": [
    {
     "name": "stdout",
     "output_type": "stream",
     "text": [
      "\n",
      "LARS Model Summary:\n",
      "                                 OLS Regression Results                                \n",
      "=======================================================================================\n",
      "Dep. Variable:                   NVDA   R-squared (uncentered):                   0.981\n",
      "Model:                            OLS   Adj. R-squared (uncentered):              0.980\n",
      "Method:                 Least Squares   F-statistic:                              790.5\n",
      "Date:                Tue, 10 Dec 2024   Prob (F-statistic):                   7.10e-136\n",
      "Time:                        18:28:26   Log-Likelihood:                          99.410\n",
      "No. Observations:                 175   AIC:                                     -176.8\n",
      "Df Residuals:                     164   BIC:                                     -142.0\n",
      "Df Model:                          11                                                  \n",
      "Covariance Type:            nonrobust                                                  \n",
      "==============================================================================\n",
      "                 coef    std err          t      P>|t|      [0.025      0.975]\n",
      "------------------------------------------------------------------------------\n",
      "AAPL           0.0895      0.026      3.500      0.001       0.039       0.140\n",
      "AMD           -0.0639      0.042     -1.513      0.132      -0.147       0.019\n",
      "AVGO           0.3292      0.070      4.698      0.000       0.191       0.468\n",
      "INTC          -0.2250      0.027     -8.462      0.000      -0.278      -0.173\n",
      "QCOM           0.0250      0.047      0.528      0.598      -0.068       0.119\n",
      "Mkt-RF        -0.0183      0.012     -1.551      0.123      -0.042       0.005\n",
      "SMB            0.0088      0.012      0.761      0.448      -0.014       0.032\n",
      "CBETHUSD       0.2539      0.037      6.787      0.000       0.180       0.328\n",
      "SP500          0.0629      0.066      0.947      0.345      -0.068       0.194\n",
      "OBV            0.2252      0.084      2.696      0.008       0.060       0.390\n",
      "RSI            0.0583      0.017      3.371      0.001       0.024       0.092\n",
      "==============================================================================\n",
      "Omnibus:                        0.458   Durbin-Watson:                   1.986\n",
      "Prob(Omnibus):                  0.795   Jarque-Bera (JB):                0.450\n",
      "Skew:                           0.120   Prob(JB):                        0.798\n",
      "Kurtosis:                       2.938   Cond. No.                         22.3\n",
      "==============================================================================\n",
      "\n",
      "Notes:\n",
      "[1] R² is computed without centering (uncentered) since the model does not contain a constant.\n",
      "[2] Standard Errors assume that the covariance matrix of the errors is correctly specified.\n",
      "LARS: corr (Y, Y_pred) = 0.9907425521188017\n",
      "LARS selected 11 features:  ['AAPL' 'AMD' 'AVGO' 'INTC' 'QCOM' 'Mkt-RF' 'SMB' 'CBETHUSD' 'SP500' 'OBV'\n",
      " 'RSI']\n"
     ]
    }
   ],
   "source": [
    "\n",
    "# Least Angle Regression (LARS)\n",
    "leastAngle_prep = skl.Lars().fit(x_train_reduced, y_train)\n",
    "coef_lars = leastAngle_prep.coef_\n",
    "# For LARS, filter features with a threshold\n",
    "leastAngle_select = x_train_reduced.columns[coef_lars>=0.001]\n",
    "x_lars = x_train_reduced[leastAngle_select]\n",
    "leastAngle = sm.OLS(y_train, x_lars).fit()\n",
    "print(\"\\nLARS Model Summary:\")\n",
    "print(leastAngle.summary())\n",
    "y_pred_leastAngle = leastAngle.predict(x_lars)\n",
    "corr_leastAngle = ss.pearsonr(y_pred_leastAngle, y_train)[0]\n",
    "print('LARS: corr (Y, Y_pred) = '+str(corr_leastAngle))\n",
    "print('LARS selected ' +str(len(leastAngle_select)) +' features: ', leastAngle_select.values)\n"
   ]
  },
  {
   "cell_type": "code",
   "execution_count": 38,
   "metadata": {},
   "outputs": [
    {
     "name": "stdout",
     "output_type": "stream",
     "text": [
      "\n",
      "Feature Selection Summary:\n",
      "Benchmark OLS: ['AAPL' 'INTC' 'QCOM' 'CBBTCUSD' 'CBETHUSD' 'SP500' 'DJIA' 'MACD_Signal'\n",
      " 'OBV']\n",
      "Ridge: ['AAPL' 'AMD' 'AVGO' 'INTC' 'QCOM' 'ADS_Index' 'Mkt-RF' 'SMB' 'HML' 'RMW'\n",
      " 'CMA' 'RF' 'CBBTCUSD' 'CBETHUSD' 'SP500' 'NASDAQCOM' 'DJIA' 'MACD_Signal'\n",
      " 'OBV' 'RSI']\n",
      "Lasso: ['INTC' 'NASDAQCOM' 'OBV']\n",
      "Elastic Net: ['AAPL' 'AVGO' 'INTC' 'QCOM' 'CBETHUSD' 'SP500' 'NASDAQCOM' 'MACD_Signal'\n",
      " 'OBV']\n",
      "LARS: ['AAPL' 'AMD' 'AVGO' 'INTC' 'QCOM' 'Mkt-RF' 'SMB' 'CBETHUSD' 'SP500' 'OBV'\n",
      " 'RSI']\n"
     ]
    }
   ],
   "source": [
    "\n",
    "# Print a summary of all selected features\n",
    "print(\"\\nFeature Selection Summary:\")\n",
    "print(f\"Benchmark OLS: {benchmark_select.values}\")\n",
    "print(f\"Ridge: {ridge_select.values}\")\n",
    "print(f\"Lasso: {lasso_select.values}\")\n",
    "print(f\"Elastic Net: {elastic_select.values}\")\n",
    "print(f\"LARS: {leastAngle_select.values}\")\n"
   ]
  },
  {
   "cell_type": "code",
   "execution_count": 39,
   "metadata": {},
   "outputs": [
    {
     "ename": "KeyError",
     "evalue": "\"['NVDA_Log_Return', 'AMD_Log_Return', 'AVGO_Log_Return', 'QCOM_Log_Return'] not in index\"",
     "output_type": "error",
     "traceback": [
      "\u001b[1;31m---------------------------------------------------------------------------\u001b[0m",
      "\u001b[1;31mKeyError\u001b[0m                                  Traceback (most recent call last)",
      "Cell \u001b[1;32mIn[39], line 9\u001b[0m\n\u001b[0;32m      1\u001b[0m selected_features \u001b[38;5;241m=\u001b[39m [\n\u001b[0;32m      2\u001b[0m     \u001b[38;5;124m'\u001b[39m\u001b[38;5;124mNVDA_Log_Return\u001b[39m\u001b[38;5;124m'\u001b[39m,\n\u001b[0;32m      3\u001b[0m     \u001b[38;5;124m'\u001b[39m\u001b[38;5;124mAMD_Log_Return\u001b[39m\u001b[38;5;124m'\u001b[39m,\n\u001b[1;32m   (...)\u001b[0m\n\u001b[0;32m      6\u001b[0m     \u001b[38;5;124m'\u001b[39m\u001b[38;5;124mQCOM_Log_Return\u001b[39m\u001b[38;5;124m'\u001b[39m\n\u001b[0;32m      7\u001b[0m ]\n\u001b[1;32m----> 9\u001b[0m df_selected \u001b[38;5;241m=\u001b[39m \u001b[43mdf\u001b[49m\u001b[43m[\u001b[49m\u001b[43mselected_features\u001b[49m\u001b[43m]\u001b[49m\n\u001b[0;32m     11\u001b[0m \u001b[38;5;66;03m# Export to a new CSV file\u001b[39;00m\n\u001b[0;32m     12\u001b[0m df_selected\u001b[38;5;241m.\u001b[39mto_csv(\u001b[38;5;124m'\u001b[39m\u001b[38;5;124mDataSelected.csv\u001b[39m\u001b[38;5;124m'\u001b[39m, index\u001b[38;5;241m=\u001b[39m\u001b[38;5;28;01mFalse\u001b[39;00m)\n",
      "File \u001b[1;32m~\\AppData\\Roaming\\Python\\Python312\\site-packages\\pandas\\core\\frame.py:4108\u001b[0m, in \u001b[0;36mDataFrame.__getitem__\u001b[1;34m(self, key)\u001b[0m\n\u001b[0;32m   4106\u001b[0m     \u001b[38;5;28;01mif\u001b[39;00m is_iterator(key):\n\u001b[0;32m   4107\u001b[0m         key \u001b[38;5;241m=\u001b[39m \u001b[38;5;28mlist\u001b[39m(key)\n\u001b[1;32m-> 4108\u001b[0m     indexer \u001b[38;5;241m=\u001b[39m \u001b[38;5;28;43mself\u001b[39;49m\u001b[38;5;241;43m.\u001b[39;49m\u001b[43mcolumns\u001b[49m\u001b[38;5;241;43m.\u001b[39;49m\u001b[43m_get_indexer_strict\u001b[49m\u001b[43m(\u001b[49m\u001b[43mkey\u001b[49m\u001b[43m,\u001b[49m\u001b[43m \u001b[49m\u001b[38;5;124;43m\"\u001b[39;49m\u001b[38;5;124;43mcolumns\u001b[39;49m\u001b[38;5;124;43m\"\u001b[39;49m\u001b[43m)\u001b[49m[\u001b[38;5;241m1\u001b[39m]\n\u001b[0;32m   4110\u001b[0m \u001b[38;5;66;03m# take() does not accept boolean indexers\u001b[39;00m\n\u001b[0;32m   4111\u001b[0m \u001b[38;5;28;01mif\u001b[39;00m \u001b[38;5;28mgetattr\u001b[39m(indexer, \u001b[38;5;124m\"\u001b[39m\u001b[38;5;124mdtype\u001b[39m\u001b[38;5;124m\"\u001b[39m, \u001b[38;5;28;01mNone\u001b[39;00m) \u001b[38;5;241m==\u001b[39m \u001b[38;5;28mbool\u001b[39m:\n",
      "File \u001b[1;32m~\\AppData\\Roaming\\Python\\Python312\\site-packages\\pandas\\core\\indexes\\base.py:6200\u001b[0m, in \u001b[0;36mIndex._get_indexer_strict\u001b[1;34m(self, key, axis_name)\u001b[0m\n\u001b[0;32m   6197\u001b[0m \u001b[38;5;28;01melse\u001b[39;00m:\n\u001b[0;32m   6198\u001b[0m     keyarr, indexer, new_indexer \u001b[38;5;241m=\u001b[39m \u001b[38;5;28mself\u001b[39m\u001b[38;5;241m.\u001b[39m_reindex_non_unique(keyarr)\n\u001b[1;32m-> 6200\u001b[0m \u001b[38;5;28;43mself\u001b[39;49m\u001b[38;5;241;43m.\u001b[39;49m\u001b[43m_raise_if_missing\u001b[49m\u001b[43m(\u001b[49m\u001b[43mkeyarr\u001b[49m\u001b[43m,\u001b[49m\u001b[43m \u001b[49m\u001b[43mindexer\u001b[49m\u001b[43m,\u001b[49m\u001b[43m \u001b[49m\u001b[43maxis_name\u001b[49m\u001b[43m)\u001b[49m\n\u001b[0;32m   6202\u001b[0m keyarr \u001b[38;5;241m=\u001b[39m \u001b[38;5;28mself\u001b[39m\u001b[38;5;241m.\u001b[39mtake(indexer)\n\u001b[0;32m   6203\u001b[0m \u001b[38;5;28;01mif\u001b[39;00m \u001b[38;5;28misinstance\u001b[39m(key, Index):\n\u001b[0;32m   6204\u001b[0m     \u001b[38;5;66;03m# GH 42790 - Preserve name from an Index\u001b[39;00m\n",
      "File \u001b[1;32m~\\AppData\\Roaming\\Python\\Python312\\site-packages\\pandas\\core\\indexes\\base.py:6252\u001b[0m, in \u001b[0;36mIndex._raise_if_missing\u001b[1;34m(self, key, indexer, axis_name)\u001b[0m\n\u001b[0;32m   6249\u001b[0m     \u001b[38;5;28;01mraise\u001b[39;00m \u001b[38;5;167;01mKeyError\u001b[39;00m(\u001b[38;5;124mf\u001b[39m\u001b[38;5;124m\"\u001b[39m\u001b[38;5;124mNone of [\u001b[39m\u001b[38;5;132;01m{\u001b[39;00mkey\u001b[38;5;132;01m}\u001b[39;00m\u001b[38;5;124m] are in the [\u001b[39m\u001b[38;5;132;01m{\u001b[39;00maxis_name\u001b[38;5;132;01m}\u001b[39;00m\u001b[38;5;124m]\u001b[39m\u001b[38;5;124m\"\u001b[39m)\n\u001b[0;32m   6251\u001b[0m not_found \u001b[38;5;241m=\u001b[39m \u001b[38;5;28mlist\u001b[39m(ensure_index(key)[missing_mask\u001b[38;5;241m.\u001b[39mnonzero()[\u001b[38;5;241m0\u001b[39m]]\u001b[38;5;241m.\u001b[39munique())\n\u001b[1;32m-> 6252\u001b[0m \u001b[38;5;28;01mraise\u001b[39;00m \u001b[38;5;167;01mKeyError\u001b[39;00m(\u001b[38;5;124mf\u001b[39m\u001b[38;5;124m\"\u001b[39m\u001b[38;5;132;01m{\u001b[39;00mnot_found\u001b[38;5;132;01m}\u001b[39;00m\u001b[38;5;124m not in index\u001b[39m\u001b[38;5;124m\"\u001b[39m)\n",
      "\u001b[1;31mKeyError\u001b[0m: \"['NVDA_Log_Return', 'AMD_Log_Return', 'AVGO_Log_Return', 'QCOM_Log_Return'] not in index\""
     ]
    }
   ],
   "source": [
    "selected_features = [\n",
    "    'NVDA_Log_Return',\n",
    "    'AMD_Log_Return',\n",
    "    'RSI',\n",
    "    'AVGO_Log_Return',\n",
    "    'QCOM_Log_Return'\n",
    "]\n",
    "\n",
    "df_selected = df[selected_features]\n",
    "\n",
    "# Export to a new CSV file\n",
    "df_selected.to_csv('DataSelected.csv', index=False)\n",
    "\n",
    "print(\"DataSelected.csv created with features:\", selected_features)\n"
   ]
  }
 ],
 "metadata": {
  "kernelspec": {
   "display_name": "Python 3",
   "language": "python",
   "name": "python3"
  },
  "language_info": {
   "codemirror_mode": {
    "name": "ipython",
    "version": 3
   },
   "file_extension": ".py",
   "mimetype": "text/x-python",
   "name": "python",
   "nbconvert_exporter": "python",
   "pygments_lexer": "ipython3",
   "version": "3.12.6"
  }
 },
 "nbformat": 4,
 "nbformat_minor": 2
}
