{
 "cells": [
  {
   "cell_type": "code",
   "execution_count": 38,
   "metadata": {},
   "outputs": [],
   "source": [
    "# Global tools\n",
    "import pandas as pd\n",
    "import numpy as np\n",
    "from sklearn.model_selection import train_test_split\n",
    "from sklearn.linear_model import Ridge, Lasso, ElasticNet\n",
    "from sklearn.metrics import mean_squared_error, r2_score, make_scorer\n",
    "from sklearn.model_selection import GridSearchCV, train_test_split\n"
   ]
  },
  {
   "cell_type": "markdown",
   "metadata": {},
   "source": [
    "Feature Selection Summary:\n",
    "\n",
    "Benchmark OLS: ['AMD' 'ADS_Index' 'RF' 'CBBTCUSD' 'DJIA' 'MACD_Signal' 'RSI']\n",
    "\n",
    "Ridge: ['AMD' 'ADS_Index' 'Mkt-RF' 'SMB' 'HML' 'RMW' 'CMA' 'RF' 'CBBTCUSD' 'DJIA'\n",
    " 'MACD_Signal' 'RSI']\n",
    "\n",
    "Lasso: ['RF' 'CBBTCUSD' 'DJIA' 'MACD_Signal']\n",
    "\n",
    "Elastic Net: ['ADS_Index' 'RF' 'CBBTCUSD' 'DJIA' 'MACD_Signal' 'RSI']\n",
    "\n",
    "LARS: ['ADS_Index' 'Mkt-RF' 'SMB' 'RMW' 'RF' 'CBBTCUSD' 'DJIA' 'MACD_Signal']\n"
   ]
  },
  {
   "cell_type": "code",
   "execution_count": 39,
   "metadata": {},
   "outputs": [],
   "source": [
    "df = pd.read_csv('./DataSelected.csv')\n",
    "target_column = 'NVDA' \n",
    "y = df[target_column]\n",
    "X = df.drop(columns=[target_column])\n",
    "X_train, X_test, y_train, y_test = train_test_split(X, y, test_size=0.2, random_state=0)\n"
   ]
  },
  {
   "cell_type": "code",
   "execution_count": 40,
   "metadata": {},
   "outputs": [],
   "source": [
    "# Simple Linear Models + Grid Search "
   ]
  },
  {
   "cell_type": "code",
   "execution_count": 41,
   "metadata": {},
   "outputs": [
    {
     "name": "stdout",
     "output_type": "stream",
     "text": [
      "Lasso Best Params: {'alpha': np.float64(0.0017000000000000001)}\n",
      "Lasso Best Score: -0.16834712238655897\n",
      "Test MSE with Best Found Parameters: 0.1699278032812201\n"
     ]
    }
   ],
   "source": [
    "# Lasso \n",
    "param_grid = {\n",
    "    #'alpha': [0.001, 0.01, 0.1, 1.0, 10.0] # Lasso Best Params: {'alpha': 0.001}\n",
    "    'alpha': np.linspace(0.0001, 0.1, 1000)\n",
    "    }\n",
    "scorer = make_scorer(mean_squared_error, greater_is_better=False)\n",
    "lasso = Lasso()\n",
    "grid_search_lasso = GridSearchCV(\n",
    "    estimator=lasso,\n",
    "    param_grid=param_grid,\n",
    "    scoring=scorer,\n",
    "    cv=10,              \n",
    "    n_jobs=-1       \n",
    ")\n",
    "\n",
    "grid_search_lasso.fit(X_train, y_train)\n",
    "\n",
    "print(\"Lasso Best Params:\", grid_search_lasso.best_params_)\n",
    "print(\"Lasso Best Score:\", grid_search_lasso.best_score_)\n",
    "\n",
    "best_lasso = grid_search_lasso.best_estimator_\n",
    "test_predictions = best_lasso.predict(X_test)\n",
    "test_mse = mean_squared_error(y_test, test_predictions)\n",
    "print(\"Test MSE with Best Found Parameters:\", test_mse)"
   ]
  },
  {
   "cell_type": "code",
   "execution_count": 42,
   "metadata": {},
   "outputs": [
    {
     "name": "stdout",
     "output_type": "stream",
     "text": [
      "Ridge Best Params: {'alpha': np.float64(0.1)}\n",
      "Ridge Best Score: -0.16836949428374867\n",
      "Test MSE with Best Found Parameters: 0.16915805783224286\n"
     ]
    }
   ],
   "source": [
    "# Ridge\n",
    "param_grid_ridge = {\n",
    "    #'alpha': [0.01, 0.1, 1.0, 10.0, 100.0] # Ridge Best Params: {'alpha': 0.01}\n",
    "    'alpha': np.linspace(0.0001, 0.1, 1000)\n",
    "}\n",
    "scorer = make_scorer(mean_squared_error, greater_is_better=False)\n",
    "ridge = Ridge()\n",
    "grid_search_ridge = GridSearchCV(\n",
    "    estimator=ridge, \n",
    "    param_grid=param_grid_ridge, \n",
    "    scoring=scorer, \n",
    "    cv=10, \n",
    "    n_jobs=-1)\n",
    "grid_search_ridge.fit(X_train, y_train)\n",
    "\n",
    "print(\"Ridge Best Params:\", grid_search_ridge.best_params_)\n",
    "print(\"Ridge Best Score:\", grid_search_ridge.best_score_)\n",
    "\n",
    "best_ridge = grid_search_ridge.best_estimator_\n",
    "test_predictions = best_ridge.predict(X_test)\n",
    "test_mse = mean_squared_error(y_test, test_predictions)\n",
    "print(\"Test MSE with Best Found Parameters:\", test_mse)"
   ]
  },
  {
   "cell_type": "code",
   "execution_count": null,
   "metadata": {},
   "outputs": [],
   "source": []
  },
  {
   "cell_type": "code",
   "execution_count": 43,
   "metadata": {},
   "outputs": [
    {
     "name": "stdout",
     "output_type": "stream",
     "text": [
      "Elastic Net Best Params: {'alpha': np.float64(0.006551285568595509), 'l1_ratio': np.float64(0.1)}\n",
      "Elastic Net Best Score: -0.16812036079581824\n",
      "Test MSE with Best Found Parameters: 0.1705288136810767\n"
     ]
    }
   ],
   "source": [
    "# Elastic Net\n",
    "param_grid_elastic = {\n",
    "    # 'alpha': [0.01, 0.1, 1.0], # Elastic Net Best Params: {'alpha': 0.01, 'l1_ratio': 0.9}\n",
    "    # 'l1_ratio': [0.1, 0.5, 0.9]\n",
    "    'alpha': np.logspace(-3, -1, 50), \n",
    "    'l1_ratio': np.linspace(0.1, 1.0, 10)  \n",
    "}\n",
    "scorer = make_scorer(mean_squared_error, greater_is_better=False)\n",
    "elastic = ElasticNet()\n",
    "grid_search_elastic = GridSearchCV(\n",
    "    estimator=elastic, \n",
    "    param_grid=param_grid_elastic, \n",
    "    scoring=scorer, \n",
    "    cv=10, \n",
    "    n_jobs=-1)\n",
    "grid_search_elastic.fit(X_train, y_train)\n",
    "print(\"Elastic Net Best Params:\", grid_search_elastic.best_params_)\n",
    "print(\"Elastic Net Best Score:\", grid_search_elastic.best_score_)\n",
    "\n",
    "best_elastic = grid_search_elastic.best_estimator_\n",
    "test_predictions = best_elastic.predict(X_test)\n",
    "test_mse = mean_squared_error(y_test, test_predictions)\n",
    "print(\"Test MSE with Best Found Parameters:\", test_mse)\n"
   ]
  }
 ],
 "metadata": {
  "kernelspec": {
   "display_name": "Python 3",
   "language": "python",
   "name": "python3"
  },
  "language_info": {
   "codemirror_mode": {
    "name": "ipython",
    "version": 3
   },
   "file_extension": ".py",
   "mimetype": "text/x-python",
   "name": "python",
   "nbconvert_exporter": "python",
   "pygments_lexer": "ipython3",
   "version": "3.13.0"
  }
 },
 "nbformat": 4,
 "nbformat_minor": 2
}
