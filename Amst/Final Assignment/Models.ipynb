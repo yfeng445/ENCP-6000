{
 "cells": [
  {
   "cell_type": "code",
   "execution_count": 19,
   "metadata": {},
   "outputs": [],
   "source": [
    "# Global tools\n",
    "import pandas as pd\n",
    "import numpy as np\n",
    "import xgboost as xgb\n",
    "from sklearn.model_selection import train_test_split\n",
    "from sklearn.linear_model import Ridge, Lasso, ElasticNet\n",
    "from sklearn.metrics import mean_squared_error, r2_score, make_scorer\n",
    "from sklearn.model_selection import GridSearchCV, train_test_split\n"
   ]
  },
  {
   "cell_type": "markdown",
   "metadata": {},
   "source": [
    "Feature Selection Summary:\n",
    "\n",
    "Benchmark OLS: ['AMD' 'ADS_Index' 'RF' 'CBBTCUSD' 'DJIA' 'MACD_Signal' 'RSI']\n",
    "\n",
    "Ridge: ['AMD' 'ADS_Index' 'Mkt-RF' 'SMB' 'HML' 'RMW' 'CMA' 'RF' 'CBBTCUSD' 'DJIA'\n",
    " 'MACD_Signal' 'RSI']\n",
    "\n",
    "Lasso: ['RF' 'CBBTCUSD' 'DJIA' 'MACD_Signal']\n",
    "\n",
    "Elastic Net: ['ADS_Index' 'RF' 'CBBTCUSD' 'DJIA' 'MACD_Signal' 'RSI']\n",
    "\n",
    "LARS: ['ADS_Index' 'Mkt-RF' 'SMB' 'RMW' 'RF' 'CBBTCUSD' 'DJIA' 'MACD_Signal']\n"
   ]
  },
  {
   "cell_type": "code",
   "execution_count": 20,
   "metadata": {},
   "outputs": [],
   "source": [
    "df = pd.read_csv('./DataSelected.csv')\n",
    "target_column = 'NVDA' \n",
    "y = df[target_column]\n",
    "X = df.drop(columns=[target_column])\n",
    "X_train, X_test, y_train, y_test = train_test_split(X, y, test_size=0.2, random_state=0)\n"
   ]
  },
  {
   "cell_type": "code",
   "execution_count": 21,
   "metadata": {},
   "outputs": [],
   "source": [
    "# Simple Linear Models + Grid Search "
   ]
  },
  {
   "cell_type": "code",
   "execution_count": 22,
   "metadata": {},
   "outputs": [
    {
     "name": "stdout",
     "output_type": "stream",
     "text": [
      "Lasso Best Params: {'alpha': np.float64(0.0017000000000000001)}\n",
      "Lasso Best Score: -0.16834712238655897\n",
      "Test MSE with Best Found Parameters: 0.1699278032812201\n"
     ]
    }
   ],
   "source": [
    "# Lasso \n",
    "param_grid = {\n",
    "    'alpha': np.linspace(0.0001, 0.1, 1000)\n",
    "    }\n",
    "scorer = make_scorer(mean_squared_error, greater_is_better=False)\n",
    "lasso = Lasso()\n",
    "grid_search_lasso = GridSearchCV(\n",
    "    estimator=lasso,\n",
    "    param_grid=param_grid,\n",
    "    scoring=scorer,\n",
    "    cv=10,              \n",
    "    n_jobs=-1       \n",
    ")\n",
    "\n",
    "grid_search_lasso.fit(X_train, y_train)\n",
    "\n",
    "print(\"Lasso Best Params:\", grid_search_lasso.best_params_)\n",
    "print(\"Lasso Best Score:\", grid_search_lasso.best_score_)\n",
    "\n",
    "best_lasso = grid_search_lasso.best_estimator_\n",
    "test_predictions = best_lasso.predict(X_test)\n",
    "test_mse = mean_squared_error(y_test, test_predictions)\n",
    "print(\"Test MSE with Best Found Parameters:\", test_mse)"
   ]
  },
  {
   "cell_type": "code",
   "execution_count": 23,
   "metadata": {},
   "outputs": [
    {
     "name": "stdout",
     "output_type": "stream",
     "text": [
      "Ridge Best Params: {'alpha': np.float64(1.4815666666666667)}\n",
      "Ridge Best Score: -0.16806571344177768\n",
      "Test MSE with Best Found Parameters: 0.1704669120292344\n"
     ]
    }
   ],
   "source": [
    "# Ridge\n",
    "param_grid_ridge = {\n",
    "    #'alpha': [0.01, 0.1, 1.0, 10.0, 100.0] # Ridge Best Params: {'alpha': 0.01}\n",
    "    'alpha': np.linspace(0.0001, 10, 1000)\n",
    "}\n",
    "scorer = make_scorer(mean_squared_error, greater_is_better=False)\n",
    "ridge = Ridge()\n",
    "grid_search_ridge = GridSearchCV(\n",
    "    estimator=ridge, \n",
    "    param_grid=param_grid_ridge, \n",
    "    scoring=scorer, \n",
    "    cv=10, \n",
    "    n_jobs=-1)\n",
    "grid_search_ridge.fit(X_train, y_train)\n",
    "\n",
    "print(\"Ridge Best Params:\", grid_search_ridge.best_params_)\n",
    "print(\"Ridge Best Score:\", grid_search_ridge.best_score_)\n",
    "\n",
    "best_ridge = grid_search_ridge.best_estimator_\n",
    "test_predictions = best_ridge.predict(X_test)\n",
    "test_mse = mean_squared_error(y_test, test_predictions)\n",
    "print(\"Test MSE with Best Found Parameters:\", test_mse)"
   ]
  },
  {
   "cell_type": "code",
   "execution_count": 24,
   "metadata": {},
   "outputs": [
    {
     "name": "stdout",
     "output_type": "stream",
     "text": [
      "Elastic Net Best Params: {'alpha': np.float64(0.006551285568595509), 'l1_ratio': np.float64(0.1)}\n",
      "Elastic Net Best Score: -0.16812036079581824\n",
      "Test MSE with Best Found Parameters: 0.1705288136810767\n"
     ]
    }
   ],
   "source": [
    "# Elastic Net\n",
    "param_grid_elastic = {\n",
    "    'alpha': np.logspace(-3, -1, 50), \n",
    "    'l1_ratio': np.linspace(0.1, 1.0, 10)  \n",
    "}\n",
    "scorer = make_scorer(mean_squared_error, greater_is_better=False)\n",
    "elastic = ElasticNet()\n",
    "grid_search_elastic = GridSearchCV(\n",
    "    estimator=elastic, \n",
    "    param_grid=param_grid_elastic, \n",
    "    scoring=scorer, \n",
    "    cv=10, \n",
    "    n_jobs=-1)\n",
    "grid_search_elastic.fit(X_train, y_train)\n",
    "print(\"Elastic Net Best Params:\", grid_search_elastic.best_params_)\n",
    "print(\"Elastic Net Best Score:\", grid_search_elastic.best_score_)\n",
    "\n",
    "best_elastic = grid_search_elastic.best_estimator_\n",
    "test_predictions = best_elastic.predict(X_test)\n",
    "test_mse = mean_squared_error(y_test, test_predictions)\n",
    "print(\"Test MSE with Best Found Parameters:\", test_mse)\n"
   ]
  },
  {
   "cell_type": "code",
   "execution_count": 26,
   "metadata": {},
   "outputs": [
    {
     "name": "stdout",
     "output_type": "stream",
     "text": [
      "Best Parameters: {'objective': 'reg:squarederror', 'eval_metric': 'rmse', 'learning_rate': 0.05, 'max_depth': 7, 'subsample': 0.8, 'colsample_bytree': 0.8, 'alpha': 0, 'lambda': 1}\n",
      "Best RMSE from CV: 0.2015352477010817\n",
      "Test MSE with Best Parameters: 0.0369\n",
      "Test RMSE with Best Parameters: 0.1920\n",
      "Feature importance saved to ./FeatureImportance_ManualTuning.csv\n",
      "\n",
      "Top Features:\n",
      "       Feature  Importance\n",
      "0          AMD      1636.0\n",
      "1          RSI      1171.0\n",
      "3     CBBTCUSD      1097.0\n",
      "4         DJIA      1040.0\n",
      "5  MACD_Signal       734.0\n",
      "6    ADS_Index       622.0\n",
      "2           RF       107.0\n"
     ]
    }
   ],
   "source": [
    "from itertools import product\n",
    "\n",
    "# Convert to DMatrix\n",
    "dtrain = xgb.DMatrix(X_train, label=y_train)\n",
    "dtest = xgb.DMatrix(X_test, label=y_test)\n",
    "\n",
    "# Define the parameter grid\n",
    "param_grid = {\n",
    "    'learning_rate': [0.01, 0.05, 0.1],\n",
    "    'max_depth': [3, 5, 7],\n",
    "    'subsample': [0.8, 1.0],\n",
    "    'colsample_bytree': [0.8, 1.0],\n",
    "    'alpha': [0, 0.1, 0.5],\n",
    "    'lambda': [1, 1.5, 2]\n",
    "}\n",
    "\n",
    "# Generate all combinations of hyperparameters\n",
    "param_combinations = list(product(\n",
    "    param_grid['learning_rate'],\n",
    "    param_grid['max_depth'],\n",
    "    param_grid['subsample'],\n",
    "    param_grid['colsample_bytree'],\n",
    "    param_grid['alpha'],\n",
    "    param_grid['lambda']\n",
    "))\n",
    "\n",
    "# Cross-validation to find the best parameters\n",
    "best_params = None\n",
    "best_rmse = float('inf')\n",
    "\n",
    "for params in param_combinations:\n",
    "    learning_rate, max_depth, subsample, colsample_bytree, alpha, lambda_ = params\n",
    "    cv_params = {\n",
    "        'objective': 'reg:squarederror',\n",
    "        'eval_metric': 'rmse',\n",
    "        'learning_rate': learning_rate,\n",
    "        'max_depth': max_depth,\n",
    "        'subsample': subsample,\n",
    "        'colsample_bytree': colsample_bytree,\n",
    "        'alpha': alpha,\n",
    "        'lambda': lambda_,\n",
    "    }\n",
    "    cv_results = xgb.cv(\n",
    "        cv_params,\n",
    "        dtrain,\n",
    "        num_boost_round=200,\n",
    "        nfold=3,\n",
    "        early_stopping_rounds=20,\n",
    "        verbose_eval=False\n",
    "    )\n",
    "    mean_rmse = cv_results['test-rmse-mean'].min()\n",
    "    if mean_rmse < best_rmse:\n",
    "        best_rmse = mean_rmse\n",
    "        best_params = cv_params\n",
    "\n",
    "print(\"Best Parameters:\", best_params)\n",
    "print(\"Best RMSE from CV:\", best_rmse)\n",
    "\n",
    "# Train the model with the best parameters\n",
    "final_model = xgb.train(best_params, dtrain, num_boost_round=200)\n",
    "\n",
    "# Make predictions on the test set\n",
    "y_pred = final_model.predict(dtest)\n",
    "\n",
    "# Evaluate the model\n",
    "test_mse = mean_squared_error(y_test, y_pred)\n",
    "test_rmse = test_mse ** 0.5\n",
    "\n",
    "print(f\"Test MSE with Best Parameters: {test_mse:.4f}\")\n",
    "print(f\"Test RMSE with Best Parameters: {test_rmse:.4f}\")\n",
    "\n",
    "# Feature importance\n",
    "importance = final_model.get_score(importance_type='weight')\n",
    "importance_df = pd.DataFrame(list(importance.items()), columns=['Feature', 'Importance']).sort_values(by='Importance', ascending=False)\n",
    "\n",
    "# Save feature importance\n",
    "importance_csv_path = './FeatureImportance_ManualTuning.csv'\n",
    "importance_df.to_csv(importance_csv_path, index=False)\n",
    "print(f\"Feature importance saved to {importance_csv_path}\")\n",
    "\n",
    "# Display top features\n",
    "print(\"\\nTop Features:\")\n",
    "print(importance_df)"
   ]
  }
 ],
 "metadata": {
  "kernelspec": {
   "display_name": "Python 3",
   "language": "python",
   "name": "python3"
  },
  "language_info": {
   "codemirror_mode": {
    "name": "ipython",
    "version": 3
   },
   "file_extension": ".py",
   "mimetype": "text/x-python",
   "name": "python",
   "nbconvert_exporter": "python",
   "pygments_lexer": "ipython3",
   "version": "3.13.0"
  }
 },
 "nbformat": 4,
 "nbformat_minor": 2
}
