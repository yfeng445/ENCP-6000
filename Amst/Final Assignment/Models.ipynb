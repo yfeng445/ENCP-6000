{
 "cells": [
  {
   "cell_type": "code",
   "execution_count": 6,
   "metadata": {},
   "outputs": [],
   "source": [
    "# Global tools\n",
    "import pandas as pd\n",
    "import numpy as np\n",
    "from sklearn.model_selection import train_test_split\n",
    "from sklearn.linear_model import Ridge, Lasso, ElasticNet\n",
    "from sklearn.metrics import mean_squared_error, r2_score\n"
   ]
  },
  {
   "cell_type": "code",
   "execution_count": 7,
   "metadata": {},
   "outputs": [],
   "source": [
    "df = pd.read_csv('./DataSelected.csv')\n",
    "target_column = 'NVDA_Log_Return' \n",
    "y = df[target_column]\n",
    "X = df.drop(columns=[target_column])\n",
    "X_train, X_test, y_train, y_test = train_test_split(X, y, test_size=0.2, random_state=0)\n"
   ]
  },
  {
   "cell_type": "markdown",
   "metadata": {},
   "source": [
    "# Simple Linear Models"
   ]
  },
  {
   "cell_type": "code",
   "execution_count": 8,
   "metadata": {},
   "outputs": [
    {
     "name": "stdout",
     "output_type": "stream",
     "text": [
      "Ridge Regression: MSE=0.1664, R²=0.4597\n"
     ]
    }
   ],
   "source": [
    "# Ridge Regression\n",
    "ridge_alpha = 1.0\n",
    "ridge_model = Ridge(alpha=ridge_alpha)\n",
    "ridge_model.fit(X_train, y_train)\n",
    "y_pred_ridge = ridge_model.predict(X_test)\n",
    "ridge_mse = mean_squared_error(y_test, y_pred_ridge)\n",
    "ridge_r2 = r2_score(y_test, y_pred_ridge)\n",
    "print(f\"Ridge Regression: MSE={ridge_mse:.4f}, R²={ridge_r2:.4f}\")"
   ]
  },
  {
   "cell_type": "code",
   "execution_count": 9,
   "metadata": {},
   "outputs": [
    {
     "name": "stdout",
     "output_type": "stream",
     "text": [
      "Lasso Regression: MSE=0.2465, R²=0.1999\n"
     ]
    }
   ],
   "source": [
    "# Lasso Regression\n",
    "lasso_alpha = 0.1\n",
    "lasso_model = Lasso(alpha=lasso_alpha)\n",
    "lasso_model.fit(X_train, y_train)\n",
    "y_pred_lasso = lasso_model.predict(X_test)\n",
    "lasso_mse = mean_squared_error(y_test, y_pred_lasso)\n",
    "lasso_r2 = r2_score(y_test, y_pred_lasso)\n",
    "print(f\"Lasso Regression: MSE={lasso_mse:.4f}, R²={lasso_r2:.4f}\")"
   ]
  },
  {
   "cell_type": "code",
   "execution_count": 10,
   "metadata": {},
   "outputs": [
    {
     "name": "stdout",
     "output_type": "stream",
     "text": [
      "Elastic Net Regression: MSE=0.2397, R²=0.2219\n"
     ]
    }
   ],
   "source": [
    "# Elastic Net Regression\n",
    "elastic_alpha = 0.1\n",
    "l1_ratio = 0.5  # balance between Lasso (L1) and Ridge (L2)\n",
    "elastic_model = ElasticNet(alpha=elastic_alpha, l1_ratio=l1_ratio)\n",
    "elastic_model.fit(X_train, y_train)\n",
    "y_pred_elastic = elastic_model.predict(X_test)\n",
    "elastic_mse = mean_squared_error(y_test, y_pred_elastic)\n",
    "elastic_r2 = r2_score(y_test, y_pred_elastic)\n",
    "print(f\"Elastic Net Regression: MSE={elastic_mse:.4f}, R²={elastic_r2:.4f}\")\n"
   ]
  },
  {
   "cell_type": "code",
   "execution_count": 11,
   "metadata": {},
   "outputs": [
    {
     "name": "stdout",
     "output_type": "stream",
     "text": [
      "\n",
      "Ridge Coefficients: [0.14845719 0.20883352 0.38377557 1.15849552 0.14945522 0.08644744]\n",
      "Lasso Coefficients: [0.05076371 0.16680758 0.         0.         0.16554196 0.        ]\n",
      "Elastic Net Coefficients: [0.10858576 0.22231175 0.2107422  0.01001973 0.19356388 0.02595629]\n"
     ]
    }
   ],
   "source": [
    "print(\"\\nRidge Coefficients:\", ridge_model.coef_)\n",
    "print(\"Lasso Coefficients:\", lasso_model.coef_)\n",
    "print(\"Elastic Net Coefficients:\", elastic_model.coef_)"
   ]
  }
 ],
 "metadata": {
  "kernelspec": {
   "display_name": "Python 3",
   "language": "python",
   "name": "python3"
  },
  "language_info": {
   "codemirror_mode": {
    "name": "ipython",
    "version": 3
   },
   "file_extension": ".py",
   "mimetype": "text/x-python",
   "name": "python",
   "nbconvert_exporter": "python",
   "pygments_lexer": "ipython3",
   "version": "3.12.6"
  }
 },
 "nbformat": 4,
 "nbformat_minor": 2
}
