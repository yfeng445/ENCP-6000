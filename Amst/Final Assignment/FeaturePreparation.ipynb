{
 "cells": [
  {
   "cell_type": "code",
   "execution_count": 86,
   "metadata": {},
   "outputs": [],
   "source": [
    "import pandas as pd\n",
    "import numpy as np\n",
    "from fredapi import Fred\n",
    "import yfinance as yf\n",
    "import glob"
   ]
  },
  {
   "cell_type": "code",
   "execution_count": 87,
   "metadata": {},
   "outputs": [],
   "source": [
    "start_date = '2023-09-01'\n",
    "end_date = '2024-09-01'"
   ]
  },
  {
   "cell_type": "code",
   "execution_count": 88,
   "metadata": {},
   "outputs": [],
   "source": [
    "# target stock data: close stock price\n",
    "# competitor stock price: competitor stock close price\n",
    "# macroeconomic indicators: ADS\n",
    "# industry related data: FRED('CBBTCUSD', 'CBETHUSD')\n",
    "# financial & investment data: FF5, FRED('SP500', 'NASDAQ', 'DOWJONES')\n"
   ]
  },
  {
   "cell_type": "code",
   "execution_count": 89,
   "metadata": {},
   "outputs": [
    {
     "name": "stderr",
     "output_type": "stream",
     "text": [
      "[*********************100%***********************]  1 of 1 completed"
     ]
    },
    {
     "name": "stdout",
     "output_type": "stream",
     "text": [
      "Ticker        NVDA\n",
      "count   251.000000\n",
      "mean     79.092747\n",
      "std      30.492500\n",
      "min      40.313805\n",
      "25%      48.141552\n",
      "50%      79.504669\n",
      "75%     104.851032\n",
      "max     135.568405\n"
     ]
    },
    {
     "name": "stderr",
     "output_type": "stream",
     "text": [
      "\n"
     ]
    }
   ],
   "source": [
    "# NVDA Stock Price\n",
    "NVDA_stock_price = yf.download(\"NVDA\", start_date, end_date)['Adj Close']\n",
    "NVDA_stock_price_df = pd.DataFrame(NVDA_stock_price)\n",
    "NVDA_stock_price_df.index.name = 'Date'\n",
    "NVDA_stock_price_df.index = NVDA_stock_price_df.index.strftime('%y%m%d')\n",
    "# Display descriptive statistics for stock prices\n",
    "print(NVDA_stock_price_df.describe())\n",
    "NVDA_stock_price_df.to_csv('NVDA_stock_price.csv')"
   ]
  },
  {
   "cell_type": "code",
   "execution_count": 90,
   "metadata": {},
   "outputs": [
    {
     "name": "stderr",
     "output_type": "stream",
     "text": [
      "[*********************100%***********************]  5 of 5 completed"
     ]
    },
    {
     "name": "stdout",
     "output_type": "stream",
     "text": [
      "Ticker        AAPL         AMD        AVGO        INTC        QCOM\n",
      "count   251.000000  251.000000  251.000000  251.000000  251.000000\n",
      "mean    189.827509  147.360677  122.638521   36.445328  154.915609\n",
      "std      18.559048   28.342445   27.476383    7.405938   32.302531\n",
      "min     164.405121   93.669998   79.609314   18.990000  102.638420\n",
      "25%     174.560921  122.160000   95.772259   30.898989  127.521931\n",
      "50%     185.949036  152.270004  125.089081   35.935158  156.338058\n",
      "75%     195.181770  167.779999  139.818703   42.780405  174.028770\n",
      "max     234.290756  211.380005  181.710449   50.089161  225.922470\n"
     ]
    },
    {
     "name": "stderr",
     "output_type": "stream",
     "text": [
      "\n"
     ]
    }
   ],
   "source": [
    "# Competitors stock price\n",
    "competitors = ['AMD', 'INTC', 'QCOM', 'AAPL', 'AVGO']\n",
    "competitors_stock_price = yf.download(competitors, start_date, end_date)['Adj Close']\n",
    "competitors_stock_price_df = pd.DataFrame(competitors_stock_price)\n",
    "competitors_stock_price_df.index.name = 'Date'\n",
    "competitors_stock_price_df.index = competitors_stock_price_df.index.strftime('%y%m%d')\n",
    "print(competitors_stock_price_df.describe())\n",
    "competitors_stock_price_df.to_csv('competitors_stock_price.csv')"
   ]
  },
  {
   "cell_type": "code",
   "execution_count": 91,
   "metadata": {},
   "outputs": [
    {
     "name": "stdout",
     "output_type": "stream",
     "text": [
      "        ADS_Index\n",
      "Date             \n",
      "230901   0.060395\n",
      "230905   0.070788\n",
      "230906   0.071438\n",
      "230907   0.071330\n",
      "230908   0.070466\n",
      "230911   0.062606\n",
      "230912   0.057263\n",
      "230913   0.050435\n",
      "230914   0.042119\n",
      "230915   0.032312\n"
     ]
    }
   ],
   "source": [
    "# ADS Index Data\n",
    "ADS = pd.read_excel('ADS_Index_Most_Current_Vintage.xlsx')\n",
    "ADS['Date'] = pd.to_datetime(ADS['Date'], format='%Y:%m:%d')\n",
    "ADS = ADS[(ADS['Date'] >= pd.to_datetime(start_date)) & (ADS['Date'] <= pd.to_datetime(end_date))]\n",
    "ADS['Date'] = ADS['Date'].dt.strftime('%y%m%d')\n",
    "ADS = ADS[ADS['Date'].isin(NVDA_stock_price_df.index)]\n",
    "ADS.set_index('Date', inplace=True)\n",
    "\n",
    "# Display descriptive statistics for ADS Index\n",
    "print(ADS.head(10))\n"
   ]
  },
  {
   "cell_type": "code",
   "execution_count": 92,
   "metadata": {},
   "outputs": [
    {
     "name": "stdout",
     "output_type": "stream",
     "text": [
      "        Mkt-RF   SMB   HML   RMW   CMA     RF\n",
      "Date                                         \n",
      "230901    0.26  0.84  0.58 -0.03 -0.20  0.021\n",
      "230905   -0.54 -1.58 -0.86 -0.30 -0.47  0.021\n",
      "230906   -0.71  0.01 -0.18 -0.45  0.10  0.021\n",
      "230907   -0.40 -0.69  0.03 -0.20  0.02  0.021\n",
      "230908    0.12 -0.51  0.40  0.28  0.01  0.021\n",
      "230911    0.66 -0.47 -0.54 -0.49 -0.33  0.021\n",
      "230912   -0.59  0.21  0.99  0.25  0.23  0.021\n",
      "230913    0.03 -0.87 -0.22  0.25 -0.36  0.021\n",
      "230914    0.84  0.49  0.86  0.82  0.02  0.021\n",
      "230915   -1.21  0.21  0.25 -0.33  0.50  0.021\n"
     ]
    }
   ],
   "source": [
    "# Fama French 5 Factors\n",
    "FF5 = pd.read_csv('FF5.csv')\n",
    "FF5.rename(columns={'Unnamed: 0': 'Date'}, inplace=True)\n",
    "FF5['Date'] = pd.to_datetime(FF5['Date'], format='%Y%m%d')\n",
    "FF5 = FF5[(FF5['Date'] >= pd.to_datetime(start_date)) & (FF5['Date'] <= pd.to_datetime(end_date))]\n",
    "FF5['Date'] = FF5['Date'].dt.strftime('%y%m%d')\n",
    "FF5 = FF5[FF5['Date'].isin(NVDA_stock_price_df.index)]\n",
    "FF5.set_index('Date', inplace=True)\n",
    "\n",
    "# Display descriptive statistics for Fama French 5 Factors\n",
    "print(FF5.head(10))\n",
    "FF5.to_csv('filtered_FF5.csv')"
   ]
  },
  {
   "cell_type": "code",
   "execution_count": 93,
   "metadata": {},
   "outputs": [],
   "source": [
    "# Initialize Fred API\n",
    "fred = Fred(api_key='96b8dcff4c5efa52d89e588594f2930c')"
   ]
  },
  {
   "cell_type": "code",
   "execution_count": 94,
   "metadata": {},
   "outputs": [
    {
     "name": "stdout",
     "output_type": "stream",
     "text": [
      "           CBBTCUSD     CBETHUSD\n",
      "count    251.000000   251.000000\n",
      "mean   51434.516972  2694.042351\n",
      "std    14926.775117   719.164085\n",
      "min    25161.680000  1539.260000\n",
      "25%    38295.160000  2105.010000\n",
      "50%    56684.730000  2640.160000\n",
      "75%    64807.550000  3333.460000\n",
      "max    73098.480000  4072.220000\n"
     ]
    }
   ],
   "source": [
    "varList = [\n",
    "    'CBBTCUSD', 'CBETHUSD' # Cryptocurrencies\n",
    "]\n",
    "\n",
    "BTC = {}\n",
    "for var in varList:\n",
    "    try:\n",
    "        series_data = fred.get_series(var, observation_start=start_date, observation_end=end_date)\n",
    "        BTC[var] = series_data\n",
    "    except Exception as e:\n",
    "        print(f\"Error fetching data for {var}: {e}\")\n",
    "\n",
    "BTC_df = pd.DataFrame(BTC)\n",
    "BTC_df.index.name = 'Date'\n",
    "\n",
    "BTC_df.index = pd.to_datetime(BTC_df.index).strftime('%y%m%d')\n",
    "\n",
    "BTC_df = BTC_df[BTC_df.index.isin(NVDA_stock_price_df.index)]\n",
    "\n",
    "print(BTC_df.describe())\n"
   ]
  },
  {
   "cell_type": "code",
   "execution_count": 95,
   "metadata": {},
   "outputs": [
    {
     "name": "stdout",
     "output_type": "stream",
     "text": [
      "             SP500     NASDAQCOM          DJIA\n",
      "count   251.000000    251.000000    251.000000\n",
      "mean   4967.770398  15647.563386  37650.591394\n",
      "std     428.518699   1553.565219   2314.278918\n",
      "min    4117.370000  12595.610000  32417.590000\n",
      "25%    4563.260000  14262.175000  36002.660000\n",
      "50%    5051.410000  15865.250000  38503.690000\n",
      "75%    5305.380000  16778.385000  39142.545000\n",
      "max    5667.200000  18647.450000  41563.080000\n"
     ]
    }
   ],
   "source": [
    "varList = [\n",
    "    'SP500', 'NASDAQCOM', 'DJIA' # Stock Market Indexes\n",
    "]\n",
    "\n",
    "fred_data = {}\n",
    "\n",
    "for var in varList:\n",
    "    try:\n",
    "        # Fetch data from FRED API\n",
    "        series_data = fred.get_series(var, observation_start=start_date, observation_end=end_date)\n",
    "        \n",
    "        # Convert the series to DataFrame\n",
    "        fred_data[var] = series_data\n",
    "    except Exception as e:\n",
    "        print(f\"Error fetching data for {var}: {e}\")\n",
    "\n",
    "# Combine all series into a single DataFrame\n",
    "fred_df = pd.DataFrame(fred_data)\n",
    "fred_df.index.name = 'Date'\n",
    "\n",
    "# Format index to match the required date format: %y%m%d\n",
    "fred_df.index = pd.to_datetime(fred_df.index).strftime('%y%m%d')\n",
    "\n",
    "# Ensure dates align with a reference DataFrame (e.g., NVDA_stock_price_df)\n",
    "reference_dates = NVDA_stock_price_df.index  # Replace with actual NVDA_stock_price_df when available\n",
    "fred_df = fred_df[fred_df.index.isin(reference_dates)]\n",
    "\n",
    "# Display descriptive statistics\n",
    "print(fred_df.describe())\n"
   ]
  },
  {
   "cell_type": "code",
   "execution_count": 96,
   "metadata": {},
   "outputs": [],
   "source": [
    "feature = pd.concat([NVDA_stock_price_df, competitors_stock_price_df, ADS, FF5, BTC_df, fred_df], axis=1)\n",
    "feature.to_csv('featurePrepared.csv')"
   ]
  },
  {
   "cell_type": "code",
   "execution_count": null,
   "metadata": {},
   "outputs": [],
   "source": []
  }
 ],
 "metadata": {
  "kernelspec": {
   "display_name": "Python 3",
   "language": "python",
   "name": "python3"
  },
  "language_info": {
   "codemirror_mode": {
    "name": "ipython",
    "version": 3
   },
   "file_extension": ".py",
   "mimetype": "text/x-python",
   "name": "python",
   "nbconvert_exporter": "python",
   "pygments_lexer": "ipython3",
   "version": "3.12.6"
  }
 },
 "nbformat": 4,
 "nbformat_minor": 2
}
